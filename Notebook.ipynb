{
 "cells": [
  {
   "cell_type": "code",
   "execution_count": 1,
   "metadata": {},
   "outputs": [
    {
     "data": {
      "text/plain": [
       "'3.7.4 (v3.7.4:e09359112e, Jul  8 2019, 14:54:52) \\n[Clang 6.0 (clang-600.0.57)]'"
      ]
     },
     "execution_count": 1,
     "metadata": {},
     "output_type": "execute_result"
    }
   ],
   "source": [
    "import sys\n",
    "sys.version"
   ]
  },
  {
   "cell_type": "code",
   "execution_count": 45,
   "metadata": {},
   "outputs": [],
   "source": [
    "import pandas as pd\n",
    "import numpy as np\n",
    "import pickle\n",
    "from os import listdir\n",
    "import seaborn as sns\n",
    "import matplotlib.pyplot as plt\n",
    "from tqdm.notebook import tqdm\n",
    "tqdm.pandas()\n",
    "from time import time"
   ]
  },
  {
   "cell_type": "code",
   "execution_count": 3,
   "metadata": {},
   "outputs": [],
   "source": [
    "#read files\n",
    "\n",
    "#description: https://www.kaggle.com/gspmoreira/news-portal-user-interactions-by-globocom\n",
    "\n",
    "articles_metadata = pd.read_csv('data/articles_metadata.csv')\n",
    "clicks_sample = pd.read_csv('data/clicks_sample.csv')\n",
    "\n",
    "\n",
    "with open('data/articles_embeddings.pickle', 'rb') as pickle_file:\n",
    "    embeddings = pickle.load(pickle_file)"
   ]
  },
  {
   "cell_type": "code",
   "execution_count": 4,
   "metadata": {},
   "outputs": [
    {
     "name": "stdout",
     "output_type": "stream",
     "text": [
      "articles_metadata\n"
     ]
    },
    {
     "data": {
      "text/html": [
       "<div>\n",
       "<style scoped>\n",
       "    .dataframe tbody tr th:only-of-type {\n",
       "        vertical-align: middle;\n",
       "    }\n",
       "\n",
       "    .dataframe tbody tr th {\n",
       "        vertical-align: top;\n",
       "    }\n",
       "\n",
       "    .dataframe thead th {\n",
       "        text-align: right;\n",
       "    }\n",
       "</style>\n",
       "<table border=\"1\" class=\"dataframe\">\n",
       "  <thead>\n",
       "    <tr style=\"text-align: right;\">\n",
       "      <th></th>\n",
       "      <th>article_id</th>\n",
       "      <th>category_id</th>\n",
       "      <th>created_at_ts</th>\n",
       "      <th>publisher_id</th>\n",
       "      <th>words_count</th>\n",
       "    </tr>\n",
       "  </thead>\n",
       "  <tbody>\n",
       "    <tr>\n",
       "      <th>0</th>\n",
       "      <td>0</td>\n",
       "      <td>0</td>\n",
       "      <td>1513144419000</td>\n",
       "      <td>0</td>\n",
       "      <td>168</td>\n",
       "    </tr>\n",
       "    <tr>\n",
       "      <th>1</th>\n",
       "      <td>1</td>\n",
       "      <td>1</td>\n",
       "      <td>1405341936000</td>\n",
       "      <td>0</td>\n",
       "      <td>189</td>\n",
       "    </tr>\n",
       "    <tr>\n",
       "      <th>2</th>\n",
       "      <td>2</td>\n",
       "      <td>1</td>\n",
       "      <td>1408667706000</td>\n",
       "      <td>0</td>\n",
       "      <td>250</td>\n",
       "    </tr>\n",
       "    <tr>\n",
       "      <th>3</th>\n",
       "      <td>3</td>\n",
       "      <td>1</td>\n",
       "      <td>1408468313000</td>\n",
       "      <td>0</td>\n",
       "      <td>230</td>\n",
       "    </tr>\n",
       "    <tr>\n",
       "      <th>4</th>\n",
       "      <td>4</td>\n",
       "      <td>1</td>\n",
       "      <td>1407071171000</td>\n",
       "      <td>0</td>\n",
       "      <td>162</td>\n",
       "    </tr>\n",
       "  </tbody>\n",
       "</table>\n",
       "</div>"
      ],
      "text/plain": [
       "   article_id  category_id  created_at_ts  publisher_id  words_count\n",
       "0           0            0  1513144419000             0          168\n",
       "1           1            1  1405341936000             0          189\n",
       "2           2            1  1408667706000             0          250\n",
       "3           3            1  1408468313000             0          230\n",
       "4           4            1  1407071171000             0          162"
      ]
     },
     "metadata": {},
     "output_type": "display_data"
    },
    {
     "name": "stdout",
     "output_type": "stream",
     "text": [
      "clicks_sample\n"
     ]
    },
    {
     "data": {
      "text/html": [
       "<div>\n",
       "<style scoped>\n",
       "    .dataframe tbody tr th:only-of-type {\n",
       "        vertical-align: middle;\n",
       "    }\n",
       "\n",
       "    .dataframe tbody tr th {\n",
       "        vertical-align: top;\n",
       "    }\n",
       "\n",
       "    .dataframe thead th {\n",
       "        text-align: right;\n",
       "    }\n",
       "</style>\n",
       "<table border=\"1\" class=\"dataframe\">\n",
       "  <thead>\n",
       "    <tr style=\"text-align: right;\">\n",
       "      <th></th>\n",
       "      <th>user_id</th>\n",
       "      <th>session_id</th>\n",
       "      <th>session_start</th>\n",
       "      <th>session_size</th>\n",
       "      <th>click_article_id</th>\n",
       "      <th>click_timestamp</th>\n",
       "      <th>click_environment</th>\n",
       "      <th>click_deviceGroup</th>\n",
       "      <th>click_os</th>\n",
       "      <th>click_country</th>\n",
       "      <th>click_region</th>\n",
       "      <th>click_referrer_type</th>\n",
       "    </tr>\n",
       "  </thead>\n",
       "  <tbody>\n",
       "    <tr>\n",
       "      <th>0</th>\n",
       "      <td>0</td>\n",
       "      <td>1506825423271737</td>\n",
       "      <td>1506825423000</td>\n",
       "      <td>2</td>\n",
       "      <td>157541</td>\n",
       "      <td>1506826828020</td>\n",
       "      <td>4</td>\n",
       "      <td>3</td>\n",
       "      <td>20</td>\n",
       "      <td>1</td>\n",
       "      <td>20</td>\n",
       "      <td>2</td>\n",
       "    </tr>\n",
       "    <tr>\n",
       "      <th>1</th>\n",
       "      <td>0</td>\n",
       "      <td>1506825423271737</td>\n",
       "      <td>1506825423000</td>\n",
       "      <td>2</td>\n",
       "      <td>68866</td>\n",
       "      <td>1506826858020</td>\n",
       "      <td>4</td>\n",
       "      <td>3</td>\n",
       "      <td>20</td>\n",
       "      <td>1</td>\n",
       "      <td>20</td>\n",
       "      <td>2</td>\n",
       "    </tr>\n",
       "    <tr>\n",
       "      <th>2</th>\n",
       "      <td>1</td>\n",
       "      <td>1506825426267738</td>\n",
       "      <td>1506825426000</td>\n",
       "      <td>2</td>\n",
       "      <td>235840</td>\n",
       "      <td>1506827017951</td>\n",
       "      <td>4</td>\n",
       "      <td>1</td>\n",
       "      <td>17</td>\n",
       "      <td>1</td>\n",
       "      <td>16</td>\n",
       "      <td>2</td>\n",
       "    </tr>\n",
       "    <tr>\n",
       "      <th>3</th>\n",
       "      <td>1</td>\n",
       "      <td>1506825426267738</td>\n",
       "      <td>1506825426000</td>\n",
       "      <td>2</td>\n",
       "      <td>96663</td>\n",
       "      <td>1506827047951</td>\n",
       "      <td>4</td>\n",
       "      <td>1</td>\n",
       "      <td>17</td>\n",
       "      <td>1</td>\n",
       "      <td>16</td>\n",
       "      <td>2</td>\n",
       "    </tr>\n",
       "    <tr>\n",
       "      <th>4</th>\n",
       "      <td>2</td>\n",
       "      <td>1506825435299739</td>\n",
       "      <td>1506825435000</td>\n",
       "      <td>2</td>\n",
       "      <td>119592</td>\n",
       "      <td>1506827090575</td>\n",
       "      <td>4</td>\n",
       "      <td>1</td>\n",
       "      <td>17</td>\n",
       "      <td>1</td>\n",
       "      <td>24</td>\n",
       "      <td>2</td>\n",
       "    </tr>\n",
       "  </tbody>\n",
       "</table>\n",
       "</div>"
      ],
      "text/plain": [
       "   user_id        session_id  session_start  session_size  click_article_id  \\\n",
       "0        0  1506825423271737  1506825423000             2            157541   \n",
       "1        0  1506825423271737  1506825423000             2             68866   \n",
       "2        1  1506825426267738  1506825426000             2            235840   \n",
       "3        1  1506825426267738  1506825426000             2             96663   \n",
       "4        2  1506825435299739  1506825435000             2            119592   \n",
       "\n",
       "   click_timestamp  click_environment  click_deviceGroup  click_os  \\\n",
       "0    1506826828020                  4                  3        20   \n",
       "1    1506826858020                  4                  3        20   \n",
       "2    1506827017951                  4                  1        17   \n",
       "3    1506827047951                  4                  1        17   \n",
       "4    1506827090575                  4                  1        17   \n",
       "\n",
       "   click_country  click_region  click_referrer_type  \n",
       "0              1            20                    2  \n",
       "1              1            20                    2  \n",
       "2              1            16                    2  \n",
       "3              1            16                    2  \n",
       "4              1            24                    2  "
      ]
     },
     "metadata": {},
     "output_type": "display_data"
    },
    {
     "name": "stdout",
     "output_type": "stream",
     "text": [
      "embeddings shape\n",
      "(364047, 250)\n"
     ]
    }
   ],
   "source": [
    "print('articles_metadata')\n",
    "display(articles_metadata.head())\n",
    "print('clicks_sample')\n",
    "display(clicks_sample.head())\n",
    "print('embeddings shape')\n",
    "print(embeddings.shape)"
   ]
  },
  {
   "cell_type": "markdown",
   "metadata": {},
   "source": [
    "### Data to get ...\n",
    "\n",
    "For each user:\n",
    "- articles read\n",
    "- embeddings for those articles\n",
    "\n",
    "Relevant columns from clicks:\n",
    "- uer_id\n",
    "- click_article_id"
   ]
  },
  {
   "cell_type": "code",
   "execution_count": 60,
   "metadata": {},
   "outputs": [],
   "source": [
    "def get_click_data():\n",
    "    click_dir = 'data/clicks/clicks/'\n",
    "    columns = ['user_id','click_article_id']\n",
    "    return pd.concat(\n",
    "        pd.read_csv(click_dir + click_data)[columns] for click_data in tqdm(listdir('data/clicks/clicks'))\n",
    "    ).drop_duplicates()"
   ]
  },
  {
   "cell_type": "code",
   "execution_count": 61,
   "metadata": {},
   "outputs": [
    {
     "data": {
      "application/vnd.jupyter.widget-view+json": {
       "model_id": "45a9d62aa38c44a082fc9fd45f45a972",
       "version_major": 2,
       "version_minor": 0
      },
      "text/plain": [
       "HBox(children=(FloatProgress(value=0.0, max=385.0), HTML(value='')))"
      ]
     },
     "metadata": {},
     "output_type": "display_data"
    },
    {
     "name": "stdout",
     "output_type": "stream",
     "text": [
      "\n"
     ]
    }
   ],
   "source": [
    "user_clicks = get_click_data()"
   ]
  },
  {
   "cell_type": "code",
   "execution_count": 62,
   "metadata": {},
   "outputs": [
    {
     "data": {
      "text/html": [
       "<div>\n",
       "<style scoped>\n",
       "    .dataframe tbody tr th:only-of-type {\n",
       "        vertical-align: middle;\n",
       "    }\n",
       "\n",
       "    .dataframe tbody tr th {\n",
       "        vertical-align: top;\n",
       "    }\n",
       "\n",
       "    .dataframe thead th {\n",
       "        text-align: right;\n",
       "    }\n",
       "</style>\n",
       "<table border=\"1\" class=\"dataframe\">\n",
       "  <thead>\n",
       "    <tr style=\"text-align: right;\">\n",
       "      <th></th>\n",
       "      <th>user_id</th>\n",
       "      <th>click_article_id</th>\n",
       "    </tr>\n",
       "  </thead>\n",
       "  <tbody>\n",
       "    <tr>\n",
       "      <th>0</th>\n",
       "      <td>0</td>\n",
       "      <td>157541</td>\n",
       "    </tr>\n",
       "    <tr>\n",
       "      <th>1</th>\n",
       "      <td>0</td>\n",
       "      <td>68866</td>\n",
       "    </tr>\n",
       "    <tr>\n",
       "      <th>2</th>\n",
       "      <td>1</td>\n",
       "      <td>235840</td>\n",
       "    </tr>\n",
       "    <tr>\n",
       "      <th>3</th>\n",
       "      <td>1</td>\n",
       "      <td>96663</td>\n",
       "    </tr>\n",
       "    <tr>\n",
       "      <th>4</th>\n",
       "      <td>2</td>\n",
       "      <td>119592</td>\n",
       "    </tr>\n",
       "  </tbody>\n",
       "</table>\n",
       "</div>"
      ],
      "text/plain": [
       "  user_id click_article_id\n",
       "0       0           157541\n",
       "1       0            68866\n",
       "2       1           235840\n",
       "3       1            96663\n",
       "4       2           119592"
      ]
     },
     "execution_count": 62,
     "metadata": {},
     "output_type": "execute_result"
    }
   ],
   "source": [
    "user_clicks.head()"
   ]
  },
  {
   "cell_type": "code",
   "execution_count": 63,
   "metadata": {},
   "outputs": [
    {
     "data": {
      "text/plain": [
       "user_id             322897\n",
       "click_article_id     46033\n",
       "dtype: int64"
      ]
     },
     "execution_count": 63,
     "metadata": {},
     "output_type": "execute_result"
    }
   ],
   "source": [
    "user_clicks.nunique()"
   ]
  },
  {
   "cell_type": "code",
   "execution_count": 64,
   "metadata": {},
   "outputs": [
    {
     "data": {
      "image/png": "[encoded data removed]",
      "text/plain": [
       "<Figure size 432x288 with 1 Axes>"
      ]
     },
     "metadata": {
      "needs_background": "light"
     },
     "output_type": "display_data"
    },
    {
     "name": "stdout",
     "output_type": "stream",
     "text": [
      "Min: 1\n",
      "Max: 34145\n"
     ]
    }
   ],
   "source": [
    "sns.distplot(\n",
    "    user_clicks.click_article_id.value_counts(),\n",
    "    kde=False,\n",
    "    bins=np.arange(0,500,10)\n",
    ").set_title('Distribution of Article Clicks')\n",
    "plt.xlabel('Number of Clicks')\n",
    "plt.show()\n",
    "\n",
    "print('Min:', user_clicks.click_article_id.value_counts().min())\n",
    "print('Max:', user_clicks.click_article_id.value_counts().max())"
   ]
  },
  {
   "cell_type": "markdown",
   "metadata": {},
   "source": [
    "Article clicks are skewed heavily left."
   ]
  },
  {
   "cell_type": "code",
   "execution_count": 65,
   "metadata": {},
   "outputs": [
    {
     "data": {
      "image/png": "[encoded data removed]",
      "text/plain": [
       "<Figure size 432x288 with 1 Axes>"
      ]
     },
     "metadata": {
      "needs_background": "light"
     },
     "output_type": "display_data"
    },
    {
     "name": "stdout",
     "output_type": "stream",
     "text": [
      "Min: 2\n",
      "Max: 1048\n"
     ]
    }
   ],
   "source": [
    "sns.distplot(\n",
    "    user_clicks.user_id.value_counts(),\n",
    "    kde=False,\n",
    "    bins = np.arange(0,100,1)\n",
    ").set_title('Distribution of Clicks per User')\n",
    "plt.xlabel('Clicks per User')\n",
    "plt.show()\n",
    "\n",
    "print('Min:', user_clicks.user_id.value_counts().min())\n",
    "print('Max:', user_clicks.user_id.value_counts().max())"
   ]
  },
  {
   "cell_type": "markdown",
   "metadata": {},
   "source": [
    "## Merged Dataframe of User/Article/Embedding"
   ]
  },
  {
   "cell_type": "code",
   "execution_count": 23,
   "metadata": {},
   "outputs": [],
   "source": [
    "df = user_clicks.merge(\n",
    "    pd.DataFrame(embeddings),\n",
    "    how='left',\n",
    "    left_on='click_article_id',\n",
    "    right_index=True\n",
    ")"
   ]
  },
  {
   "cell_type": "code",
   "execution_count": 24,
   "metadata": {},
   "outputs": [
    {
     "data": {
      "text/html": [
       "<div>\n",
       "<style scoped>\n",
       "    .dataframe tbody tr th:only-of-type {\n",
       "        vertical-align: middle;\n",
       "    }\n",
       "\n",
       "    .dataframe tbody tr th {\n",
       "        vertical-align: top;\n",
       "    }\n",
       "\n",
       "    .dataframe thead th {\n",
       "        text-align: right;\n",
       "    }\n",
       "</style>\n",
       "<table border=\"1\" class=\"dataframe\">\n",
       "  <thead>\n",
       "    <tr style=\"text-align: right;\">\n",
       "      <th></th>\n",
       "      <th>user_id</th>\n",
       "      <th>click_article_id</th>\n",
       "      <th>0</th>\n",
       "      <th>1</th>\n",
       "      <th>2</th>\n",
       "      <th>3</th>\n",
       "      <th>4</th>\n",
       "      <th>5</th>\n",
       "      <th>6</th>\n",
       "      <th>7</th>\n",
       "      <th>...</th>\n",
       "      <th>240</th>\n",
       "      <th>241</th>\n",
       "      <th>242</th>\n",
       "      <th>243</th>\n",
       "      <th>244</th>\n",
       "      <th>245</th>\n",
       "      <th>246</th>\n",
       "      <th>247</th>\n",
       "      <th>248</th>\n",
       "      <th>249</th>\n",
       "    </tr>\n",
       "  </thead>\n",
       "  <tbody>\n",
       "    <tr>\n",
       "      <th>0</th>\n",
       "      <td>0</td>\n",
       "      <td>157541</td>\n",
       "      <td>0.045636</td>\n",
       "      <td>-0.981722</td>\n",
       "      <td>-0.348812</td>\n",
       "      <td>0.135374</td>\n",
       "      <td>0.187598</td>\n",
       "      <td>0.461542</td>\n",
       "      <td>-0.792449</td>\n",
       "      <td>0.510303</td>\n",
       "      <td>...</td>\n",
       "      <td>0.670260</td>\n",
       "      <td>0.299059</td>\n",
       "      <td>-0.826797</td>\n",
       "      <td>-0.812070</td>\n",
       "      <td>0.382404</td>\n",
       "      <td>-0.081983</td>\n",
       "      <td>-0.802341</td>\n",
       "      <td>-0.418486</td>\n",
       "      <td>0.167978</td>\n",
       "      <td>0.278694</td>\n",
       "    </tr>\n",
       "    <tr>\n",
       "      <th>1</th>\n",
       "      <td>0</td>\n",
       "      <td>68866</td>\n",
       "      <td>-0.090528</td>\n",
       "      <td>-0.970437</td>\n",
       "      <td>-0.169124</td>\n",
       "      <td>-0.241913</td>\n",
       "      <td>-0.139705</td>\n",
       "      <td>-0.317429</td>\n",
       "      <td>-0.614713</td>\n",
       "      <td>0.837383</td>\n",
       "      <td>...</td>\n",
       "      <td>0.421613</td>\n",
       "      <td>-0.228761</td>\n",
       "      <td>-0.791743</td>\n",
       "      <td>0.021998</td>\n",
       "      <td>-0.019606</td>\n",
       "      <td>0.146993</td>\n",
       "      <td>-0.811947</td>\n",
       "      <td>-0.396069</td>\n",
       "      <td>0.301935</td>\n",
       "      <td>0.486068</td>\n",
       "    </tr>\n",
       "    <tr>\n",
       "      <th>2</th>\n",
       "      <td>1</td>\n",
       "      <td>235840</td>\n",
       "      <td>-0.168369</td>\n",
       "      <td>-0.967274</td>\n",
       "      <td>0.226036</td>\n",
       "      <td>0.145089</td>\n",
       "      <td>-0.417114</td>\n",
       "      <td>-0.693828</td>\n",
       "      <td>-0.741834</td>\n",
       "      <td>-0.340086</td>\n",
       "      <td>...</td>\n",
       "      <td>-0.010313</td>\n",
       "      <td>-0.422416</td>\n",
       "      <td>0.372931</td>\n",
       "      <td>-0.540084</td>\n",
       "      <td>0.242361</td>\n",
       "      <td>0.616011</td>\n",
       "      <td>0.704936</td>\n",
       "      <td>0.571687</td>\n",
       "      <td>0.545211</td>\n",
       "      <td>0.650550</td>\n",
       "    </tr>\n",
       "    <tr>\n",
       "      <th>3</th>\n",
       "      <td>1</td>\n",
       "      <td>96663</td>\n",
       "      <td>-0.463952</td>\n",
       "      <td>-0.958577</td>\n",
       "      <td>-0.317925</td>\n",
       "      <td>0.143565</td>\n",
       "      <td>0.009962</td>\n",
       "      <td>0.510263</td>\n",
       "      <td>-0.703141</td>\n",
       "      <td>-0.227401</td>\n",
       "      <td>...</td>\n",
       "      <td>0.779381</td>\n",
       "      <td>0.505448</td>\n",
       "      <td>-0.262309</td>\n",
       "      <td>-0.442881</td>\n",
       "      <td>0.695514</td>\n",
       "      <td>0.748444</td>\n",
       "      <td>-0.209889</td>\n",
       "      <td>-0.231323</td>\n",
       "      <td>-0.082891</td>\n",
       "      <td>-0.203830</td>\n",
       "    </tr>\n",
       "    <tr>\n",
       "      <th>4</th>\n",
       "      <td>2</td>\n",
       "      <td>119592</td>\n",
       "      <td>-0.954936</td>\n",
       "      <td>-0.972117</td>\n",
       "      <td>0.428549</td>\n",
       "      <td>-0.796103</td>\n",
       "      <td>0.579418</td>\n",
       "      <td>-0.176027</td>\n",
       "      <td>-0.564019</td>\n",
       "      <td>-0.596843</td>\n",
       "      <td>...</td>\n",
       "      <td>-0.501580</td>\n",
       "      <td>-0.096082</td>\n",
       "      <td>0.303779</td>\n",
       "      <td>-0.502767</td>\n",
       "      <td>0.390972</td>\n",
       "      <td>0.489991</td>\n",
       "      <td>0.255620</td>\n",
       "      <td>0.087651</td>\n",
       "      <td>0.189143</td>\n",
       "      <td>-0.459281</td>\n",
       "    </tr>\n",
       "  </tbody>\n",
       "</table>\n",
       "<p>5 rows × 252 columns</p>\n",
       "</div>"
      ],
      "text/plain": [
       "  user_id click_article_id         0         1         2         3         4  \\\n",
       "0       0           157541  0.045636 -0.981722 -0.348812  0.135374  0.187598   \n",
       "1       0            68866 -0.090528 -0.970437 -0.169124 -0.241913 -0.139705   \n",
       "2       1           235840 -0.168369 -0.967274  0.226036  0.145089 -0.417114   \n",
       "3       1            96663 -0.463952 -0.958577 -0.317925  0.143565  0.009962   \n",
       "4       2           119592 -0.954936 -0.972117  0.428549 -0.796103  0.579418   \n",
       "\n",
       "          5         6         7  ...       240       241       242       243  \\\n",
       "0  0.461542 -0.792449  0.510303  ...  0.670260  0.299059 -0.826797 -0.812070   \n",
       "1 -0.317429 -0.614713  0.837383  ...  0.421613 -0.228761 -0.791743  0.021998   \n",
       "2 -0.693828 -0.741834 -0.340086  ... -0.010313 -0.422416  0.372931 -0.540084   \n",
       "3  0.510263 -0.703141 -0.227401  ...  0.779381  0.505448 -0.262309 -0.442881   \n",
       "4 -0.176027 -0.564019 -0.596843  ... -0.501580 -0.096082  0.303779 -0.502767   \n",
       "\n",
       "        244       245       246       247       248       249  \n",
       "0  0.382404 -0.081983 -0.802341 -0.418486  0.167978  0.278694  \n",
       "1 -0.019606  0.146993 -0.811947 -0.396069  0.301935  0.486068  \n",
       "2  0.242361  0.616011  0.704936  0.571687  0.545211  0.650550  \n",
       "3  0.695514  0.748444 -0.209889 -0.231323 -0.082891 -0.203830  \n",
       "4  0.390972  0.489991  0.255620  0.087651  0.189143 -0.459281  \n",
       "\n",
       "[5 rows x 252 columns]"
      ]
     },
     "execution_count": 24,
     "metadata": {},
     "output_type": "execute_result"
    }
   ],
   "source": [
    "df.head()"
   ]
  },
  {
   "cell_type": "code",
   "execution_count": 25,
   "metadata": {},
   "outputs": [],
   "source": [
    "df.to_csv('data/user_embeddings.csv')"
   ]
  },
  {
   "cell_type": "markdown",
   "metadata": {},
   "source": [
    "#### read back"
   ]
  },
  {
   "cell_type": "code",
   "execution_count": 66,
   "metadata": {},
   "outputs": [
    {
     "name": "stderr",
     "output_type": "stream",
     "text": [
      "/Library/Frameworks/Python.framework/Versions/3.7/lib/python3.7/site-packages/numpy/lib/arraysetops.py:568: FutureWarning: elementwise comparison failed; returning scalar instead, but in the future will perform elementwise comparison\n",
      "  mask |= (ar1 == a)\n"
     ]
    },
    {
     "name": "stdout",
     "output_type": "stream",
     "text": [
      "149.3751151561737\n"
     ]
    }
   ],
   "source": [
    "start = time()\n",
    "df = pd.read_csv('data/user_embeddings.csv',index_col=0)\n",
    "print(time()-start)"
   ]
  },
  {
   "cell_type": "code",
   "execution_count": 67,
   "metadata": {},
   "outputs": [
    {
     "data": {
      "text/html": [
       "<div>\n",
       "<style scoped>\n",
       "    .dataframe tbody tr th:only-of-type {\n",
       "        vertical-align: middle;\n",
       "    }\n",
       "\n",
       "    .dataframe tbody tr th {\n",
       "        vertical-align: top;\n",
       "    }\n",
       "\n",
       "    .dataframe thead th {\n",
       "        text-align: right;\n",
       "    }\n",
       "</style>\n",
       "<table border=\"1\" class=\"dataframe\">\n",
       "  <thead>\n",
       "    <tr style=\"text-align: right;\">\n",
       "      <th></th>\n",
       "      <th>user_id</th>\n",
       "      <th>click_article_id</th>\n",
       "      <th>0</th>\n",
       "      <th>1</th>\n",
       "      <th>2</th>\n",
       "      <th>3</th>\n",
       "      <th>4</th>\n",
       "      <th>5</th>\n",
       "      <th>6</th>\n",
       "      <th>7</th>\n",
       "      <th>...</th>\n",
       "      <th>240</th>\n",
       "      <th>241</th>\n",
       "      <th>242</th>\n",
       "      <th>243</th>\n",
       "      <th>244</th>\n",
       "      <th>245</th>\n",
       "      <th>246</th>\n",
       "      <th>247</th>\n",
       "      <th>248</th>\n",
       "      <th>249</th>\n",
       "    </tr>\n",
       "  </thead>\n",
       "  <tbody>\n",
       "    <tr>\n",
       "      <th>0</th>\n",
       "      <td>0</td>\n",
       "      <td>157541</td>\n",
       "      <td>0.045636</td>\n",
       "      <td>-0.981722</td>\n",
       "      <td>-0.348812</td>\n",
       "      <td>0.135374</td>\n",
       "      <td>0.187598</td>\n",
       "      <td>0.461542</td>\n",
       "      <td>-0.792449</td>\n",
       "      <td>0.510303</td>\n",
       "      <td>...</td>\n",
       "      <td>0.670260</td>\n",
       "      <td>0.299059</td>\n",
       "      <td>-0.826797</td>\n",
       "      <td>-0.812070</td>\n",
       "      <td>0.382404</td>\n",
       "      <td>-0.081983</td>\n",
       "      <td>-0.802341</td>\n",
       "      <td>-0.418486</td>\n",
       "      <td>0.167978</td>\n",
       "      <td>0.278694</td>\n",
       "    </tr>\n",
       "    <tr>\n",
       "      <th>1</th>\n",
       "      <td>0</td>\n",
       "      <td>68866</td>\n",
       "      <td>-0.090528</td>\n",
       "      <td>-0.970437</td>\n",
       "      <td>-0.169124</td>\n",
       "      <td>-0.241913</td>\n",
       "      <td>-0.139705</td>\n",
       "      <td>-0.317429</td>\n",
       "      <td>-0.614713</td>\n",
       "      <td>0.837383</td>\n",
       "      <td>...</td>\n",
       "      <td>0.421613</td>\n",
       "      <td>-0.228761</td>\n",
       "      <td>-0.791743</td>\n",
       "      <td>0.021998</td>\n",
       "      <td>-0.019606</td>\n",
       "      <td>0.146993</td>\n",
       "      <td>-0.811947</td>\n",
       "      <td>-0.396069</td>\n",
       "      <td>0.301935</td>\n",
       "      <td>0.486068</td>\n",
       "    </tr>\n",
       "    <tr>\n",
       "      <th>2</th>\n",
       "      <td>1</td>\n",
       "      <td>235840</td>\n",
       "      <td>-0.168369</td>\n",
       "      <td>-0.967274</td>\n",
       "      <td>0.226036</td>\n",
       "      <td>0.145089</td>\n",
       "      <td>-0.417114</td>\n",
       "      <td>-0.693828</td>\n",
       "      <td>-0.741834</td>\n",
       "      <td>-0.340086</td>\n",
       "      <td>...</td>\n",
       "      <td>-0.010313</td>\n",
       "      <td>-0.422416</td>\n",
       "      <td>0.372931</td>\n",
       "      <td>-0.540084</td>\n",
       "      <td>0.242361</td>\n",
       "      <td>0.616011</td>\n",
       "      <td>0.704936</td>\n",
       "      <td>0.571687</td>\n",
       "      <td>0.545211</td>\n",
       "      <td>0.650550</td>\n",
       "    </tr>\n",
       "    <tr>\n",
       "      <th>3</th>\n",
       "      <td>1</td>\n",
       "      <td>96663</td>\n",
       "      <td>-0.463952</td>\n",
       "      <td>-0.958577</td>\n",
       "      <td>-0.317925</td>\n",
       "      <td>0.143565</td>\n",
       "      <td>0.009962</td>\n",
       "      <td>0.510263</td>\n",
       "      <td>-0.703141</td>\n",
       "      <td>-0.227401</td>\n",
       "      <td>...</td>\n",
       "      <td>0.779381</td>\n",
       "      <td>0.505448</td>\n",
       "      <td>-0.262309</td>\n",
       "      <td>-0.442881</td>\n",
       "      <td>0.695514</td>\n",
       "      <td>0.748444</td>\n",
       "      <td>-0.209889</td>\n",
       "      <td>-0.231323</td>\n",
       "      <td>-0.082891</td>\n",
       "      <td>-0.203830</td>\n",
       "    </tr>\n",
       "    <tr>\n",
       "      <th>4</th>\n",
       "      <td>2</td>\n",
       "      <td>119592</td>\n",
       "      <td>-0.954936</td>\n",
       "      <td>-0.972117</td>\n",
       "      <td>0.428549</td>\n",
       "      <td>-0.796103</td>\n",
       "      <td>0.579418</td>\n",
       "      <td>-0.176027</td>\n",
       "      <td>-0.564019</td>\n",
       "      <td>-0.596843</td>\n",
       "      <td>...</td>\n",
       "      <td>-0.501580</td>\n",
       "      <td>-0.096082</td>\n",
       "      <td>0.303779</td>\n",
       "      <td>-0.502767</td>\n",
       "      <td>0.390972</td>\n",
       "      <td>0.489991</td>\n",
       "      <td>0.255620</td>\n",
       "      <td>0.087651</td>\n",
       "      <td>0.189143</td>\n",
       "      <td>-0.459281</td>\n",
       "    </tr>\n",
       "  </tbody>\n",
       "</table>\n",
       "<p>5 rows × 252 columns</p>\n",
       "</div>"
      ],
      "text/plain": [
       "   user_id  click_article_id         0         1         2         3  \\\n",
       "0        0            157541  0.045636 -0.981722 -0.348812  0.135374   \n",
       "1        0             68866 -0.090528 -0.970437 -0.169124 -0.241913   \n",
       "2        1            235840 -0.168369 -0.967274  0.226036  0.145089   \n",
       "3        1             96663 -0.463952 -0.958577 -0.317925  0.143565   \n",
       "4        2            119592 -0.954936 -0.972117  0.428549 -0.796103   \n",
       "\n",
       "          4         5         6         7  ...       240       241       242  \\\n",
       "0  0.187598  0.461542 -0.792449  0.510303  ...  0.670260  0.299059 -0.826797   \n",
       "1 -0.139705 -0.317429 -0.614713  0.837383  ...  0.421613 -0.228761 -0.791743   \n",
       "2 -0.417114 -0.693828 -0.741834 -0.340086  ... -0.010313 -0.422416  0.372931   \n",
       "3  0.009962  0.510263 -0.703141 -0.227401  ...  0.779381  0.505448 -0.262309   \n",
       "4  0.579418 -0.176027 -0.564019 -0.596843  ... -0.501580 -0.096082  0.303779   \n",
       "\n",
       "        243       244       245       246       247       248       249  \n",
       "0 -0.812070  0.382404 -0.081983 -0.802341 -0.418486  0.167978  0.278694  \n",
       "1  0.021998 -0.019606  0.146993 -0.811947 -0.396069  0.301935  0.486068  \n",
       "2 -0.540084  0.242361  0.616011  0.704936  0.571687  0.545211  0.650550  \n",
       "3 -0.442881  0.695514  0.748444 -0.209889 -0.231323 -0.082891 -0.203830  \n",
       "4 -0.502767  0.390972  0.489991  0.255620  0.087651  0.189143 -0.459281  \n",
       "\n",
       "[5 rows x 252 columns]"
      ]
     },
     "execution_count": 67,
     "metadata": {},
     "output_type": "execute_result"
    }
   ],
   "source": [
    "df.head()"
   ]
  },
  {
   "cell_type": "markdown",
   "metadata": {},
   "source": [
    "## To do\n",
    "- sample and train/test split\n",
    "- baseline model\n",
    "- nonlinear model"
   ]
  },
  {
   "cell_type": "code",
   "execution_count": null,
   "metadata": {},
   "outputs": [],
   "source": []
  }
 ],
 "metadata": {
  "kernelspec": {
   "display_name": "Python 3",
   "language": "python",
   "name": "python3"
  },
  "language_info": {
   "codemirror_mode": {
    "name": "ipython",
    "version": 3
   },
   "file_extension": ".py",
   "mimetype": "text/x-python",
   "name": "python",
   "nbconvert_exporter": "python",
   "pygments_lexer": "ipython3",
   "version": "3.7.4"
  }
 },
 "nbformat": 4,
 "nbformat_minor": 2
}

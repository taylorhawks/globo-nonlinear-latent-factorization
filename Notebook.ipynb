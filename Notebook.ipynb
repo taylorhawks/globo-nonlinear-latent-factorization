{
 "cells": [
  {
   "cell_type": "code",
   "execution_count": 1,
   "metadata": {},
   "outputs": [
    {
     "name": "stdout",
     "output_type": "stream",
     "text": [
      "3.7.4 (v3.7.4:e09359112e, Jul  8 2019, 14:54:52) \n",
      "[Clang 6.0 (clang-600.0.57)]\n"
     ]
    }
   ],
   "source": [
    "import sys\n",
    "print(sys.version)"
   ]
  },
  {
   "cell_type": "code",
   "execution_count": 2,
   "metadata": {},
   "outputs": [],
   "source": [
    "import warnings\n",
    "warnings.filterwarnings(\"ignore\")"
   ]
  },
  {
   "cell_type": "code",
   "execution_count": 3,
   "metadata": {},
   "outputs": [],
   "source": [
    "import pandas as pd\n",
    "import numpy as np\n",
    "import pickle\n",
    "from os import listdir\n",
    "import seaborn as sns\n",
    "import matplotlib.pyplot as plt\n",
    "from tqdm.notebook import tqdm\n",
    "#tqdm.pandas()\n",
    "from time import time"
   ]
  },
  {
   "cell_type": "code",
   "execution_count": 4,
   "metadata": {},
   "outputs": [],
   "source": [
    "#read files\n",
    "\n",
    "#description: https://www.kaggle.com/gspmoreira/news-portal-user-interactions-by-globocom\n",
    "\n",
    "articles_metadata = pd.read_csv('data/articles_metadata.csv')\n",
    "clicks_sample = pd.read_csv('data/clicks_sample.csv')\n",
    "\n",
    "\n",
    "with open('data/articles_embeddings.pickle', 'rb') as pickle_file:\n",
    "    embeddings = pickle.load(pickle_file)"
   ]
  },
  {
   "cell_type": "code",
   "execution_count": 4,
   "metadata": {},
   "outputs": [
    {
     "name": "stdout",
     "output_type": "stream",
     "text": [
      "articles_metadata\n"
     ]
    },
    {
     "data": {
      "text/html": [
       "<div>\n",
       "<style scoped>\n",
       "    .dataframe tbody tr th:only-of-type {\n",
       "        vertical-align: middle;\n",
       "    }\n",
       "\n",
       "    .dataframe tbody tr th {\n",
       "        vertical-align: top;\n",
       "    }\n",
       "\n",
       "    .dataframe thead th {\n",
       "        text-align: right;\n",
       "    }\n",
       "</style>\n",
       "<table border=\"1\" class=\"dataframe\">\n",
       "  <thead>\n",
       "    <tr style=\"text-align: right;\">\n",
       "      <th></th>\n",
       "      <th>article_id</th>\n",
       "      <th>category_id</th>\n",
       "      <th>created_at_ts</th>\n",
       "      <th>publisher_id</th>\n",
       "      <th>words_count</th>\n",
       "    </tr>\n",
       "  </thead>\n",
       "  <tbody>\n",
       "    <tr>\n",
       "      <th>0</th>\n",
       "      <td>0</td>\n",
       "      <td>0</td>\n",
       "      <td>1513144419000</td>\n",
       "      <td>0</td>\n",
       "      <td>168</td>\n",
       "    </tr>\n",
       "    <tr>\n",
       "      <th>1</th>\n",
       "      <td>1</td>\n",
       "      <td>1</td>\n",
       "      <td>1405341936000</td>\n",
       "      <td>0</td>\n",
       "      <td>189</td>\n",
       "    </tr>\n",
       "    <tr>\n",
       "      <th>2</th>\n",
       "      <td>2</td>\n",
       "      <td>1</td>\n",
       "      <td>1408667706000</td>\n",
       "      <td>0</td>\n",
       "      <td>250</td>\n",
       "    </tr>\n",
       "    <tr>\n",
       "      <th>3</th>\n",
       "      <td>3</td>\n",
       "      <td>1</td>\n",
       "      <td>1408468313000</td>\n",
       "      <td>0</td>\n",
       "      <td>230</td>\n",
       "    </tr>\n",
       "    <tr>\n",
       "      <th>4</th>\n",
       "      <td>4</td>\n",
       "      <td>1</td>\n",
       "      <td>1407071171000</td>\n",
       "      <td>0</td>\n",
       "      <td>162</td>\n",
       "    </tr>\n",
       "  </tbody>\n",
       "</table>\n",
       "</div>"
      ],
      "text/plain": [
       "   article_id  category_id  created_at_ts  publisher_id  words_count\n",
       "0           0            0  1513144419000             0          168\n",
       "1           1            1  1405341936000             0          189\n",
       "2           2            1  1408667706000             0          250\n",
       "3           3            1  1408468313000             0          230\n",
       "4           4            1  1407071171000             0          162"
      ]
     },
     "metadata": {},
     "output_type": "display_data"
    },
    {
     "name": "stdout",
     "output_type": "stream",
     "text": [
      "clicks_sample\n"
     ]
    },
    {
     "data": {
      "text/html": [
       "<div>\n",
       "<style scoped>\n",
       "    .dataframe tbody tr th:only-of-type {\n",
       "        vertical-align: middle;\n",
       "    }\n",
       "\n",
       "    .dataframe tbody tr th {\n",
       "        vertical-align: top;\n",
       "    }\n",
       "\n",
       "    .dataframe thead th {\n",
       "        text-align: right;\n",
       "    }\n",
       "</style>\n",
       "<table border=\"1\" class=\"dataframe\">\n",
       "  <thead>\n",
       "    <tr style=\"text-align: right;\">\n",
       "      <th></th>\n",
       "      <th>user_id</th>\n",
       "      <th>session_id</th>\n",
       "      <th>session_start</th>\n",
       "      <th>session_size</th>\n",
       "      <th>click_article_id</th>\n",
       "      <th>click_timestamp</th>\n",
       "      <th>click_environment</th>\n",
       "      <th>click_deviceGroup</th>\n",
       "      <th>click_os</th>\n",
       "      <th>click_country</th>\n",
       "      <th>click_region</th>\n",
       "      <th>click_referrer_type</th>\n",
       "    </tr>\n",
       "  </thead>\n",
       "  <tbody>\n",
       "    <tr>\n",
       "      <th>0</th>\n",
       "      <td>0</td>\n",
       "      <td>1506825423271737</td>\n",
       "      <td>1506825423000</td>\n",
       "      <td>2</td>\n",
       "      <td>157541</td>\n",
       "      <td>1506826828020</td>\n",
       "      <td>4</td>\n",
       "      <td>3</td>\n",
       "      <td>20</td>\n",
       "      <td>1</td>\n",
       "      <td>20</td>\n",
       "      <td>2</td>\n",
       "    </tr>\n",
       "    <tr>\n",
       "      <th>1</th>\n",
       "      <td>0</td>\n",
       "      <td>1506825423271737</td>\n",
       "      <td>1506825423000</td>\n",
       "      <td>2</td>\n",
       "      <td>68866</td>\n",
       "      <td>1506826858020</td>\n",
       "      <td>4</td>\n",
       "      <td>3</td>\n",
       "      <td>20</td>\n",
       "      <td>1</td>\n",
       "      <td>20</td>\n",
       "      <td>2</td>\n",
       "    </tr>\n",
       "    <tr>\n",
       "      <th>2</th>\n",
       "      <td>1</td>\n",
       "      <td>1506825426267738</td>\n",
       "      <td>1506825426000</td>\n",
       "      <td>2</td>\n",
       "      <td>235840</td>\n",
       "      <td>1506827017951</td>\n",
       "      <td>4</td>\n",
       "      <td>1</td>\n",
       "      <td>17</td>\n",
       "      <td>1</td>\n",
       "      <td>16</td>\n",
       "      <td>2</td>\n",
       "    </tr>\n",
       "    <tr>\n",
       "      <th>3</th>\n",
       "      <td>1</td>\n",
       "      <td>1506825426267738</td>\n",
       "      <td>1506825426000</td>\n",
       "      <td>2</td>\n",
       "      <td>96663</td>\n",
       "      <td>1506827047951</td>\n",
       "      <td>4</td>\n",
       "      <td>1</td>\n",
       "      <td>17</td>\n",
       "      <td>1</td>\n",
       "      <td>16</td>\n",
       "      <td>2</td>\n",
       "    </tr>\n",
       "    <tr>\n",
       "      <th>4</th>\n",
       "      <td>2</td>\n",
       "      <td>1506825435299739</td>\n",
       "      <td>1506825435000</td>\n",
       "      <td>2</td>\n",
       "      <td>119592</td>\n",
       "      <td>1506827090575</td>\n",
       "      <td>4</td>\n",
       "      <td>1</td>\n",
       "      <td>17</td>\n",
       "      <td>1</td>\n",
       "      <td>24</td>\n",
       "      <td>2</td>\n",
       "    </tr>\n",
       "  </tbody>\n",
       "</table>\n",
       "</div>"
      ],
      "text/plain": [
       "   user_id        session_id  session_start  session_size  click_article_id  \\\n",
       "0        0  1506825423271737  1506825423000             2            157541   \n",
       "1        0  1506825423271737  1506825423000             2             68866   \n",
       "2        1  1506825426267738  1506825426000             2            235840   \n",
       "3        1  1506825426267738  1506825426000             2             96663   \n",
       "4        2  1506825435299739  1506825435000             2            119592   \n",
       "\n",
       "   click_timestamp  click_environment  click_deviceGroup  click_os  \\\n",
       "0    1506826828020                  4                  3        20   \n",
       "1    1506826858020                  4                  3        20   \n",
       "2    1506827017951                  4                  1        17   \n",
       "3    1506827047951                  4                  1        17   \n",
       "4    1506827090575                  4                  1        17   \n",
       "\n",
       "   click_country  click_region  click_referrer_type  \n",
       "0              1            20                    2  \n",
       "1              1            20                    2  \n",
       "2              1            16                    2  \n",
       "3              1            16                    2  \n",
       "4              1            24                    2  "
      ]
     },
     "metadata": {},
     "output_type": "display_data"
    },
    {
     "name": "stdout",
     "output_type": "stream",
     "text": [
      "embeddings shape\n",
      "(364047, 250)\n"
     ]
    }
   ],
   "source": [
    "print('articles_metadata')\n",
    "display(articles_metadata.head())\n",
    "print('clicks_sample')\n",
    "display(clicks_sample.head())\n",
    "print('embeddings shape')\n",
    "print(embeddings.shape)"
   ]
  },
  {
   "cell_type": "code",
   "execution_count": 5,
   "metadata": {},
   "outputs": [
    {
     "data": {
      "text/plain": [
       "<matplotlib.axes._subplots.AxesSubplot at 0x124ec0fd0>"
      ]
     },
     "execution_count": 5,
     "metadata": {},
     "output_type": "execute_result"
    },
    {
     "data": {
      "image/png": "[encoded data removed]",
      "text/plain": [
       "<Figure size 432x288 with 1 Axes>"
      ]
     },
     "metadata": {
      "needs_background": "light"
     },
     "output_type": "display_data"
    }
   ],
   "source": [
    "#standard deviations of embedding features\n",
    "sns.distplot(np.std(embeddings,axis=0),kde=False)"
   ]
  },
  {
   "cell_type": "code",
   "execution_count": 6,
   "metadata": {},
   "outputs": [
    {
     "data": {
      "image/png": "[encoded data removed]",
      "text/plain": [
       "<Figure size 432x288 with 1 Axes>"
      ]
     },
     "metadata": {
      "needs_background": "light"
     },
     "output_type": "display_data"
    },
    {
     "data": {
      "image/png": "[encoded data removed]",
      "text/plain": [
       "<Figure size 432x288 with 1 Axes>"
      ]
     },
     "metadata": {
      "needs_background": "light"
     },
     "output_type": "display_data"
    }
   ],
   "source": [
    "sns.countplot(clicks_sample.click_environment)\n",
    "plt.show()\n",
    "sns.countplot(clicks_sample.click_deviceGroup)\n",
    "plt.show()"
   ]
  },
  {
   "cell_type": "code",
   "execution_count": 5,
   "metadata": {},
   "outputs": [],
   "source": [
    "def get_click_data():\n",
    "    click_dir = 'data/clicks/clicks/'\n",
    "    columns = ['user_id','click_article_id','click_environment','click_deviceGroup'] #validate with EDA\n",
    "    return pd.concat(\n",
    "        pd.read_csv(click_dir + click_data)[columns] for click_data in tqdm(listdir('data/clicks/clicks'))\n",
    "    ).drop_duplicates()"
   ]
  },
  {
   "cell_type": "code",
   "execution_count": 6,
   "metadata": {},
   "outputs": [
    {
     "data": {
      "application/vnd.jupyter.widget-view+json": {
       "model_id": "fc103b85e07b4533943589aed820b7df",
       "version_major": 2,
       "version_minor": 0
      },
      "text/plain": [
       "HBox(children=(FloatProgress(value=0.0, max=385.0), HTML(value='')))"
      ]
     },
     "metadata": {},
     "output_type": "display_data"
    },
    {
     "name": "stdout",
     "output_type": "stream",
     "text": [
      "\n"
     ]
    }
   ],
   "source": [
    "user_clicks = get_click_data()"
   ]
  },
  {
   "cell_type": "code",
   "execution_count": 7,
   "metadata": {},
   "outputs": [
    {
     "data": {
      "text/html": [
       "<div>\n",
       "<style scoped>\n",
       "    .dataframe tbody tr th:only-of-type {\n",
       "        vertical-align: middle;\n",
       "    }\n",
       "\n",
       "    .dataframe tbody tr th {\n",
       "        vertical-align: top;\n",
       "    }\n",
       "\n",
       "    .dataframe thead th {\n",
       "        text-align: right;\n",
       "    }\n",
       "</style>\n",
       "<table border=\"1\" class=\"dataframe\">\n",
       "  <thead>\n",
       "    <tr style=\"text-align: right;\">\n",
       "      <th></th>\n",
       "      <th>user_id</th>\n",
       "      <th>click_article_id</th>\n",
       "      <th>click_environment</th>\n",
       "      <th>click_deviceGroup</th>\n",
       "    </tr>\n",
       "  </thead>\n",
       "  <tbody>\n",
       "    <tr>\n",
       "      <th>0</th>\n",
       "      <td>0</td>\n",
       "      <td>157541</td>\n",
       "      <td>4</td>\n",
       "      <td>3</td>\n",
       "    </tr>\n",
       "    <tr>\n",
       "      <th>1</th>\n",
       "      <td>0</td>\n",
       "      <td>68866</td>\n",
       "      <td>4</td>\n",
       "      <td>3</td>\n",
       "    </tr>\n",
       "    <tr>\n",
       "      <th>2</th>\n",
       "      <td>1</td>\n",
       "      <td>235840</td>\n",
       "      <td>4</td>\n",
       "      <td>1</td>\n",
       "    </tr>\n",
       "    <tr>\n",
       "      <th>3</th>\n",
       "      <td>1</td>\n",
       "      <td>96663</td>\n",
       "      <td>4</td>\n",
       "      <td>1</td>\n",
       "    </tr>\n",
       "    <tr>\n",
       "      <th>4</th>\n",
       "      <td>2</td>\n",
       "      <td>119592</td>\n",
       "      <td>4</td>\n",
       "      <td>1</td>\n",
       "    </tr>\n",
       "  </tbody>\n",
       "</table>\n",
       "</div>"
      ],
      "text/plain": [
       "  user_id click_article_id click_environment click_deviceGroup\n",
       "0       0           157541                 4                 3\n",
       "1       0            68866                 4                 3\n",
       "2       1           235840                 4                 1\n",
       "3       1            96663                 4                 1\n",
       "4       2           119592                 4                 1"
      ]
     },
     "metadata": {},
     "output_type": "display_data"
    },
    {
     "data": {
      "text/plain": [
       "user_id              322897\n",
       "click_article_id      46033\n",
       "click_environment         3\n",
       "click_deviceGroup         5\n",
       "dtype: int64"
      ]
     },
     "metadata": {},
     "output_type": "display_data"
    }
   ],
   "source": [
    "display(user_clicks.head(),user_clicks.nunique())"
   ]
  },
  {
   "cell_type": "code",
   "execution_count": 8,
   "metadata": {},
   "outputs": [
    {
     "data": {
      "text/plain": [
       "(2951986, 4)"
      ]
     },
     "execution_count": 8,
     "metadata": {},
     "output_type": "execute_result"
    }
   ],
   "source": [
    "user_clicks.shape"
   ]
  },
  {
   "cell_type": "code",
   "execution_count": 10,
   "metadata": {},
   "outputs": [
    {
     "data": {
      "image/png": "[encoded data removed]",
      "text/plain": [
       "<Figure size 432x288 with 1 Axes>"
      ]
     },
     "metadata": {
      "needs_background": "light"
     },
     "output_type": "display_data"
    },
    {
     "name": "stdout",
     "output_type": "stream",
     "text": [
      "Min: 1\n",
      "Max: 34245\n"
     ]
    }
   ],
   "source": [
    "sns.distplot(\n",
    "    user_clicks.click_article_id.value_counts(),\n",
    "    kde=False,\n",
    "    bins=np.arange(0,1000,10)\n",
    ").set_title('Distribution of Article Clicks')\n",
    "plt.xlabel('Number of Clicks')\n",
    "plt.yscale('log')\n",
    "plt.show()\n",
    "\n",
    "print('Min:', user_clicks.click_article_id.value_counts().min())\n",
    "print('Max:', user_clicks.click_article_id.value_counts().max())"
   ]
  },
  {
   "cell_type": "markdown",
   "metadata": {},
   "source": [
    "Article clicks are skewed heavily left."
   ]
  },
  {
   "cell_type": "code",
   "execution_count": 13,
   "metadata": {},
   "outputs": [
    {
     "data": {
      "image/png": "[encoded data removed]",
      "text/plain": [
       "<Figure size 432x288 with 1 Axes>"
      ]
     },
     "metadata": {
      "needs_background": "light"
     },
     "output_type": "display_data"
    },
    {
     "name": "stdout",
     "output_type": "stream",
     "text": [
      "Min: 2\n",
      "Max: 1048\n"
     ]
    }
   ],
   "source": [
    "sns.distplot(\n",
    "    user_clicks.user_id.value_counts(),\n",
    "    kde=False,\n",
    "    bins = np.arange(0,500,1)\n",
    ").set_title('Distribution of Clicks per User')\n",
    "plt.xlabel('Clicks per User')\n",
    "plt.yscale('log')\n",
    "plt.show()\n",
    "\n",
    "print('Min:', user_clicks.user_id.value_counts().min())\n",
    "print('Max:', user_clicks.user_id.value_counts().max())"
   ]
  },
  {
   "cell_type": "code",
   "execution_count": null,
   "metadata": {},
   "outputs": [],
   "source": []
  },
  {
   "cell_type": "code",
   "execution_count": null,
   "metadata": {},
   "outputs": [],
   "source": []
  },
  {
   "cell_type": "code",
   "execution_count": null,
   "metadata": {},
   "outputs": [],
   "source": []
  },
  {
   "cell_type": "markdown",
   "metadata": {},
   "source": [
    "## To do\n",
    "- figure out implicit rating system\n",
    "- sample and train/test split\n",
    "- models\n",
    "    1. KNN\n",
    "    2. Bucketed random projection (ANN)\n",
    "        - https://www.learndatasci.com/tutorials/building-recommendation-engine-locality-sensitive-hashing-lsh-python/\n",
    "        - https://eng.uber.com/lsh/\n",
    "    3. User embeddings\n",
    "    4. User embeddings with nonlinearity\n",
    "        - use clustering to group interests\n",
    "\n",
    "\n",
    "### User Embeddings\n",
    "- Embeddings learned through SGNS maximize the dot-product between observed pairs and minimize it for random pairs.\n",
    "- The dot product of embeddings of any given pair represents the likelihood of observing the pair together.\n",
    "- If we are interested in learning an association between any two sets of entities, we can technically learn any kinds of embeddings through SGNS\n",
    "- In our model, we will replace word pairs with reader - article pairs"
   ]
  },
  {
   "cell_type": "code",
   "execution_count": 16,
   "metadata": {},
   "outputs": [],
   "source": [
    "#tools to use\n",
    "from sklearn import metrics\n",
    "from sklearn.cluster import KMeans, AgglomerativeClustering\n",
    "from sklearn.decomposition import PCA"
   ]
  },
  {
   "cell_type": "markdown",
   "metadata": {},
   "source": [
    "# Data Setup\n",
    "- Filter out irrelevant columns\n",
    "- Pick users whomst'd've read at least N articles"
   ]
  },
  {
   "cell_type": "code",
   "execution_count": 20,
   "metadata": {},
   "outputs": [],
   "source": [
    "df = user_clicks.copy()"
   ]
  },
  {
   "cell_type": "code",
   "execution_count": null,
   "metadata": {
    "scrolled": false
   },
   "outputs": [],
   "source": [
    "sizes = [df.user_id.nunique()]\n",
    "\n",
    "for i in tqdm(range(2, 21)): #might be able to code this in a faster way\n",
    "    sizes.append(df[df.groupby('user_id').user_id.transform(len) > i].user_id.nunique())"
   ]
  },
  {
   "cell_type": "code",
   "execution_count": 41,
   "metadata": {},
   "outputs": [
    {
     "data": {
      "image/png": "[encoded data removed]",
      "text/plain": [
       "<Figure size 432x288 with 1 Axes>"
      ]
     },
     "metadata": {
      "needs_background": "light"
     },
     "output_type": "display_data"
    }
   ],
   "source": [
    "sns.lineplot(list(range(2,22)),sizes)\n",
    "plt.xticks(range(2,22))\n",
    "plt.show()"
   ]
  },
  {
   "cell_type": "markdown",
   "metadata": {},
   "source": [
    "Might be a good idea to set N=10\n",
    "Training set will have just 8 for each user, so there will be 2 or more to predict."
   ]
  },
  {
   "cell_type": "code",
   "execution_count": 23,
   "metadata": {},
   "outputs": [
    {
     "name": "stdout",
     "output_type": "stream",
     "text": [
      "94.24544906616211\n"
     ]
    }
   ],
   "source": [
    "start = time()\n",
    "df_ = df[df.groupby('user_id').user_id.transform(len) >= 10]\n",
    "print(time()-start)"
   ]
  },
  {
   "cell_type": "code",
   "execution_count": null,
   "metadata": {
    "scrolled": true
   },
   "outputs": [],
   "source": [
    "df_['env_device'] = 'env:' + df_.click_environment.astype(str) + ' device:' + df_.click_deviceGroup.astype(str)\n",
    "df_.drop(['click_environment','click_deviceGroup'],axis=1,inplace=True)"
   ]
  },
  {
   "cell_type": "code",
   "execution_count": 28,
   "metadata": {},
   "outputs": [
    {
     "data": {
      "text/html": [
       "<div>\n",
       "<style scoped>\n",
       "    .dataframe tbody tr th:only-of-type {\n",
       "        vertical-align: middle;\n",
       "    }\n",
       "\n",
       "    .dataframe tbody tr th {\n",
       "        vertical-align: top;\n",
       "    }\n",
       "\n",
       "    .dataframe thead th {\n",
       "        text-align: right;\n",
       "    }\n",
       "</style>\n",
       "<table border=\"1\" class=\"dataframe\">\n",
       "  <thead>\n",
       "    <tr style=\"text-align: right;\">\n",
       "      <th></th>\n",
       "      <th>user_id</th>\n",
       "      <th>click_article_id</th>\n",
       "      <th>env_device</th>\n",
       "    </tr>\n",
       "  </thead>\n",
       "  <tbody>\n",
       "    <tr>\n",
       "      <th>2</th>\n",
       "      <td>1</td>\n",
       "      <td>235840</td>\n",
       "      <td>env:4 device:1</td>\n",
       "    </tr>\n",
       "    <tr>\n",
       "      <th>3</th>\n",
       "      <td>1</td>\n",
       "      <td>96663</td>\n",
       "      <td>env:4 device:1</td>\n",
       "    </tr>\n",
       "    <tr>\n",
       "      <th>6</th>\n",
       "      <td>3</td>\n",
       "      <td>236065</td>\n",
       "      <td>env:4 device:3</td>\n",
       "    </tr>\n",
       "    <tr>\n",
       "      <th>7</th>\n",
       "      <td>3</td>\n",
       "      <td>236294</td>\n",
       "      <td>env:4 device:3</td>\n",
       "    </tr>\n",
       "    <tr>\n",
       "      <th>10</th>\n",
       "      <td>5</td>\n",
       "      <td>168868</td>\n",
       "      <td>env:4 device:1</td>\n",
       "    </tr>\n",
       "  </tbody>\n",
       "</table>\n",
       "</div>"
      ],
      "text/plain": [
       "   user_id click_article_id      env_device\n",
       "2        1           235840  env:4 device:1\n",
       "3        1            96663  env:4 device:1\n",
       "6        3           236065  env:4 device:3\n",
       "7        3           236294  env:4 device:3\n",
       "10       5           168868  env:4 device:1"
      ]
     },
     "execution_count": 28,
     "metadata": {},
     "output_type": "execute_result"
    }
   ],
   "source": [
    "df_.head()"
   ]
  },
  {
   "cell_type": "code",
   "execution_count": 29,
   "metadata": {},
   "outputs": [
    {
     "data": {
      "image/png": "[encoded data removed]",
      "text/plain": [
       "<Figure size 432x288 with 1 Axes>"
      ]
     },
     "metadata": {
      "needs_background": "light"
     },
     "output_type": "display_data"
    }
   ],
   "source": [
    "sns.countplot(df_.env_device)\n",
    "plt.yscale('log')\n",
    "plt.xticks(rotation=45)\n",
    "plt.show()"
   ]
  },
  {
   "cell_type": "markdown",
   "metadata": {},
   "source": [
    "#### Merge embeddings"
   ]
  },
  {
   "cell_type": "code",
   "execution_count": 241,
   "metadata": {},
   "outputs": [
    {
     "name": "stdout",
     "output_type": "stream",
     "text": [
      "10.697396039962769\n"
     ]
    }
   ],
   "source": [
    "df_ = df_.merge(\n",
    "    pd.DataFrame(embeddings),\n",
    "    how='left',\n",
    "    left_on='click_article_id',\n",
    "    right_index=True\n",
    ")"
   ]
  },
  {
   "cell_type": "code",
   "execution_count": 244,
   "metadata": {},
   "outputs": [],
   "source": [
    "df_.to_csv('data/user_embeddings.csv')"
   ]
  },
  {
   "cell_type": "code",
   "execution_count": 245,
   "metadata": {},
   "outputs": [
    {
     "name": "stderr",
     "output_type": "stream",
     "text": [
      "/Library/Frameworks/Python.framework/Versions/3.7/lib/python3.7/site-packages/numpy/lib/arraysetops.py:568: FutureWarning: elementwise comparison failed; returning scalar instead, but in the future will perform elementwise comparison\n",
      "  mask |= (ar1 == a)\n"
     ]
    },
    {
     "name": "stdout",
     "output_type": "stream",
     "text": [
      "99.77132892608643\n"
     ]
    }
   ],
   "source": [
    "#read back\n",
    "start = time()\n",
    "df_ = pd.read_csv('data/user_embeddings.csv',index_col=0)\n",
    "print(time()-start)"
   ]
  },
  {
   "cell_type": "code",
   "execution_count": 246,
   "metadata": {},
   "outputs": [
    {
     "data": {
      "text/html": [
       "<div>\n",
       "<style scoped>\n",
       "    .dataframe tbody tr th:only-of-type {\n",
       "        vertical-align: middle;\n",
       "    }\n",
       "\n",
       "    .dataframe tbody tr th {\n",
       "        vertical-align: top;\n",
       "    }\n",
       "\n",
       "    .dataframe thead th {\n",
       "        text-align: right;\n",
       "    }\n",
       "</style>\n",
       "<table border=\"1\" class=\"dataframe\">\n",
       "  <thead>\n",
       "    <tr style=\"text-align: right;\">\n",
       "      <th></th>\n",
       "      <th>user_id</th>\n",
       "      <th>click_article_id</th>\n",
       "      <th>env_device</th>\n",
       "      <th>0</th>\n",
       "      <th>1</th>\n",
       "      <th>2</th>\n",
       "      <th>3</th>\n",
       "      <th>4</th>\n",
       "      <th>5</th>\n",
       "      <th>6</th>\n",
       "      <th>...</th>\n",
       "      <th>240</th>\n",
       "      <th>241</th>\n",
       "      <th>242</th>\n",
       "      <th>243</th>\n",
       "      <th>244</th>\n",
       "      <th>245</th>\n",
       "      <th>246</th>\n",
       "      <th>247</th>\n",
       "      <th>248</th>\n",
       "      <th>249</th>\n",
       "    </tr>\n",
       "  </thead>\n",
       "  <tbody>\n",
       "    <tr>\n",
       "      <th>2</th>\n",
       "      <td>1</td>\n",
       "      <td>235840</td>\n",
       "      <td>env:4 device:1</td>\n",
       "      <td>-0.168369</td>\n",
       "      <td>-0.967274</td>\n",
       "      <td>0.226036</td>\n",
       "      <td>0.145089</td>\n",
       "      <td>-0.417114</td>\n",
       "      <td>-0.693828</td>\n",
       "      <td>-0.741834</td>\n",
       "      <td>...</td>\n",
       "      <td>-0.010313</td>\n",
       "      <td>-0.422416</td>\n",
       "      <td>0.372931</td>\n",
       "      <td>-0.540084</td>\n",
       "      <td>0.242361</td>\n",
       "      <td>0.616011</td>\n",
       "      <td>0.704936</td>\n",
       "      <td>0.571687</td>\n",
       "      <td>0.545211</td>\n",
       "      <td>0.650550</td>\n",
       "    </tr>\n",
       "    <tr>\n",
       "      <th>3</th>\n",
       "      <td>1</td>\n",
       "      <td>96663</td>\n",
       "      <td>env:4 device:1</td>\n",
       "      <td>-0.463952</td>\n",
       "      <td>-0.958577</td>\n",
       "      <td>-0.317925</td>\n",
       "      <td>0.143565</td>\n",
       "      <td>0.009962</td>\n",
       "      <td>0.510263</td>\n",
       "      <td>-0.703141</td>\n",
       "      <td>...</td>\n",
       "      <td>0.779381</td>\n",
       "      <td>0.505448</td>\n",
       "      <td>-0.262309</td>\n",
       "      <td>-0.442881</td>\n",
       "      <td>0.695514</td>\n",
       "      <td>0.748444</td>\n",
       "      <td>-0.209889</td>\n",
       "      <td>-0.231323</td>\n",
       "      <td>-0.082891</td>\n",
       "      <td>-0.203830</td>\n",
       "    </tr>\n",
       "    <tr>\n",
       "      <th>6</th>\n",
       "      <td>3</td>\n",
       "      <td>236065</td>\n",
       "      <td>env:4 device:3</td>\n",
       "      <td>-0.583720</td>\n",
       "      <td>-0.945301</td>\n",
       "      <td>-0.770678</td>\n",
       "      <td>-0.654855</td>\n",
       "      <td>-0.409393</td>\n",
       "      <td>-0.386152</td>\n",
       "      <td>-0.184850</td>\n",
       "      <td>...</td>\n",
       "      <td>-0.460681</td>\n",
       "      <td>-0.149449</td>\n",
       "      <td>0.158473</td>\n",
       "      <td>-0.431712</td>\n",
       "      <td>0.257235</td>\n",
       "      <td>-0.118843</td>\n",
       "      <td>-0.072126</td>\n",
       "      <td>-0.028298</td>\n",
       "      <td>0.327733</td>\n",
       "      <td>0.428365</td>\n",
       "    </tr>\n",
       "    <tr>\n",
       "      <th>7</th>\n",
       "      <td>3</td>\n",
       "      <td>236294</td>\n",
       "      <td>env:4 device:3</td>\n",
       "      <td>-0.791363</td>\n",
       "      <td>-0.967025</td>\n",
       "      <td>-0.247181</td>\n",
       "      <td>-0.462593</td>\n",
       "      <td>0.238766</td>\n",
       "      <td>-0.713218</td>\n",
       "      <td>-0.789062</td>\n",
       "      <td>...</td>\n",
       "      <td>-0.609091</td>\n",
       "      <td>0.230817</td>\n",
       "      <td>0.090354</td>\n",
       "      <td>-0.457567</td>\n",
       "      <td>-0.026513</td>\n",
       "      <td>-0.433131</td>\n",
       "      <td>0.347777</td>\n",
       "      <td>0.511057</td>\n",
       "      <td>0.470070</td>\n",
       "      <td>0.092472</td>\n",
       "    </tr>\n",
       "    <tr>\n",
       "      <th>10</th>\n",
       "      <td>5</td>\n",
       "      <td>168868</td>\n",
       "      <td>env:4 device:1</td>\n",
       "      <td>-0.566814</td>\n",
       "      <td>-0.969073</td>\n",
       "      <td>0.212298</td>\n",
       "      <td>-0.424613</td>\n",
       "      <td>-0.843768</td>\n",
       "      <td>0.529609</td>\n",
       "      <td>0.366083</td>\n",
       "      <td>...</td>\n",
       "      <td>0.023162</td>\n",
       "      <td>-0.634281</td>\n",
       "      <td>-0.334300</td>\n",
       "      <td>0.593486</td>\n",
       "      <td>-0.761024</td>\n",
       "      <td>0.364188</td>\n",
       "      <td>0.238170</td>\n",
       "      <td>0.681951</td>\n",
       "      <td>-0.501074</td>\n",
       "      <td>-0.115498</td>\n",
       "    </tr>\n",
       "  </tbody>\n",
       "</table>\n",
       "<p>5 rows × 253 columns</p>\n",
       "</div>"
      ],
      "text/plain": [
       "    user_id  click_article_id      env_device         0         1         2  \\\n",
       "2         1            235840  env:4 device:1 -0.168369 -0.967274  0.226036   \n",
       "3         1             96663  env:4 device:1 -0.463952 -0.958577 -0.317925   \n",
       "6         3            236065  env:4 device:3 -0.583720 -0.945301 -0.770678   \n",
       "7         3            236294  env:4 device:3 -0.791363 -0.967025 -0.247181   \n",
       "10        5            168868  env:4 device:1 -0.566814 -0.969073  0.212298   \n",
       "\n",
       "           3         4         5         6  ...       240       241       242  \\\n",
       "2   0.145089 -0.417114 -0.693828 -0.741834  ... -0.010313 -0.422416  0.372931   \n",
       "3   0.143565  0.009962  0.510263 -0.703141  ...  0.779381  0.505448 -0.262309   \n",
       "6  -0.654855 -0.409393 -0.386152 -0.184850  ... -0.460681 -0.149449  0.158473   \n",
       "7  -0.462593  0.238766 -0.713218 -0.789062  ... -0.609091  0.230817  0.090354   \n",
       "10 -0.424613 -0.843768  0.529609  0.366083  ...  0.023162 -0.634281 -0.334300   \n",
       "\n",
       "         243       244       245       246       247       248       249  \n",
       "2  -0.540084  0.242361  0.616011  0.704936  0.571687  0.545211  0.650550  \n",
       "3  -0.442881  0.695514  0.748444 -0.209889 -0.231323 -0.082891 -0.203830  \n",
       "6  -0.431712  0.257235 -0.118843 -0.072126 -0.028298  0.327733  0.428365  \n",
       "7  -0.457567 -0.026513 -0.433131  0.347777  0.511057  0.470070  0.092472  \n",
       "10  0.593486 -0.761024  0.364188  0.238170  0.681951 -0.501074 -0.115498  \n",
       "\n",
       "[5 rows x 253 columns]"
      ]
     },
     "execution_count": 246,
     "metadata": {},
     "output_type": "execute_result"
    }
   ],
   "source": [
    "df_.head()"
   ]
  },
  {
   "cell_type": "markdown",
   "metadata": {},
   "source": [
    "#### Split train and test"
   ]
  },
  {
   "cell_type": "markdown",
   "metadata": {},
   "source": [
    "https://stackoverflow.com/questions/22472213/python-random-selection-per-group"
   ]
  },
  {
   "cell_type": "code",
   "execution_count": 247,
   "metadata": {},
   "outputs": [
    {
     "name": "stdout",
     "output_type": "stream",
     "text": [
      "126.30983185768127\n"
     ]
    }
   ],
   "source": [
    "start = time()\n",
    "size = 8        # sample size per user\n",
    "replace = False  # without replacement\n",
    "fn = lambda obj: obj.loc[np.random.choice(obj.index, size, replace),:]\n",
    "df_train = df_.groupby('user_id', as_index=False).apply(fn)\n",
    "print(time()-start)"
   ]
  },
  {
   "cell_type": "code",
   "execution_count": 248,
   "metadata": {},
   "outputs": [
    {
     "name": "stdout",
     "output_type": "stream",
     "text": [
      "1037.9082367420197\n"
     ]
    }
   ],
   "source": [
    "#takes 17 minutes\n",
    "\n",
    "start = time()\n",
    "df_test = df_[~df_.index.isin(df_train.index)]\n",
    "print(time()-start)"
   ]
  },
  {
   "cell_type": "code",
   "execution_count": 250,
   "metadata": {},
   "outputs": [],
   "source": [
    "df_train.reset_index(drop=True,inplace=True)\n",
    "df_test.reset_index(drop=True,inplace=True)"
   ]
  },
  {
   "cell_type": "code",
   "execution_count": 252,
   "metadata": {},
   "outputs": [
    {
     "name": "stdout",
     "output_type": "stream",
     "text": [
      "1147.8053047657013\n"
     ]
    }
   ],
   "source": [
    "#takes 19 minutes\n",
    "\n",
    "start = time()\n",
    "df_train.to_csv('data/train.csv')\n",
    "df_test.to_csv('data/test.csv')\n",
    "print(time()-start)"
   ]
  },
  {
   "cell_type": "markdown",
   "metadata": {},
   "source": [
    "# Load Train and Test Data"
   ]
  },
  {
   "cell_type": "code",
   "execution_count": 6,
   "metadata": {},
   "outputs": [
    {
     "name": "stdout",
     "output_type": "stream",
     "text": [
      "120.73743486404419\n"
     ]
    }
   ],
   "source": [
    "start = time()\n",
    "df_train = pd.read_csv('data/train.csv',index_col=0)\n",
    "df_test = pd.read_csv('data/test.csv',index_col=0)\n",
    "print(time()-start)"
   ]
  },
  {
   "cell_type": "code",
   "execution_count": 4,
   "metadata": {},
   "outputs": [
    {
     "name": "stdout",
     "output_type": "stream",
     "text": [
      "train: 684502\n",
      "test: 2029107\n"
     ]
    }
   ],
   "source": [
    "print('train:', df_train.shape[0])\n",
    "print('test:', df_test.shape[0])"
   ]
  },
  {
   "cell_type": "code",
   "execution_count": 6,
   "metadata": {},
   "outputs": [
    {
     "data": {
      "text/html": [
       "<div>\n",
       "<style scoped>\n",
       "    .dataframe tbody tr th:only-of-type {\n",
       "        vertical-align: middle;\n",
       "    }\n",
       "\n",
       "    .dataframe tbody tr th {\n",
       "        vertical-align: top;\n",
       "    }\n",
       "\n",
       "    .dataframe thead th {\n",
       "        text-align: right;\n",
       "    }\n",
       "</style>\n",
       "<table border=\"1\" class=\"dataframe\">\n",
       "  <thead>\n",
       "    <tr style=\"text-align: right;\">\n",
       "      <th></th>\n",
       "      <th>user_id</th>\n",
       "      <th>click_article_id</th>\n",
       "      <th>env_device</th>\n",
       "      <th>0</th>\n",
       "      <th>1</th>\n",
       "      <th>2</th>\n",
       "      <th>3</th>\n",
       "      <th>4</th>\n",
       "      <th>5</th>\n",
       "      <th>6</th>\n",
       "      <th>...</th>\n",
       "      <th>240</th>\n",
       "      <th>241</th>\n",
       "      <th>242</th>\n",
       "      <th>243</th>\n",
       "      <th>244</th>\n",
       "      <th>245</th>\n",
       "      <th>246</th>\n",
       "      <th>247</th>\n",
       "      <th>248</th>\n",
       "      <th>249</th>\n",
       "    </tr>\n",
       "  </thead>\n",
       "  <tbody>\n",
       "    <tr>\n",
       "      <th>0</th>\n",
       "      <td>1</td>\n",
       "      <td>285719</td>\n",
       "      <td>env:4 device:1</td>\n",
       "      <td>-0.118549</td>\n",
       "      <td>-0.957376</td>\n",
       "      <td>-0.751805</td>\n",
       "      <td>-0.566605</td>\n",
       "      <td>-0.899491</td>\n",
       "      <td>-0.510777</td>\n",
       "      <td>0.510855</td>\n",
       "      <td>...</td>\n",
       "      <td>-0.274394</td>\n",
       "      <td>-0.054381</td>\n",
       "      <td>0.341704</td>\n",
       "      <td>-0.395201</td>\n",
       "      <td>0.378282</td>\n",
       "      <td>0.416298</td>\n",
       "      <td>-0.478623</td>\n",
       "      <td>0.912017</td>\n",
       "      <td>0.101685</td>\n",
       "      <td>0.660538</td>\n",
       "    </tr>\n",
       "    <tr>\n",
       "      <th>1</th>\n",
       "      <td>1</td>\n",
       "      <td>234481</td>\n",
       "      <td>env:4 device:1</td>\n",
       "      <td>-0.744894</td>\n",
       "      <td>-0.975940</td>\n",
       "      <td>-0.101474</td>\n",
       "      <td>-0.620068</td>\n",
       "      <td>0.516190</td>\n",
       "      <td>-0.695848</td>\n",
       "      <td>-0.850939</td>\n",
       "      <td>...</td>\n",
       "      <td>-0.327291</td>\n",
       "      <td>-0.009473</td>\n",
       "      <td>0.469663</td>\n",
       "      <td>-0.734911</td>\n",
       "      <td>-0.070421</td>\n",
       "      <td>-0.457637</td>\n",
       "      <td>0.518804</td>\n",
       "      <td>0.576141</td>\n",
       "      <td>0.763434</td>\n",
       "      <td>0.224886</td>\n",
       "    </tr>\n",
       "    <tr>\n",
       "      <th>2</th>\n",
       "      <td>1</td>\n",
       "      <td>235840</td>\n",
       "      <td>env:4 device:1</td>\n",
       "      <td>-0.168369</td>\n",
       "      <td>-0.967274</td>\n",
       "      <td>0.226036</td>\n",
       "      <td>0.145089</td>\n",
       "      <td>-0.417114</td>\n",
       "      <td>-0.693828</td>\n",
       "      <td>-0.741834</td>\n",
       "      <td>...</td>\n",
       "      <td>-0.010313</td>\n",
       "      <td>-0.422416</td>\n",
       "      <td>0.372931</td>\n",
       "      <td>-0.540084</td>\n",
       "      <td>0.242361</td>\n",
       "      <td>0.616011</td>\n",
       "      <td>0.704936</td>\n",
       "      <td>0.571687</td>\n",
       "      <td>0.545211</td>\n",
       "      <td>0.650550</td>\n",
       "    </tr>\n",
       "    <tr>\n",
       "      <th>3</th>\n",
       "      <td>1</td>\n",
       "      <td>283392</td>\n",
       "      <td>env:4 device:1</td>\n",
       "      <td>-0.248988</td>\n",
       "      <td>-0.976156</td>\n",
       "      <td>-0.069826</td>\n",
       "      <td>-0.692906</td>\n",
       "      <td>-0.695744</td>\n",
       "      <td>-0.703383</td>\n",
       "      <td>0.930634</td>\n",
       "      <td>...</td>\n",
       "      <td>0.224778</td>\n",
       "      <td>-0.870308</td>\n",
       "      <td>-0.753590</td>\n",
       "      <td>0.024811</td>\n",
       "      <td>0.536427</td>\n",
       "      <td>0.130145</td>\n",
       "      <td>-0.276387</td>\n",
       "      <td>0.464620</td>\n",
       "      <td>0.129086</td>\n",
       "      <td>0.382053</td>\n",
       "    </tr>\n",
       "    <tr>\n",
       "      <th>4</th>\n",
       "      <td>1</td>\n",
       "      <td>36162</td>\n",
       "      <td>env:4 device:1</td>\n",
       "      <td>0.394471</td>\n",
       "      <td>-0.954570</td>\n",
       "      <td>-0.126430</td>\n",
       "      <td>-0.031528</td>\n",
       "      <td>-0.202543</td>\n",
       "      <td>0.325258</td>\n",
       "      <td>-0.426356</td>\n",
       "      <td>...</td>\n",
       "      <td>0.121050</td>\n",
       "      <td>0.351851</td>\n",
       "      <td>-0.324864</td>\n",
       "      <td>-0.497410</td>\n",
       "      <td>0.602626</td>\n",
       "      <td>-0.189069</td>\n",
       "      <td>0.012937</td>\n",
       "      <td>0.401118</td>\n",
       "      <td>-0.050076</td>\n",
       "      <td>0.182424</td>\n",
       "    </tr>\n",
       "  </tbody>\n",
       "</table>\n",
       "<p>5 rows × 253 columns</p>\n",
       "</div>"
      ],
      "text/plain": [
       "   user_id  click_article_id      env_device         0         1         2  \\\n",
       "0        1            285719  env:4 device:1 -0.118549 -0.957376 -0.751805   \n",
       "1        1            234481  env:4 device:1 -0.744894 -0.975940 -0.101474   \n",
       "2        1            235840  env:4 device:1 -0.168369 -0.967274  0.226036   \n",
       "3        1            283392  env:4 device:1 -0.248988 -0.976156 -0.069826   \n",
       "4        1             36162  env:4 device:1  0.394471 -0.954570 -0.126430   \n",
       "\n",
       "          3         4         5         6  ...       240       241       242  \\\n",
       "0 -0.566605 -0.899491 -0.510777  0.510855  ... -0.274394 -0.054381  0.341704   \n",
       "1 -0.620068  0.516190 -0.695848 -0.850939  ... -0.327291 -0.009473  0.469663   \n",
       "2  0.145089 -0.417114 -0.693828 -0.741834  ... -0.010313 -0.422416  0.372931   \n",
       "3 -0.692906 -0.695744 -0.703383  0.930634  ...  0.224778 -0.870308 -0.753590   \n",
       "4 -0.031528 -0.202543  0.325258 -0.426356  ...  0.121050  0.351851 -0.324864   \n",
       "\n",
       "        243       244       245       246       247       248       249  \n",
       "0 -0.395201  0.378282  0.416298 -0.478623  0.912017  0.101685  0.660538  \n",
       "1 -0.734911 -0.070421 -0.457637  0.518804  0.576141  0.763434  0.224886  \n",
       "2 -0.540084  0.242361  0.616011  0.704936  0.571687  0.545211  0.650550  \n",
       "3  0.024811  0.536427  0.130145 -0.276387  0.464620  0.129086  0.382053  \n",
       "4 -0.497410  0.602626 -0.189069  0.012937  0.401118 -0.050076  0.182424  \n",
       "\n",
       "[5 rows x 253 columns]"
      ]
     },
     "execution_count": 6,
     "metadata": {},
     "output_type": "execute_result"
    }
   ],
   "source": [
    "df_train.head()"
   ]
  },
  {
   "cell_type": "markdown",
   "metadata": {},
   "source": [
    "# Model 1: User Latent Vectors"
   ]
  },
  {
   "cell_type": "markdown",
   "metadata": {},
   "source": [
    "## 1b: Optimize User Embeddings with SGD\n",
    "\n",
    "Note that simultaneous optimization of user and item embeddings, _U_ and _V_, with MapReduce is ideal for scalability, but is unnecessary since we're starting with document vectors already.\n",
    "\n",
    "- Maximize Dot Product of User Embedding with Relevant Articles\n",
    "- Minimize Dot Product of User Embedding with Random Articles"
   ]
  },
  {
   "cell_type": "code",
   "execution_count": 4,
   "metadata": {
    "collapsed": true
   },
   "outputs": [
    {
     "ename": "NameError",
     "evalue": "name 'df_train' is not defined",
     "output_type": "error",
     "traceback": [
      "\u001b[0;31m---------------------------------------------------------------------------\u001b[0m",
      "\u001b[0;31mNameError\u001b[0m                                 Traceback (most recent call last)",
      "\u001b[0;32m<ipython-input-4-b382f36b6545>\u001b[0m in \u001b[0;36m<module>\u001b[0;34m\u001b[0m\n\u001b[1;32m      2\u001b[0m \u001b[0;31m#use df_x for now and fix later\u001b[0m\u001b[0;34m\u001b[0m\u001b[0;34m\u001b[0m\u001b[0;34m\u001b[0m\u001b[0m\n\u001b[1;32m      3\u001b[0m \u001b[0;31m#also sample so it's fast\u001b[0m\u001b[0;34m\u001b[0m\u001b[0;34m\u001b[0m\u001b[0;34m\u001b[0m\u001b[0m\n\u001b[0;32m----> 4\u001b[0;31m \u001b[0mdf_x\u001b[0m \u001b[0;34m=\u001b[0m \u001b[0mdf_train\u001b[0m\u001b[0;34m[\u001b[0m\u001b[0;34m[\u001b[0m\u001b[0;34m'user_id'\u001b[0m\u001b[0;34m,\u001b[0m\u001b[0;34m'click_article_id'\u001b[0m\u001b[0;34m,\u001b[0m\u001b[0;34m'env_device'\u001b[0m\u001b[0;34m]\u001b[0m\u001b[0;34m]\u001b[0m\u001b[0;34m.\u001b[0m\u001b[0mset_index\u001b[0m\u001b[0;34m(\u001b[0m\u001b[0;34m[\u001b[0m\u001b[0;34m'user_id'\u001b[0m\u001b[0;34m,\u001b[0m\u001b[0mdf_train\u001b[0m\u001b[0;34m.\u001b[0m\u001b[0mindex\u001b[0m\u001b[0;34m]\u001b[0m\u001b[0;34m)\u001b[0m\u001b[0;34m[\u001b[0m\u001b[0;36m0\u001b[0m\u001b[0;34m:\u001b[0m\u001b[0;36m800\u001b[0m\u001b[0;34m]\u001b[0m\u001b[0;34m\u001b[0m\u001b[0;34m\u001b[0m\u001b[0m\n\u001b[0m",
      "\u001b[0;31mNameError\u001b[0m: name 'df_train' is not defined"
     ]
    }
   ],
   "source": [
    "#actually not even necessary to have embeddings here. redundant for the way I'm doing it.\n",
    "#use df_x for now and fix later\n",
    "#also sample so it's fast\n",
    "df_x = df_train[['user_id','click_article_id','env_device']].set_index(['user_id',df_train.index])[0:800]"
   ]
  },
  {
   "cell_type": "code",
   "execution_count": 8,
   "metadata": {},
   "outputs": [],
   "source": [
    "df_x.to_csv('data/df_x.csv')"
   ]
  },
  {
   "cell_type": "code",
   "execution_count": 5,
   "metadata": {},
   "outputs": [],
   "source": [
    "df_x = pd.read_csv('data/df_x.csv',index_col=0)"
   ]
  },
  {
   "cell_type": "code",
   "execution_count": 123,
   "metadata": {},
   "outputs": [],
   "source": [
    "class LinearModel:\n",
    "    def __init__(self, user_data, item_embeddings, size=8, embeddings_size=250, T=1):\n",
    "        self.user_data = user_data\n",
    "        self.item_embeddings = item_embeddings\n",
    "        self.T = T\n",
    "        self.Vd = LinearModel.d.get_embedding_vectors(\n",
    "            item_embeddings, user_data, size, embeddings_size=embeddings_size\n",
    "        )\n",
    "        self.U = self.initialize_user_vectors(\n",
    "            size=size,embeddings_size=embeddings_size\n",
    "        )\n",
    "        self.instantiate_errors()\n",
    "        \n",
    "    def initialize_user_vectors(self,size,embeddings_size=250):\n",
    "        return np.mean(LinearModel.d.get_embedding_vectors(\n",
    "            self.item_embeddings,\n",
    "            self.user_data,\n",
    "            size,\n",
    "            embeddings_size=embeddings_size\n",
    "        ),axis=1) #.repeat(size,axis=0).reshape(-1,size,embeddings_size)\n",
    "        \n",
    "    def instantiate_errors(self):\n",
    "        #this is for tracking in steps of SGD\n",
    "        self.errors = []\n",
    "    \n",
    "    #############################\n",
    "    ###### SEEN AND UNSEEN ######\n",
    "    #############################\n",
    "    \n",
    "    class d:\n",
    "        @staticmethod\n",
    "        def get_embedding_vectors(V_embeddings, df, size, embeddings_size=250):\n",
    "            return np.hstack(V_embeddings[df.click_article_id.to_list()]).reshape(-1,size,embeddings_size)\n",
    "    \n",
    "    class dbar:\n",
    "        @staticmethod\n",
    "        def get_unseen(df, u, size, len_):\n",
    "            return np.random.choice(\n",
    "                np.delete(\n",
    "                    np.arange(len_),\n",
    "                    df[df.index.get_level_values(0)==u].click_article_id,\n",
    "                ),\n",
    "                size=size,\n",
    "            )\n",
    "        \n",
    "        @staticmethod\n",
    "        def get_all_unseen(df, size, len_=364047):            \n",
    "            #semi-vectorized version\n",
    "            return np.hstack(pd.DataFrame(\n",
    "                df.index.get_level_values(0)\n",
    "            ).drop_duplicates().user_id.map(\n",
    "                lambda u: LinearModel.dbar.get_unseen(df, u, size, len_)\n",
    "            ))\n",
    "        \n",
    "        @staticmethod\n",
    "        def get_embedding_vectors(V_embeddings, df, size, embeddings_size=250, len_=36047):\n",
    "            return np.hstack(\n",
    "                V_embeddings[LinearModel.dbar.get_all_unseen(df,size,len_=len_).tolist()]\n",
    "            ).reshape(\n",
    "                -1,\n",
    "                size,\n",
    "                embeddings_size\n",
    "            )\n",
    "    \n",
    "    #########################\n",
    "    ##### SGD UTILITIES #####\n",
    "    #########################\n",
    "    \n",
    "    class gradient: \n",
    "        @staticmethod\n",
    "        def J(U,Vd,Vdbar, size=8, embedding_size=250,hinge_param=1):\n",
    "\n",
    "            \n",
    "            \n",
    "            # if it's less than zero, give zero\n",
    "            # otherwise, \n",
    "#             return np.sum(\n",
    "#                 np.multiply(\n",
    "#                     hinge_param + np.tensordot(U,Vdbar,axes=(1,2))[0] - np.tensordot(U,Vd,axes=(1,2))[0] > 0,\n",
    "#                     np.tensordot(U,Vdbar,axes=(1,2))[0] - np.tensordot(U,Vd,axes=(1,2))[0]\n",
    "#                 )\n",
    "#             )\n",
    "\n",
    "\n",
    "            cost = hinge_param + np.tensordot(U,Vdbar,axes=(1,2))[0] - np.tensordot(U,Vd,axes=(1,2))[0]\n",
    "            return np.sum(\n",
    "                np.max(\n",
    "                    [np.zeros((U.shape[0],size)), cost], axis = 0\n",
    "                )\n",
    "            )\n",
    "        \n",
    "        @staticmethod\n",
    "        def dJ(U,Vd,Vdbar,size=8,embedding_size=250,hinge_param=1):\n",
    "            #conditional derivitive\n",
    "            \n",
    "            return np.sum(\n",
    "                (\n",
    "                    hinge_param + np.tensordot(U,Vdbar,axes=(1,2))[0]\n",
    "                    - np.tensordot(U,Vd,axes=(1,2))[0] < 0\n",
    "                ).repeat(\n",
    "                    embedding_size\n",
    "                ).reshape(-1,size,embedding_size) * (Vdbar - Vd),\n",
    "                axis=1\n",
    "            )\n",
    "    \n",
    "    ##### STOCHASTIC GRADIENT DESCENT ####\n",
    "\n",
    "    \n",
    "    #\n",
    "    def SGD(self):\n",
    "        #instantiate progress bar with tqdm\n",
    "        #SGD_vectorized should be wrapped in here\n",
    "        pass\n",
    "    \n",
    "    \n",
    "    \n",
    "    def SGD_vectorized(\n",
    "        self,\n",
    "        alpha=0.1,\n",
    "        size=8,\n",
    "        test_size=128,\n",
    "        embeddings_size=250,\n",
    "        test=True,\n",
    "        hinge_param=1,\n",
    "        iteration=0,\n",
    "        max_iterations=500\n",
    "    ):\n",
    "        #Stochastic Gradient Descent\n",
    "\n",
    "        #print('Vd', self.item_embeddings[0,0:10])\n",
    "        \n",
    "        #resample stuff\n",
    "        Vdbar_small = LinearModel.dbar.get_embedding_vectors(\n",
    "            self.item_embeddings,\n",
    "            self.user_data,\n",
    "            size,\n",
    "            embeddings_size=embeddings_size,\n",
    "        )\n",
    "\n",
    "        self.U = self.U - alpha * LinearModel.gradient.dJ(\n",
    "            self.U,\n",
    "            self.Vd,\n",
    "            Vdbar_small,\n",
    "        ) #fix this\n",
    "        \n",
    "        \n",
    "        while True:\n",
    "            if test == True:\n",
    "                Vdbar_big = LinearModel.dbar.get_embedding_vectors(\n",
    "                    self.item_embeddings,\n",
    "                    self.user_data,\n",
    "                    test_size,\n",
    "                    embeddings_size=embeddings_size,\n",
    "                )\n",
    "                \n",
    "                J = LinearModel.gradient.J(\n",
    "                    self.U,\n",
    "                    self.Vd.repeat(test_size/size,axis=1),\n",
    "                    Vdbar_big,\n",
    "                    size=test_size,\n",
    "                    embedding_size=250,\n",
    "                    hinge_param=1\n",
    "                )\n",
    "                # the Vd reshape still needs to be fixed\n",
    "                \n",
    "                self.errors.append(J)\n",
    "                \n",
    "            if iteration == max_iterations:\n",
    "                #stop iterating\n",
    "                #display errors\n",
    "\n",
    "                sns.lineplot(\n",
    "                    x = range(len(self.errors)),\n",
    "                    y = self.errors\n",
    "                )\n",
    "                return self.U\n",
    "            #print(iteration)\n",
    "            iteration += 1\n",
    "            return self.SGD_vectorized(\n",
    "                alpha=alpha, \n",
    "                size=size,\n",
    "                test_size=test_size,\n",
    "                embeddings_size=embeddings_size,\n",
    "                test=test, \n",
    "                hinge_param=hinge_param,\n",
    "                iteration=iteration, \n",
    "                max_iterations=max_iterations)"
   ]
  },
  {
   "cell_type": "markdown",
   "metadata": {},
   "source": [
    "#### Test out Pipeline"
   ]
  },
  {
   "cell_type": "code",
   "execution_count": 121,
   "metadata": {},
   "outputs": [
    {
     "data": {
      "text/plain": [
       "array([2., 1., 0.])"
      ]
     },
     "execution_count": 121,
     "metadata": {},
     "output_type": "execute_result"
    }
   ],
   "source": [
    "np.max([np.zeros(3),[2,1,-1]],axis=0)"
   ]
  },
  {
   "cell_type": "code",
   "execution_count": 133,
   "metadata": {},
   "outputs": [
    {
     "name": "stdout",
     "output_type": "stream",
     "text": [
      "[-0.26824254 -0.9636772  -0.28512946 -0.32596728 -0.34310314 -0.2655414\n",
      " -0.25597954  0.02330121  0.22115023 -0.15524353]\n",
      "[-0.28512904 -0.9619828  -0.5784541  -0.31468195 -0.81616414 -0.59818184\n",
      " -0.29224652  0.23229201  0.4908505  -0.3481715 ]\n"
     ]
    },
    {
     "data": {
      "image/png": "[encoded data removed]",
      "text/plain": [
       "<Figure size 432x288 with 1 Axes>"
      ]
     },
     "metadata": {
      "needs_background": "light"
     },
     "output_type": "display_data"
    }
   ],
   "source": [
    "lm = LinearModel(df_x,embeddings,size=8, embeddings_size=250, T=1)\n",
    "print(lm.U[0,0:10])\n",
    "lm.SGD_vectorized(test=True,alpha=0.0001, max_iterations=1000, test_size=128)\n",
    "print(lm.U[0,0:10])"
   ]
  },
  {
   "cell_type": "code",
   "execution_count": 88,
   "metadata": {},
   "outputs": [
    {
     "data": {
      "text/plain": [
       "array([[0., 0., 0., 0., 0., 0., 0., 0., 0., 0., 0., 0.],\n",
       "       [0., 0., 0., 0., 0., 0., 0., 0., 0., 0., 0., 0.]])"
      ]
     },
     "execution_count": 88,
     "metadata": {},
     "output_type": "execute_result"
    }
   ],
   "source": [
    "np.zeros([2,12])"
   ]
  },
  {
   "cell_type": "markdown",
   "metadata": {},
   "source": [
    "#### Get the Vectors"
   ]
  },
  {
   "cell_type": "code",
   "execution_count": 51,
   "metadata": {},
   "outputs": [],
   "source": [
    "model = LinearModel(df_x,embeddings,size=8,embeddings_size=250)"
   ]
  },
  {
   "cell_type": "code",
   "execution_count": 52,
   "metadata": {},
   "outputs": [],
   "source": [
    "U = model.U\n",
    "Vd = LinearModel.d.get_embedding_vectors(embeddings,df_x,size=8)\n",
    "Vdbar = LinearModel.dbar.get_embedding_vectors(embeddings,df_x,size=8)"
   ]
  },
  {
   "cell_type": "markdown",
   "metadata": {},
   "source": [
    "#### Linear Algebra Time"
   ]
  },
  {
   "cell_type": "code",
   "execution_count": 65,
   "metadata": {},
   "outputs": [
    {
     "name": "stdout",
     "output_type": "stream",
     "text": [
      "(100, 250)\n",
      "(100, 8, 250)\n",
      "(100, 8, 250)\n"
     ]
    }
   ],
   "source": [
    "print(U.shape)\n",
    "print(Vd.shape)\n",
    "print(Vdbar.shape)"
   ]
  },
  {
   "cell_type": "code",
   "execution_count": 29,
   "metadata": {},
   "outputs": [
    {
     "data": {
      "text/plain": [
       "()"
      ]
     },
     "execution_count": 29,
     "metadata": {},
     "output_type": "execute_result"
    }
   ],
   "source": [
    "#single user, single seen article, single unseen article\n",
    "result = np.dot(U[0].T,Vdbar[0,0]) - np.dot(U[0].T,Vd[0,0])\n",
    "result.shape\n",
    "#dot product of two 1-d vectors is 0-dimensional"
   ]
  },
  {
   "cell_type": "code",
   "execution_count": 30,
   "metadata": {},
   "outputs": [
    {
     "data": {
      "text/plain": [
       "(8,)"
      ]
     },
     "execution_count": 30,
     "metadata": {},
     "output_type": "execute_result"
    }
   ],
   "source": [
    "#single user, multiple articles, multiple unseen articles\n",
    "result = np.tensordot(U,Vdbar[0],axes=(1,1))[0] - np.tensordot(U,Vd[0],axes=(1,1))[0]\n",
    "result.shape\n",
    "#dot product is one dimensional with a value for each article pair, 1-dimensional"
   ]
  },
  {
   "cell_type": "code",
   "execution_count": 31,
   "metadata": {},
   "outputs": [
    {
     "data": {
      "text/plain": [
       "(100, 8)"
      ]
     },
     "execution_count": 31,
     "metadata": {},
     "output_type": "execute_result"
    }
   ],
   "source": [
    "#many users, multiple articles per user\n",
    "result = np.tensordot(U,Vdbar,axes=(1,2))[0] - np.tensordot(U,Vd,axes=(1,2))[0]\n",
    "result.shape\n",
    "#dot tensor dot product is set of values for each user, 2-dimensional"
   ]
  },
  {
   "cell_type": "markdown",
   "metadata": {},
   "source": [
    "#### Test out Gradient Functions"
   ]
  },
  {
   "cell_type": "code",
   "execution_count": 64,
   "metadata": {},
   "outputs": [
    {
     "ename": "ValueError",
     "evalue": "could not broadcast input array from shape (100,8) into shape (100)",
     "output_type": "error",
     "traceback": [
      "\u001b[0;31m---------------------------------------------------------------------------\u001b[0m",
      "\u001b[0;31mValueError\u001b[0m                                Traceback (most recent call last)",
      "\u001b[0;32m<ipython-input-64-2c294df33c4b>\u001b[0m in \u001b[0;36m<module>\u001b[0;34m\u001b[0m\n\u001b[0;32m----> 1\u001b[0;31m \u001b[0mLinearModel\u001b[0m\u001b[0;34m.\u001b[0m\u001b[0mgradient\u001b[0m\u001b[0;34m.\u001b[0m\u001b[0mJ\u001b[0m\u001b[0;34m(\u001b[0m\u001b[0mU\u001b[0m\u001b[0;34m,\u001b[0m\u001b[0mVd\u001b[0m\u001b[0;34m,\u001b[0m\u001b[0mVdbar\u001b[0m\u001b[0;34m,\u001b[0m\u001b[0mhinge_param\u001b[0m \u001b[0;34m=\u001b[0m \u001b[0;36m1\u001b[0m\u001b[0;34m)\u001b[0m\u001b[0;34m\u001b[0m\u001b[0;34m\u001b[0m\u001b[0m\n\u001b[0m",
      "\u001b[0;32m<ipython-input-60-767c3aadf4b0>\u001b[0m in \u001b[0;36mJ\u001b[0;34m(U, Vd, Vdbar, size, embedding_size, hinge_param)\u001b[0m\n\u001b[1;32m     86\u001b[0m                         \u001b[0mnp\u001b[0m\u001b[0;34m.\u001b[0m\u001b[0mzeros\u001b[0m\u001b[0;34m(\u001b[0m\u001b[0mU\u001b[0m\u001b[0;34m.\u001b[0m\u001b[0mshape\u001b[0m\u001b[0;34m[\u001b[0m\u001b[0;36m0\u001b[0m\u001b[0;34m]\u001b[0m\u001b[0;34m)\u001b[0m\u001b[0;34m,\u001b[0m\u001b[0;34m\u001b[0m\u001b[0;34m\u001b[0m\u001b[0m\n\u001b[1;32m     87\u001b[0m                         \u001b[0mhinge_param\u001b[0m \u001b[0;34m+\u001b[0m \u001b[0mnp\u001b[0m\u001b[0;34m.\u001b[0m\u001b[0mtensordot\u001b[0m\u001b[0;34m(\u001b[0m\u001b[0mU\u001b[0m\u001b[0;34m,\u001b[0m\u001b[0mVdbar\u001b[0m\u001b[0;34m,\u001b[0m\u001b[0maxes\u001b[0m\u001b[0;34m=\u001b[0m\u001b[0;34m(\u001b[0m\u001b[0;36m1\u001b[0m\u001b[0;34m,\u001b[0m\u001b[0;36m2\u001b[0m\u001b[0;34m)\u001b[0m\u001b[0;34m)\u001b[0m\u001b[0;34m[\u001b[0m\u001b[0;36m0\u001b[0m\u001b[0;34m]\u001b[0m \u001b[0;34m-\u001b[0m \u001b[0mnp\u001b[0m\u001b[0;34m.\u001b[0m\u001b[0mtensordot\u001b[0m\u001b[0;34m(\u001b[0m\u001b[0mU\u001b[0m\u001b[0;34m,\u001b[0m\u001b[0mVd\u001b[0m\u001b[0;34m,\u001b[0m\u001b[0maxes\u001b[0m\u001b[0;34m=\u001b[0m\u001b[0;34m(\u001b[0m\u001b[0;36m1\u001b[0m\u001b[0;34m,\u001b[0m\u001b[0;36m2\u001b[0m\u001b[0;34m)\u001b[0m\u001b[0;34m)\u001b[0m\u001b[0;34m[\u001b[0m\u001b[0;36m0\u001b[0m\u001b[0;34m]\u001b[0m\u001b[0;34m\u001b[0m\u001b[0;34m\u001b[0m\u001b[0m\n\u001b[0;32m---> 88\u001b[0;31m                     ], axis = 0\n\u001b[0m\u001b[1;32m     89\u001b[0m                 )\n\u001b[1;32m     90\u001b[0m             )\n",
      "\u001b[0;32m<__array_function__ internals>\u001b[0m in \u001b[0;36mamax\u001b[0;34m(*args, **kwargs)\u001b[0m\n",
      "\u001b[0;32m/Library/Frameworks/Python.framework/Versions/3.7/lib/python3.7/site-packages/numpy/core/fromnumeric.py\u001b[0m in \u001b[0;36mamax\u001b[0;34m(a, axis, out, keepdims, initial, where)\u001b[0m\n\u001b[1;32m   2619\u001b[0m     \"\"\"\n\u001b[1;32m   2620\u001b[0m     return _wrapreduction(a, np.maximum, 'max', axis, None, out,\n\u001b[0;32m-> 2621\u001b[0;31m                           keepdims=keepdims, initial=initial, where=where)\n\u001b[0m\u001b[1;32m   2622\u001b[0m \u001b[0;34m\u001b[0m\u001b[0m\n\u001b[1;32m   2623\u001b[0m \u001b[0;34m\u001b[0m\u001b[0m\n",
      "\u001b[0;32m/Library/Frameworks/Python.framework/Versions/3.7/lib/python3.7/site-packages/numpy/core/fromnumeric.py\u001b[0m in \u001b[0;36m_wrapreduction\u001b[0;34m(obj, ufunc, method, axis, dtype, out, **kwargs)\u001b[0m\n\u001b[1;32m     88\u001b[0m                 \u001b[0;32mreturn\u001b[0m \u001b[0mreduction\u001b[0m\u001b[0;34m(\u001b[0m\u001b[0maxis\u001b[0m\u001b[0;34m=\u001b[0m\u001b[0maxis\u001b[0m\u001b[0;34m,\u001b[0m \u001b[0mout\u001b[0m\u001b[0;34m=\u001b[0m\u001b[0mout\u001b[0m\u001b[0;34m,\u001b[0m \u001b[0;34m**\u001b[0m\u001b[0mpasskwargs\u001b[0m\u001b[0;34m)\u001b[0m\u001b[0;34m\u001b[0m\u001b[0;34m\u001b[0m\u001b[0m\n\u001b[1;32m     89\u001b[0m \u001b[0;34m\u001b[0m\u001b[0m\n\u001b[0;32m---> 90\u001b[0;31m     \u001b[0;32mreturn\u001b[0m \u001b[0mufunc\u001b[0m\u001b[0;34m.\u001b[0m\u001b[0mreduce\u001b[0m\u001b[0;34m(\u001b[0m\u001b[0mobj\u001b[0m\u001b[0;34m,\u001b[0m \u001b[0maxis\u001b[0m\u001b[0;34m,\u001b[0m \u001b[0mdtype\u001b[0m\u001b[0;34m,\u001b[0m \u001b[0mout\u001b[0m\u001b[0;34m,\u001b[0m \u001b[0;34m**\u001b[0m\u001b[0mpasskwargs\u001b[0m\u001b[0;34m)\u001b[0m\u001b[0;34m\u001b[0m\u001b[0;34m\u001b[0m\u001b[0m\n\u001b[0m\u001b[1;32m     91\u001b[0m \u001b[0;34m\u001b[0m\u001b[0m\n\u001b[1;32m     92\u001b[0m \u001b[0;34m\u001b[0m\u001b[0m\n",
      "\u001b[0;31mValueError\u001b[0m: could not broadcast input array from shape (100,8) into shape (100)"
     ]
    }
   ],
   "source": [
    "LinearModel.gradient.J(U,Vd,Vdbar,hinge_param = 1)"
   ]
  },
  {
   "cell_type": "code",
   "execution_count": 35,
   "metadata": {},
   "outputs": [
    {
     "data": {
      "text/plain": [
       "array([[-2.1670804 ,  0.01750523,  0.6009317 , ..., -3.3537602 ,\n",
       "         1.6586034 , -3.4772587 ],\n",
       "       [ 3.7724528 ,  0.03113294,  1.7281439 , ..., -1.6146979 ,\n",
       "        -0.1835354 , -0.6663277 ],\n",
       "       [-1.5308888 , -0.01369971,  0.32890302, ..., -3.2731872 ,\n",
       "         1.6275872 , -4.187475  ],\n",
       "       ...,\n",
       "       [ 0.88881075,  0.04453582,  1.6321135 , ...,  1.1757184 ,\n",
       "        -1.6910233 , -0.1631453 ],\n",
       "       [ 0.8616533 ,  0.02198362,  2.9430654 , ...,  0.08420932,\n",
       "        -1.9836795 ,  0.38871142],\n",
       "       [-0.21540785,  0.00680721,  1.034868  , ..., -4.025654  ,\n",
       "         1.9805351 , -3.5346293 ]], dtype=float32)"
      ]
     },
     "execution_count": 35,
     "metadata": {},
     "output_type": "execute_result"
    }
   ],
   "source": [
    "LinearModel.gradient.dJ(U,Vd,Vdbar,hinge_param = 1)"
   ]
  },
  {
   "cell_type": "markdown",
   "metadata": {},
   "source": [
    "#### Test out Pipeline"
   ]
  },
  {
   "cell_type": "code",
   "execution_count": null,
   "metadata": {},
   "outputs": [],
   "source": []
  },
  {
   "cell_type": "markdown",
   "metadata": {},
   "source": [
    "# Model 2: Multiple User Latent Vectors"
   ]
  },
  {
   "cell_type": "markdown",
   "metadata": {},
   "source": [
    "### Part 0: Clustering The Corpus"
   ]
  },
  {
   "cell_type": "code",
   "execution_count": 11,
   "metadata": {},
   "outputs": [],
   "source": [
    "def fit_kmeans(X,range_,ratio):\n",
    "    distortions = []\n",
    "    silhouettes = []\n",
    "    for n_clusters in tqdm(range_):\n",
    "        km = KMeans(\n",
    "                n_clusters=n_clusters,\n",
    "                init='k-means++',\n",
    "                max_iter=300,\n",
    "                algorithm='elkan',\n",
    "                random_state=0,\n",
    "            )\n",
    "        \n",
    "        sample = X[np.random.randint(\n",
    "                    X.shape[0],\n",
    "                    size=int(X.shape[0]*ratio)\n",
    "                ), :]\n",
    "        \n",
    "        km.fit_predict(sample)\n",
    "        \n",
    "        distortions.append(\n",
    "           km.inertia_\n",
    "        )\n",
    "        silhouettes.append(\n",
    "            metrics.silhouette_score(sample, km.labels_)\n",
    "        )\n",
    "    #distortions\n",
    "    plt.plot(range_, distortions, marker='o')\n",
    "    plt.xlabel('Number of Clusters')\n",
    "    plt.ylabel('Distortion')\n",
    "    plt.show()\n",
    "    #silhouettes\n",
    "    plt.plot(range_, silhouettes, marker='o')\n",
    "    plt.xlabel('Number of Clusters')\n",
    "    plt.ylabel('Silhouette Score')\n",
    "    plt.show()\n",
    "    \n",
    "def fit_hac(X,range_,ratio):\n",
    "    for n_clusters in tqdm(range_):\n",
    "        hac = AgglomerativeClustering(\n",
    "            n_clusters=n_clusters,\n",
    "            affinity='euclidean',\n",
    "            linkage='single'\n",
    "        ).fit(X)\n",
    "        \n",
    "        sample = X[np.random.randint(\n",
    "                    X.shape[0],\n",
    "                    size=int(X.shape[0]*ratio)\n",
    "                ), :]\n",
    "        \n",
    "        hac.fit_predict(sample)\n",
    "\n",
    "        plot_dendgrogram(hac)\n",
    "    \n",
    "\n",
    "def plot_dendrogram(model, **kwargs):\n",
    "    # Create linkage matrix and then plot the dendrogram\n",
    "\n",
    "    # create the counts of samples under each node\n",
    "    counts = np.zeros(model.children_.shape[0])\n",
    "    n_samples = len(model.labels_)\n",
    "    for i, merge in enumerate(model.children_):\n",
    "        current_count = 0\n",
    "        for child_idx in merge:\n",
    "            if child_idx < n_samples:\n",
    "                current_count += 1  # leaf node\n",
    "            else:\n",
    "                current_count += counts[child_idx - n_samples]\n",
    "        counts[i] = current_count\n",
    "\n",
    "    linkage_matrix = np.column_stack([model.children_, model.distances_,\n",
    "                                      counts]).astype(float)\n",
    "\n",
    "    # Plot the corresponding dendrogram\n",
    "    dendrogram(linkage_matrix, **kwargs)"
   ]
  },
  {
   "cell_type": "code",
   "execution_count": 12,
   "metadata": {},
   "outputs": [
    {
     "data": {
      "application/vnd.jupyter.widget-view+json": {
       "model_id": "a9c22a4e908c4b34903589b14f56ef38",
       "version_major": 2,
       "version_minor": 0
      },
      "text/plain": [
       "HBox(children=(FloatProgress(value=0.0, max=33.0), HTML(value='')))"
      ]
     },
     "metadata": {},
     "output_type": "display_data"
    },
    {
     "name": "stdout",
     "output_type": "stream",
     "text": [
      "\n"
     ]
    },
    {
     "data": {
      "image/png": "[encoded data removed]",
      "text/plain": [
       "<Figure size 432x288 with 1 Axes>"
      ]
     },
     "metadata": {
      "needs_background": "light"
     },
     "output_type": "display_data"
    },
    {
     "data": {
      "image/png": "[encoded data removed]",
      "text/plain": [
       "<Figure size 432x288 with 1 Axes>"
      ]
     },
     "metadata": {
      "needs_background": "light"
     },
     "output_type": "display_data"
    }
   ],
   "source": [
    "fit_kmeans(\n",
    "    embeddings,\n",
    "    range(2,35),\n",
    "    0.05\n",
    ")\n",
    "\n",
    "#use elbow method to pick optimal number of clusters"
   ]
  },
  {
   "cell_type": "markdown",
   "metadata": {},
   "source": [
    "### Part 1: User Interest Partition"
   ]
  },
  {
   "cell_type": "code",
   "execution_count": null,
   "metadata": {},
   "outputs": [],
   "source": [
    "class "
   ]
  },
  {
   "cell_type": "markdown",
   "metadata": {},
   "source": [
    "### Part 2: Modeling"
   ]
  },
  {
   "cell_type": "code",
   "execution_count": null,
   "metadata": {},
   "outputs": [],
   "source": []
  },
  {
   "cell_type": "markdown",
   "metadata": {},
   "source": [
    "# Model 3: Nonlinear Latent Factorization with One-Pass Clustering\n",
    "Article: https://www.researchgate.net/profile/Doreen_Cheng2/publication/266887747_Situation-aware_User_Interest_Mining_on_Mobile_Handheld_Devices/links/546e31b80cf2b5fc17606f8c.pdf"
   ]
  },
  {
   "cell_type": "code",
   "execution_count": null,
   "metadata": {},
   "outputs": [],
   "source": []
  },
  {
   "cell_type": "markdown",
   "metadata": {},
   "source": [
    "# Model 4: Hyperplane Separation"
   ]
  },
  {
   "cell_type": "markdown",
   "metadata": {},
   "source": [
    "Generate User SVC weight matricies instead of embeddings"
   ]
  },
  {
   "cell_type": "code",
   "execution_count": null,
   "metadata": {},
   "outputs": [],
   "source": [
    "# Tensorflow SVM Example:\n",
    "import numpy\n",
    "import tensorflow as tf\n",
    "\n",
    "# X - (157, 128) - 157 sets of 128 features\n",
    "# Y - (157) - classifications of the feature sets\n",
    "\n",
    "X = numpy.zeros([157, 128])\n",
    "Y = numpy.zeros([157], dtype=numpy.int32)\n",
    "example_id = numpy.array(['%d' % i for i in range(len(Y))])\n",
    "\n",
    "x_column_name = 'x'\n",
    "example_id_column_name = 'example_id'\n",
    "\n",
    "train_input_fn = tf.estimator.inputs.numpy_input_fn(\n",
    "    x={x_column_name: X, example_id_column_name: example_id},\n",
    "    y=Y,\n",
    "    num_epochs=None,\n",
    "    shuffle=True)\n",
    "\n",
    "svm = tf.contrib.learn.SVM(\n",
    "    example_id_column=example_id_column_name,\n",
    "    feature_columns=(tf.contrib.layers.real_valued_column(\n",
    "        column_name=x_column_name, dimension=128),),\n",
    "    l2_regularization=0.1)\n",
    "\n",
    "svm.fit(input_fn=train_input_fn, steps=10)"
   ]
  }
 ],
 "metadata": {
  "kernelspec": {
   "display_name": "Python 3",
   "language": "python",
   "name": "python3"
  },
  "language_info": {
   "codemirror_mode": {
    "name": "ipython",
    "version": 3
   },
   "file_extension": ".py",
   "mimetype": "text/x-python",
   "name": "python",
   "nbconvert_exporter": "python",
   "pygments_lexer": "ipython3",
   "version": "3.7.4"
  }
 },
 "nbformat": 4,
 "nbformat_minor": 2
}

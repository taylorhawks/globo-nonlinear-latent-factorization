{
 "cells": [
  {
   "cell_type": "code",
   "execution_count": 1,
   "metadata": {},
   "outputs": [
    {
     "name": "stdout",
     "output_type": "stream",
     "text": [
      "3.7.4 (v3.7.4:e09359112e, Jul  8 2019, 14:54:52) \n",
      "[Clang 6.0 (clang-600.0.57)]\n"
     ]
    }
   ],
   "source": [
    "import sys\n",
    "print(sys.version)"
   ]
  },
  {
   "cell_type": "code",
   "execution_count": 2,
   "metadata": {},
   "outputs": [],
   "source": [
    "import warnings\n",
    "warnings.filterwarnings(\"ignore\")"
   ]
  },
  {
   "cell_type": "code",
   "execution_count": 3,
   "metadata": {},
   "outputs": [],
   "source": [
    "import pandas as pd\n",
    "import numpy as np\n",
    "import pickle\n",
    "from os import listdir\n",
    "import seaborn as sns\n",
    "import matplotlib.pyplot as plt\n",
    "from tqdm.notebook import tqdm\n",
    "#tqdm.pandas()\n",
    "from time import time"
   ]
  },
  {
   "cell_type": "code",
   "execution_count": 4,
   "metadata": {},
   "outputs": [],
   "source": [
    "#read files\n",
    "\n",
    "#description: https://www.kaggle.com/gspmoreira/news-portal-user-interactions-by-globocom\n",
    "\n",
    "articles_metadata = pd.read_csv('data/articles_metadata.csv')\n",
    "clicks_sample = pd.read_csv('data/clicks_sample.csv')\n",
    "\n",
    "\n",
    "with open('data/articles_embeddings.pickle', 'rb') as pickle_file:\n",
    "    embeddings = pickle.load(pickle_file)"
   ]
  },
  {
   "cell_type": "code",
   "execution_count": 5,
   "metadata": {},
   "outputs": [
    {
     "name": "stdout",
     "output_type": "stream",
     "text": [
      "articles_metadata\n"
     ]
    },
    {
     "data": {
      "text/html": [
       "<div>\n",
       "<style scoped>\n",
       "    .dataframe tbody tr th:only-of-type {\n",
       "        vertical-align: middle;\n",
       "    }\n",
       "\n",
       "    .dataframe tbody tr th {\n",
       "        vertical-align: top;\n",
       "    }\n",
       "\n",
       "    .dataframe thead th {\n",
       "        text-align: right;\n",
       "    }\n",
       "</style>\n",
       "<table border=\"1\" class=\"dataframe\">\n",
       "  <thead>\n",
       "    <tr style=\"text-align: right;\">\n",
       "      <th></th>\n",
       "      <th>article_id</th>\n",
       "      <th>category_id</th>\n",
       "      <th>created_at_ts</th>\n",
       "      <th>publisher_id</th>\n",
       "      <th>words_count</th>\n",
       "    </tr>\n",
       "  </thead>\n",
       "  <tbody>\n",
       "    <tr>\n",
       "      <th>0</th>\n",
       "      <td>0</td>\n",
       "      <td>0</td>\n",
       "      <td>1513144419000</td>\n",
       "      <td>0</td>\n",
       "      <td>168</td>\n",
       "    </tr>\n",
       "    <tr>\n",
       "      <th>1</th>\n",
       "      <td>1</td>\n",
       "      <td>1</td>\n",
       "      <td>1405341936000</td>\n",
       "      <td>0</td>\n",
       "      <td>189</td>\n",
       "    </tr>\n",
       "    <tr>\n",
       "      <th>2</th>\n",
       "      <td>2</td>\n",
       "      <td>1</td>\n",
       "      <td>1408667706000</td>\n",
       "      <td>0</td>\n",
       "      <td>250</td>\n",
       "    </tr>\n",
       "    <tr>\n",
       "      <th>3</th>\n",
       "      <td>3</td>\n",
       "      <td>1</td>\n",
       "      <td>1408468313000</td>\n",
       "      <td>0</td>\n",
       "      <td>230</td>\n",
       "    </tr>\n",
       "    <tr>\n",
       "      <th>4</th>\n",
       "      <td>4</td>\n",
       "      <td>1</td>\n",
       "      <td>1407071171000</td>\n",
       "      <td>0</td>\n",
       "      <td>162</td>\n",
       "    </tr>\n",
       "  </tbody>\n",
       "</table>\n",
       "</div>"
      ],
      "text/plain": [
       "   article_id  category_id  created_at_ts  publisher_id  words_count\n",
       "0           0            0  1513144419000             0          168\n",
       "1           1            1  1405341936000             0          189\n",
       "2           2            1  1408667706000             0          250\n",
       "3           3            1  1408468313000             0          230\n",
       "4           4            1  1407071171000             0          162"
      ]
     },
     "metadata": {},
     "output_type": "display_data"
    },
    {
     "name": "stdout",
     "output_type": "stream",
     "text": [
      "clicks_sample\n"
     ]
    },
    {
     "data": {
      "text/html": [
       "<div>\n",
       "<style scoped>\n",
       "    .dataframe tbody tr th:only-of-type {\n",
       "        vertical-align: middle;\n",
       "    }\n",
       "\n",
       "    .dataframe tbody tr th {\n",
       "        vertical-align: top;\n",
       "    }\n",
       "\n",
       "    .dataframe thead th {\n",
       "        text-align: right;\n",
       "    }\n",
       "</style>\n",
       "<table border=\"1\" class=\"dataframe\">\n",
       "  <thead>\n",
       "    <tr style=\"text-align: right;\">\n",
       "      <th></th>\n",
       "      <th>user_id</th>\n",
       "      <th>session_id</th>\n",
       "      <th>session_start</th>\n",
       "      <th>session_size</th>\n",
       "      <th>click_article_id</th>\n",
       "      <th>click_timestamp</th>\n",
       "      <th>click_environment</th>\n",
       "      <th>click_deviceGroup</th>\n",
       "      <th>click_os</th>\n",
       "      <th>click_country</th>\n",
       "      <th>click_region</th>\n",
       "      <th>click_referrer_type</th>\n",
       "    </tr>\n",
       "  </thead>\n",
       "  <tbody>\n",
       "    <tr>\n",
       "      <th>0</th>\n",
       "      <td>0</td>\n",
       "      <td>1506825423271737</td>\n",
       "      <td>1506825423000</td>\n",
       "      <td>2</td>\n",
       "      <td>157541</td>\n",
       "      <td>1506826828020</td>\n",
       "      <td>4</td>\n",
       "      <td>3</td>\n",
       "      <td>20</td>\n",
       "      <td>1</td>\n",
       "      <td>20</td>\n",
       "      <td>2</td>\n",
       "    </tr>\n",
       "    <tr>\n",
       "      <th>1</th>\n",
       "      <td>0</td>\n",
       "      <td>1506825423271737</td>\n",
       "      <td>1506825423000</td>\n",
       "      <td>2</td>\n",
       "      <td>68866</td>\n",
       "      <td>1506826858020</td>\n",
       "      <td>4</td>\n",
       "      <td>3</td>\n",
       "      <td>20</td>\n",
       "      <td>1</td>\n",
       "      <td>20</td>\n",
       "      <td>2</td>\n",
       "    </tr>\n",
       "    <tr>\n",
       "      <th>2</th>\n",
       "      <td>1</td>\n",
       "      <td>1506825426267738</td>\n",
       "      <td>1506825426000</td>\n",
       "      <td>2</td>\n",
       "      <td>235840</td>\n",
       "      <td>1506827017951</td>\n",
       "      <td>4</td>\n",
       "      <td>1</td>\n",
       "      <td>17</td>\n",
       "      <td>1</td>\n",
       "      <td>16</td>\n",
       "      <td>2</td>\n",
       "    </tr>\n",
       "    <tr>\n",
       "      <th>3</th>\n",
       "      <td>1</td>\n",
       "      <td>1506825426267738</td>\n",
       "      <td>1506825426000</td>\n",
       "      <td>2</td>\n",
       "      <td>96663</td>\n",
       "      <td>1506827047951</td>\n",
       "      <td>4</td>\n",
       "      <td>1</td>\n",
       "      <td>17</td>\n",
       "      <td>1</td>\n",
       "      <td>16</td>\n",
       "      <td>2</td>\n",
       "    </tr>\n",
       "    <tr>\n",
       "      <th>4</th>\n",
       "      <td>2</td>\n",
       "      <td>1506825435299739</td>\n",
       "      <td>1506825435000</td>\n",
       "      <td>2</td>\n",
       "      <td>119592</td>\n",
       "      <td>1506827090575</td>\n",
       "      <td>4</td>\n",
       "      <td>1</td>\n",
       "      <td>17</td>\n",
       "      <td>1</td>\n",
       "      <td>24</td>\n",
       "      <td>2</td>\n",
       "    </tr>\n",
       "  </tbody>\n",
       "</table>\n",
       "</div>"
      ],
      "text/plain": [
       "   user_id        session_id  session_start  session_size  click_article_id  \\\n",
       "0        0  1506825423271737  1506825423000             2            157541   \n",
       "1        0  1506825423271737  1506825423000             2             68866   \n",
       "2        1  1506825426267738  1506825426000             2            235840   \n",
       "3        1  1506825426267738  1506825426000             2             96663   \n",
       "4        2  1506825435299739  1506825435000             2            119592   \n",
       "\n",
       "   click_timestamp  click_environment  click_deviceGroup  click_os  \\\n",
       "0    1506826828020                  4                  3        20   \n",
       "1    1506826858020                  4                  3        20   \n",
       "2    1506827017951                  4                  1        17   \n",
       "3    1506827047951                  4                  1        17   \n",
       "4    1506827090575                  4                  1        17   \n",
       "\n",
       "   click_country  click_region  click_referrer_type  \n",
       "0              1            20                    2  \n",
       "1              1            20                    2  \n",
       "2              1            16                    2  \n",
       "3              1            16                    2  \n",
       "4              1            24                    2  "
      ]
     },
     "metadata": {},
     "output_type": "display_data"
    },
    {
     "name": "stdout",
     "output_type": "stream",
     "text": [
      "embeddings shape\n",
      "(364047, 250)\n"
     ]
    }
   ],
   "source": [
    "print('articles_metadata')\n",
    "display(articles_metadata.head())\n",
    "print('clicks_sample')\n",
    "display(clicks_sample.head())\n",
    "print('embeddings shape')\n",
    "print(embeddings.shape)"
   ]
  },
  {
   "cell_type": "code",
   "execution_count": 19,
   "metadata": {},
   "outputs": [],
   "source": [
    "def get_click_data():\n",
    "    click_dir = 'data/clicks/clicks/'\n",
    "    columns = ['user_id','click_article_id',] #'click_environment','click_deviceGroup']\n",
    "    return pd.concat(\n",
    "        pd.read_csv(click_dir + click_data)[columns] for click_data in tqdm(listdir('data/clicks/clicks'))\n",
    "    ).drop_duplicates()"
   ]
  },
  {
   "cell_type": "code",
   "execution_count": 20,
   "metadata": {},
   "outputs": [
    {
     "data": {
      "application/vnd.jupyter.widget-view+json": {
       "model_id": "a4f9080a8c3a410aab544a3c40ce7a96",
       "version_major": 2,
       "version_minor": 0
      },
      "text/plain": [
       "HBox(children=(FloatProgress(value=0.0, max=385.0), HTML(value='')))"
      ]
     },
     "metadata": {},
     "output_type": "display_data"
    },
    {
     "name": "stdout",
     "output_type": "stream",
     "text": [
      "\n"
     ]
    }
   ],
   "source": [
    "user_clicks = get_click_data()"
   ]
  },
  {
   "cell_type": "code",
   "execution_count": 21,
   "metadata": {},
   "outputs": [
    {
     "data": {
      "text/html": [
       "<div>\n",
       "<style scoped>\n",
       "    .dataframe tbody tr th:only-of-type {\n",
       "        vertical-align: middle;\n",
       "    }\n",
       "\n",
       "    .dataframe tbody tr th {\n",
       "        vertical-align: top;\n",
       "    }\n",
       "\n",
       "    .dataframe thead th {\n",
       "        text-align: right;\n",
       "    }\n",
       "</style>\n",
       "<table border=\"1\" class=\"dataframe\">\n",
       "  <thead>\n",
       "    <tr style=\"text-align: right;\">\n",
       "      <th></th>\n",
       "      <th>user_id</th>\n",
       "      <th>click_article_id</th>\n",
       "    </tr>\n",
       "  </thead>\n",
       "  <tbody>\n",
       "    <tr>\n",
       "      <th>0</th>\n",
       "      <td>0</td>\n",
       "      <td>157541</td>\n",
       "    </tr>\n",
       "    <tr>\n",
       "      <th>1</th>\n",
       "      <td>0</td>\n",
       "      <td>68866</td>\n",
       "    </tr>\n",
       "    <tr>\n",
       "      <th>2</th>\n",
       "      <td>1</td>\n",
       "      <td>235840</td>\n",
       "    </tr>\n",
       "    <tr>\n",
       "      <th>3</th>\n",
       "      <td>1</td>\n",
       "      <td>96663</td>\n",
       "    </tr>\n",
       "    <tr>\n",
       "      <th>4</th>\n",
       "      <td>2</td>\n",
       "      <td>119592</td>\n",
       "    </tr>\n",
       "  </tbody>\n",
       "</table>\n",
       "</div>"
      ],
      "text/plain": [
       "  user_id click_article_id\n",
       "0       0           157541\n",
       "1       0            68866\n",
       "2       1           235840\n",
       "3       1            96663\n",
       "4       2           119592"
      ]
     },
     "metadata": {},
     "output_type": "display_data"
    },
    {
     "data": {
      "text/plain": [
       "user_id             322897\n",
       "click_article_id     46033\n",
       "dtype: int64"
      ]
     },
     "metadata": {},
     "output_type": "display_data"
    }
   ],
   "source": [
    "display(user_clicks.head(),user_clicks.nunique())"
   ]
  },
  {
   "cell_type": "markdown",
   "metadata": {},
   "source": [
    "# Train/Test Split"
   ]
  },
  {
   "cell_type": "code",
   "execution_count": 1,
   "metadata": {},
   "outputs": [],
   "source": [
    "def train_test_split(df, size, leftover_size):\n",
    "    df = df[df.groupby('user_id').user_id.transform(len) >= (size + leftover_size)]\n",
    "    size = 8        # sample size per user\n",
    "    replace = False  # without replacement\n",
    "    fn = lambda obj: obj.loc[np.random.choice(obj.index, size, replace),:]\n",
    "    df_train = df.groupby('user_id', as_index=False).apply(fn)\n",
    "    df_test = df[~df.index.isin(df_train.index)]\n",
    "    \n",
    "    return df_train, df_test"
   ]
  },
  {
   "cell_type": "code",
   "execution_count": 32,
   "metadata": {},
   "outputs": [],
   "source": [
    "df_train, df_test = train_test_split(user_clicks,8,2)"
   ]
  },
  {
   "cell_type": "code",
   "execution_count": 33,
   "metadata": {},
   "outputs": [],
   "source": [
    "df_sample = df_train[0:800]"
   ]
  },
  {
   "cell_type": "code",
   "execution_count": 34,
   "metadata": {},
   "outputs": [],
   "source": [
    "df_train.to_csv('data/df_train.csv')\n",
    "df_test.to_csv('data/df_test.csv')\n",
    "df_sample.to_csv('data/df_sample.csv')"
   ]
  },
  {
   "cell_type": "code",
   "execution_count": 35,
   "metadata": {},
   "outputs": [
    {
     "name": "stdout",
     "output_type": "stream",
     "text": [
      "(684405, 2)\n",
      "(2027773, 2)\n",
      "(800, 2)\n"
     ]
    }
   ],
   "source": [
    "print(df_train.shape)\n",
    "print(df_test.shape)\n",
    "print(df_sample.shape)"
   ]
  },
  {
   "cell_type": "markdown",
   "metadata": {},
   "source": [
    "### Read Back"
   ]
  },
  {
   "cell_type": "code",
   "execution_count": 7,
   "metadata": {},
   "outputs": [],
   "source": [
    "df_train = pd.read_csv('data/df_train.csv')\n",
    "df_test = pd.read_csv('data/df_test.csv')"
   ]
  },
  {
   "cell_type": "code",
   "execution_count": 5,
   "metadata": {},
   "outputs": [],
   "source": [
    "df_sample = pd.read_csv('data/df_sample.csv')"
   ]
  },
  {
   "cell_type": "markdown",
   "metadata": {},
   "source": [
    "# Model 1: Linear Factorization"
   ]
  },
  {
   "cell_type": "code",
   "execution_count": 6,
   "metadata": {},
   "outputs": [],
   "source": [
    "class LinearModel:\n",
    "    def __init__(self, user_data, item_embeddings, size=8, embeddings_size=250, T=1):\n",
    "        self.user_data = user_data\n",
    "        self.item_embeddings = item_embeddings\n",
    "        self.T = T\n",
    "        self.Vd = LinearModel.d.get_embedding_vectors(\n",
    "            item_embeddings, user_data, size, embeddings_size=embeddings_size\n",
    "        )\n",
    "        self.U = self.initialize_user_vectors(\n",
    "            size=size,embeddings_size=embeddings_size\n",
    "        )\n",
    "        self.reset_errors()\n",
    "        \n",
    "    def initialize_user_vectors(self,size,embeddings_size=250):\n",
    "        return np.mean(LinearModel.d.get_embedding_vectors(\n",
    "            self.item_embeddings,\n",
    "            self.user_data,\n",
    "            size,\n",
    "            embeddings_size=embeddings_size\n",
    "        ),axis=1) #[:,np.newaxis]\n",
    "        \n",
    "    def reset_errors(self):\n",
    "        #this is for tracking in steps of GD\n",
    "        self.errors = []\n",
    "    \n",
    "    #############################\n",
    "    ###### SEEN AND UNSEEN ######\n",
    "    #############################\n",
    "    \n",
    "    class d:\n",
    "        @staticmethod\n",
    "        def get_embedding_vectors(V_embeddings, df, size, embeddings_size=250):\n",
    "            return np.hstack(V_embeddings[df.click_article_id.to_list()]).reshape(-1,size,embeddings_size)\n",
    "    \n",
    "    class dbar:\n",
    "        @staticmethod\n",
    "        def get_unseen(df, u, size, len_):\n",
    "            return np.random.choice(\n",
    "                np.delete(\n",
    "                    np.arange(len_),\n",
    "                    df[df.index.get_level_values(0)==u].click_article_id,\n",
    "                ),\n",
    "                size=size,\n",
    "            )\n",
    "        \n",
    "        @staticmethod\n",
    "        def get_all_unseen(df, size, len_=364047):            \n",
    "            #semi-vectorized version\n",
    "            \n",
    "            return df.user_id.drop_duplicates().map(\n",
    "                lambda u: LinearModel.dbar.get_unseen(df, u, size, len_)\n",
    "            )\n",
    "        \n",
    "        @staticmethod\n",
    "        def get_embedding_vectors(V_embeddings, df, size, embeddings_size=250, len_=36047):\n",
    "            return np.hstack(\n",
    "                V_embeddings[LinearModel.dbar.get_all_unseen(df,size,len_=len_).tolist()]\n",
    "            ).reshape(\n",
    "                -1,\n",
    "                size,\n",
    "                embeddings_size\n",
    "            )\n",
    "    \n",
    "    ########################\n",
    "    ##### GD UTILITIES #####\n",
    "    ########################\n",
    "    \n",
    "    class gradient: \n",
    "        @staticmethod\n",
    "        def J(U,Vd,Vdbar, repeat=1, size=8, embedding_size=250,hinge_param=1):\n",
    "            '''\n",
    "            Cost for linear model.\n",
    "            Size refers to size of axis 1 for max function (hinge loss)\n",
    "            '''\n",
    "\n",
    "            cost = hinge_param + np.tensordot(U,Vdbar,axes=(1,2))[0] - np.tensordot(U,Vd,axes=(1,2))[0]\n",
    "            \n",
    "            \n",
    "            return np.sum(\n",
    "                np.max(\n",
    "                    [np.zeros((U.shape[0]*size)), cost.ravel()], axis = 0\n",
    "                )\n",
    "            )\n",
    "        \n",
    "        @staticmethod\n",
    "        def dJ(U,Vd,Vdbar,size=8,embedding_size=250,hinge_param=1):\n",
    "            #conditional derivitive\n",
    "            \n",
    "            return np.sum(\n",
    "                (\n",
    "                    hinge_param + np.tensordot(U,Vdbar,axes=(1,2))[0]\n",
    "                    - np.tensordot(U,Vd,axes=(1,2))[0] < 0\n",
    "                ).repeat(\n",
    "                    embedding_size\n",
    "                ).reshape(-1,size,embedding_size) * (Vdbar - Vd),\n",
    "                axis=1\n",
    "            )\n",
    "    \n",
    "    def gradient_descent_linear(\n",
    "        self,\n",
    "        alpha=0.1,\n",
    "        size=8,\n",
    "        test_size=128,\n",
    "        embeddings_size=250,\n",
    "        test=True,\n",
    "        hinge_param=1,\n",
    "        iteration=0,\n",
    "        max_iterations=500\n",
    "    ):\n",
    "        #Stochastic Gradient Descent\n",
    "\n",
    "        #print('Vd', self.item_embeddings[0,0:10])\n",
    "        \n",
    "        #resample stuff\n",
    "        Vdbar_small = LinearModel.dbar.get_embedding_vectors(\n",
    "            self.item_embeddings,\n",
    "            self.user_data,\n",
    "            size,\n",
    "            embeddings_size=embeddings_size,\n",
    "        )\n",
    "\n",
    "        self.U = self.U - alpha * LinearModel.gradient.dJ(\n",
    "            self.U,\n",
    "            self.Vd,\n",
    "            Vdbar_small,\n",
    "        ) #fix this\n",
    "        \n",
    "        \n",
    "        while True:\n",
    "            if test == True:\n",
    "                Vdbar_big = LinearModel.dbar.get_embedding_vectors(\n",
    "                    self.item_embeddings,\n",
    "                    self.user_data,\n",
    "                    test_size,\n",
    "                    embeddings_size=embeddings_size,\n",
    "                )\n",
    "                \n",
    "                J = LinearModel.gradient.J(\n",
    "                    self.U,\n",
    "                    self.Vd.repeat(test_size/size,axis=1),\n",
    "                    Vdbar_big,\n",
    "                    size=test_size,\n",
    "                    embedding_size=250,\n",
    "                    hinge_param=1\n",
    "                )\n",
    "                # the Vd reshape still needs to be fixed\n",
    "                \n",
    "                self.errors.append(J)\n",
    "                \n",
    "            if iteration == max_iterations:\n",
    "                #stop iterating\n",
    "                #display errors\n",
    "                plt.figure(figsize=(12,8))\n",
    "                plt.xlabel('Iterations')\n",
    "                sns.lineplot(\n",
    "                    x = range(len(self.errors)),\n",
    "                    y = self.errors\n",
    "                )\n",
    "                return self.U\n",
    "            #print(iteration)\n",
    "            iteration += 1\n",
    "            return self.gradient_descent_linear(\n",
    "                alpha=alpha, \n",
    "                size=size,\n",
    "                test_size=test_size,\n",
    "                embeddings_size=embeddings_size,\n",
    "                test=test, \n",
    "                hinge_param=hinge_param,\n",
    "                iteration=iteration, \n",
    "                max_iterations=max_iterations)"
   ]
  },
  {
   "cell_type": "markdown",
   "metadata": {},
   "source": [
    "# Model 2: Multiple User Latent Vectors"
   ]
  },
  {
   "cell_type": "code",
   "execution_count": 21,
   "metadata": {},
   "outputs": [],
   "source": [
    "class NonlinearModel(LinearModel):\n",
    "    def initialize_user_vectors(self,size,embeddings_size):\n",
    "        '''\n",
    "        sets self.U in parent class __init__\n",
    "        '''\n",
    "        starting_vectors = LinearModel.d.get_embedding_vectors(\n",
    "            self.item_embeddings,\n",
    "            self.user_data,\n",
    "            size,\n",
    "            embeddings_size=embeddings_size\n",
    "        )\n",
    "        \n",
    "        return NonlinearModel.Cluster.k_means(starting_vectors,self.T)\n",
    "    \n",
    "    \n",
    "    class Cluster():\n",
    "        @staticmethod\n",
    "        def starting_centroids(points,T):\n",
    "            '''\n",
    "            initialize centroids by randomly picking an item for each user\n",
    "            '''\n",
    "            starter_idx = np.random.rand(points.shape[0],T).argsort(axis=-1)[:,0:T,np.newaxis]\n",
    "            return np.take_along_axis(\n",
    "                points,\n",
    "                starter_idx,\n",
    "                axis=1\n",
    "            )\n",
    "\n",
    "        @staticmethod\n",
    "        def closest_centroid(points, centroids):\n",
    "            '''\n",
    "            find the closest centroid to each point\n",
    "            '''\n",
    "            return np.argmin(\n",
    "                np.square(\n",
    "                    np.sum(\n",
    "                        np.square(points[:,:,np.newaxis] - centroids[:,np.newaxis]),\n",
    "                        axis=3\n",
    "                    ),\n",
    "                ),\n",
    "                axis=2\n",
    "            )\n",
    "\n",
    "        @staticmethod\n",
    "        def move_centroids(points,closest,k):\n",
    "            '''\n",
    "            find new centroid based on cluster center from cluster_centroid\n",
    "            '''\n",
    "            weights = np.equal(\n",
    "                np.arange(k)[np.newaxis,:,np.newaxis],\n",
    "                closest[:,np.newaxis,:]\n",
    "            )\n",
    "\n",
    "            weights = np.repeat(weights[:,:,:,np.newaxis],points.shape[2],axis=3)\n",
    "\n",
    "            points = np.repeat(points[:,np.newaxis],k,axis=1)\n",
    "\n",
    "            return np.average(\n",
    "                points,\n",
    "                weights = weights,\n",
    "                axis=2\n",
    "            )\n",
    "\n",
    "        @staticmethod\n",
    "        def k_means(starting_vectors,k):\n",
    "            '''\n",
    "            Description Here\n",
    "            '''\n",
    "            def iterative_kmeans(starting_vectors,old_centroids, new_centroids,k):\n",
    "                while True:\n",
    "                    if np.all(new_centroids == old_centroids):\n",
    "                        return new_centroids\n",
    "                    else:\n",
    "                        old_centroids = new_centroids\n",
    "                        new_centroids = NonlinearModel.Cluster.move_centroids(\n",
    "                            starting_vectors,\n",
    "                            NonlinearModel.Cluster.closest_centroid(\n",
    "                                starting_vectors,\n",
    "                                old_centroids\n",
    "                                ),                                           \n",
    "                            k,\n",
    "                        )\n",
    "                        iterative_kmeans(starting_vectors,old_centroids,new_centroids,k)\n",
    "            starting_centroids = NonlinearModel.Cluster.starting_centroids(starting_vectors,k)\n",
    "            return iterative_kmeans(\n",
    "                starting_vectors,\n",
    "                np.zeros(starting_centroids.shape),\n",
    "                starting_centroids,\n",
    "                k\n",
    "            )\n",
    "    \n",
    "\n",
    "    class gradient():\n",
    "        @staticmethod\n",
    "        def argmax_indices(U,Vd):\n",
    "            '''\n",
    "            get which interest unit per user, per item, is best for each of their relevant items, d\n",
    "            output of tensor dot should be 100 x 8 x 3\n",
    "            output of argmax should be 100 x 8\n",
    "            '''\n",
    "            return np.argmax(\n",
    "                np.tensordot(\n",
    "                    Vd,\n",
    "                    U,\n",
    "                    axes=(2,2)\n",
    "                )[:,:,0],\n",
    "                axis=2\n",
    "            )\n",
    "        \n",
    "        @staticmethod\n",
    "        def dJi(Ui,argmax_indices,Vd,Vdbar,T,hinge_param=1):\n",
    "            # Ui has only the relevant vector, U has all vectors\n",
    "            cond = hinge_param + np.tensordot(Ui,Vdbar,axes=(2,2))[0,0] - np.tensordot(Ui,Vd,axes=(2,2))[0,0] > 0\n",
    "            g = Vdbar - Vd\n",
    "            partial_gradient = g * cond[:,:,np.newaxis]\n",
    "            broadcast_gradient=partial_gradient[:,np.newaxis].repeat(T,axis=1)\n",
    "            boolean_matrix = np.equal(argmax_indices[:,np.newaxis],np.arange(T)[np.newaxis,:,np.newaxis])\n",
    "            return np.sum(broadcast_gradient * boolean_matrix[:,:,:,np.newaxis], axis=2)\n",
    "        \n",
    "        @staticmethod\n",
    "        def J(Ui,Vd,Vdbar,hinge_param=1):\n",
    "            cost = hinge_param + np.tensordot(Ui,Vdbar,axes=(2,2))[0,0] - np.tensordot(Ui,Vd,axes=(2,2))[0,0]\n",
    "            return np.sum(\n",
    "                np.max(\n",
    "                    [np.zeros((cost.shape[0],cost.shape[1])), cost], axis = 1\n",
    "                )\n",
    "            )\n",
    "\n",
    "        \n",
    "    def get_Vdbar_test(self,test_size=128,embeddings_size=250):\n",
    "        self.Vdbar_test = LinearModel.dbar.get_embedding_vectors(\n",
    "                self.item_embeddings,\n",
    "                self.user_data,\n",
    "                test_size,\n",
    "                embeddings_size=embeddings_size,\n",
    "            )\n",
    "        \n",
    "        \n",
    "\n",
    "    def gradient_descent_nonlinear(\n",
    "        self,\n",
    "        alpha=0.01,\n",
    "        size=8,\n",
    "        test_size=128,\n",
    "        embeddings_size=250,\n",
    "        test=True,\n",
    "        hinge_param=1,\n",
    "        iteration=0,\n",
    "        max_iterations=500\n",
    "    ):\n",
    "\n",
    "        argmax_indices = NonlinearModel.gradient.argmax_indices(self.U,self.Vd)\n",
    "        \n",
    "        Ui = np.take_along_axis(\n",
    "            self.U,\n",
    "            argmax_indices[:,:,np.newaxis],\n",
    "            axis=1\n",
    "        )\n",
    "        \n",
    "        Vdbar = LinearModel.dbar.get_embedding_vectors(\n",
    "            self.item_embeddings,\n",
    "            self.user_data,\n",
    "            size,\n",
    "            embeddings_size=embeddings_size,\n",
    "        )\n",
    "        \n",
    "        self.U -= alpha * NonlinearModel.gradient.dJi(Ui,argmax_indices,self.Vd,Vdbar,self.T,hinge_param=hinge_param)\n",
    "        \n",
    "        if test == True:\n",
    "            #get Vdbar\n",
    "            Vdbar_test = LinearModel.dbar.get_embedding_vectors(\n",
    "                self.item_embeddings,\n",
    "                self.user_data,\n",
    "                test_size,\n",
    "                embeddings_size=embeddings_size,\n",
    "            )\n",
    "            \n",
    "            \n",
    "            \n",
    "            self.errors.append(\n",
    "                NonlinearModel.gradient.J(Ui,self.Vd.repeat(test_size/size,axis=1),Vdbar_test,hinge_param=1)\n",
    "            )\n",
    "        \n",
    "        if iteration == max_iterations:\n",
    "                if test == True:\n",
    "                    \n",
    "                    plt.figure(figsize=(8,8))\n",
    "                    plt.xlabel('Iterations')\n",
    "                    sns.lineplot(\n",
    "                        x = range(len(self.errors)),\n",
    "                        y = self.errors\n",
    "                    )\n",
    "                    \n",
    "                    return None\n",
    "        iteration += 1\n",
    "        return self.gradient_descent_nonlinear(\n",
    "            alpha=alpha,\n",
    "            size=size,\n",
    "            test_size=test_size,\n",
    "            embeddings_size=embeddings_size,\n",
    "            test=test,\n",
    "            hinge_param=hinge_param,\n",
    "            iteration=iteration,\n",
    "            max_iterations=max_iterations\n",
    "    )"
   ]
  },
  {
   "cell_type": "markdown",
   "metadata": {},
   "source": [
    "# Test Models\n",
    "### Linear Model"
   ]
  },
  {
   "cell_type": "code",
   "execution_count": 28,
   "metadata": {},
   "outputs": [
    {
     "name": "stdout",
     "output_type": "stream",
     "text": [
      "[[-0.29646125 -0.9619813  -0.385169   -0.15401676 -0.1726656  -0.13469934\n",
      "  -0.43434936 -0.0300447   0.1256653   0.05415066]\n",
      " [-0.5805663  -0.96820724 -0.2830381  -0.51715887 -0.1854958  -0.15514725\n",
      "  -0.3823168  -0.18502773  0.08984882 -0.16653082]\n",
      " [-0.19002968 -0.9703981  -0.21350573 -0.36327484 -0.52580327 -0.11400038\n",
      "   0.19791931  0.03186698  0.33862725  0.08496387]]\n"
     ]
    }
   ],
   "source": [
    "lm = LinearModel(df_sample,embeddings,size=8, embeddings_size=250, T=1)\n",
    "print(lm.U[0:3,0:10])"
   ]
  },
  {
   "cell_type": "code",
   "execution_count": 12,
   "metadata": {},
   "outputs": [
    {
     "name": "stdout",
     "output_type": "stream",
     "text": [
      "158.23645305633545 seconds\n"
     ]
    },
    {
     "data": {
      "image/png": "[encoded data removed]",
      "text/plain": [
       "<Figure size 864x576 with 1 Axes>"
      ]
     },
     "metadata": {
      "needs_background": "light"
     },
     "output_type": "display_data"
    }
   ],
   "source": [
    "lm.reset_errors()\n",
    "start = time()\n",
    "lm.gradient_descent_linear(test=True,alpha=0.0001, max_iterations=800, test_size=128, hinge_param = 1)\n",
    "print(time() - start, 'seconds')"
   ]
  },
  {
   "cell_type": "markdown",
   "metadata": {},
   "source": [
    "### Nonlinear Model"
   ]
  },
  {
   "cell_type": "code",
   "execution_count": 22,
   "metadata": {
    "scrolled": false
   },
   "outputs": [
    {
     "name": "stdout",
     "output_type": "stream",
     "text": [
      "[[[-4.09697711e-01 -9.51300085e-01 -3.68948638e-01 -1.54123768e-01\n",
      "    8.31604153e-02  2.81519353e-01 -6.81944370e-01 -2.08377331e-01\n",
      "   -4.88360554e-01  3.26055020e-01]\n",
      "  [-1.43459380e-01 -9.62325096e-01 -2.62884527e-01 -2.10758239e-01\n",
      "   -6.58302605e-01 -6.02302551e-01 -1.15489423e-01 -8.20993185e-02\n",
      "    3.50465655e-01 -3.68998408e-01]\n",
      "  [-3.16343963e-01 -9.67150033e-01 -4.54421401e-01 -1.25592515e-01\n",
      "   -5.77600971e-02 -1.09007105e-01 -4.69981909e-01  8.51489380e-02\n",
      "    3.20278078e-01  1.29772991e-01]]\n",
      "\n",
      " [[-6.03582859e-01 -9.74321723e-01  1.74005479e-01 -8.46020103e-01\n",
      "   -4.85560566e-01  2.83905149e-01  3.05400699e-01 -2.10794777e-01\n",
      "    5.05345315e-02  1.03260383e-01]\n",
      "  [-3.29614580e-01 -9.70748663e-01 -2.23241776e-01 -2.96942860e-01\n",
      "    1.96437538e-03 -1.55467629e-01 -5.58442056e-01 -1.89327449e-03\n",
      "    3.08049440e-01  6.23149723e-02]\n",
      "  [-6.94533825e-01 -9.63879347e-01 -5.41458070e-01 -4.62836176e-01\n",
      "   -1.29193455e-01 -3.74513268e-01 -6.38112903e-01 -2.63711423e-01\n",
      "    4.05684114e-04 -4.15849358e-01]]\n",
      "\n",
      " [[-7.52023309e-02 -9.68780637e-01 -1.89983323e-02  1.06156230e-01\n",
      "   -6.94752693e-01  4.75252599e-01 -1.00138754e-01 -1.50836155e-01\n",
      "    2.63048470e-01  1.74923316e-02]\n",
      "  [-3.08138281e-01 -9.71052647e-01 -2.21171305e-01 -5.44021666e-01\n",
      "   -6.88925147e-01 -4.32957500e-01  4.53489304e-01  9.01506934e-03\n",
      "    4.91532326e-01  5.09624854e-02]\n",
      "  [ 1.70858607e-01 -9.70360339e-01 -5.64192772e-01 -3.98402959e-01\n",
      "    6.27704978e-01  3.02279145e-01 -4.83814389e-01  5.11532784e-01\n",
      "   -2.74740547e-01  3.89913797e-01]]]\n"
     ]
    }
   ],
   "source": [
    "nm = NonlinearModel(df_sample,embeddings,size=8, embeddings_size=250, T=3)\n",
    "print(nm.U[0:3,:,0:10])"
   ]
  },
  {
   "cell_type": "code",
   "execution_count": 34,
   "metadata": {},
   "outputs": [
    {
     "name": "stdout",
     "output_type": "stream",
     "text": [
      "145.88125801086426 seconds\n"
     ]
    },
    {
     "data": {
      "image/png": "[encoded data removed]",
      "text/plain": [
       "<Figure size 576x576 with 1 Axes>"
      ]
     },
     "metadata": {
      "needs_background": "light"
     },
     "output_type": "display_data"
    }
   ],
   "source": [
    "df_x = pd.read_csv('data/df_x.csv')\n",
    "nm = NonlinearModel(df_x,embeddings,size=8, embeddings_size=250, T=3)\n",
    "nm.reset_errors()\n",
    "start = time()\n",
    "nm.gradient_descent_nonlinear(test=True,alpha=0.001, max_iterations=600, test_size=64, hinge_param = 25)\n",
    "print(time() - start, 'seconds')"
   ]
  },
  {
   "cell_type": "code",
   "execution_count": null,
   "metadata": {},
   "outputs": [],
   "source": []
  },
  {
   "cell_type": "markdown",
   "metadata": {},
   "source": [
    "# Train/Test Validation\n",
    "\n",
    "This is now a classification problem.  If a model correctly predicts an article relevant to a user, that's good (1).  Otherwise no good (0).  The final score is the sum total of these scores / the size of the test set."
   ]
  },
  {
   "cell_type": "code",
   "execution_count": null,
   "metadata": {},
   "outputs": [],
   "source": [
    "lm_final = LinearModel()\n",
    "lm_final.gradient_descent_linear(test=False, alpha=0.0001, max_iterations=350, hinge_param = 1)"
   ]
  },
  {
   "cell_type": "code",
   "execution_count": null,
   "metadata": {},
   "outputs": [],
   "source": [
    "nm_final = NonlinearModel()\n",
    "nm_final.gradient_descent_nonlinear(test=False)"
   ]
  },
  {
   "cell_type": "code",
   "execution_count": null,
   "metadata": {},
   "outputs": [],
   "source": []
  },
  {
   "cell_type": "code",
   "execution_count": null,
   "metadata": {},
   "outputs": [],
   "source": []
  },
  {
   "cell_type": "code",
   "execution_count": null,
   "metadata": {},
   "outputs": [],
   "source": []
  }
 ],
 "metadata": {
  "kernelspec": {
   "display_name": "Python 3",
   "language": "python",
   "name": "python3"
  },
  "language_info": {
   "codemirror_mode": {
    "name": "ipython",
    "version": 3
   },
   "file_extension": ".py",
   "mimetype": "text/x-python",
   "name": "python",
   "nbconvert_exporter": "python",
   "pygments_lexer": "ipython3",
   "version": "3.7.4"
  }
 },
 "nbformat": 4,
 "nbformat_minor": 2
}

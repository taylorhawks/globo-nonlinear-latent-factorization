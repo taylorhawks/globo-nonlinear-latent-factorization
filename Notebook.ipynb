{
 "cells": [
  {
   "cell_type": "code",
   "execution_count": 9,
   "metadata": {},
   "outputs": [
    {
     "name": "stdout",
     "output_type": "stream",
     "text": [
      "3.7.4 (v3.7.4:e09359112e, Jul  8 2019, 14:54:52) \n",
      "[Clang 6.0 (clang-600.0.57)]\n"
     ]
    }
   ],
   "source": [
    "import sys\n",
    "print(sys.version)"
   ]
  },
  {
   "cell_type": "code",
   "execution_count": 2,
   "metadata": {},
   "outputs": [],
   "source": [
    "import warnings\n",
    "warnings.filterwarnings(\"ignore\")"
   ]
  },
  {
   "cell_type": "code",
   "execution_count": 3,
   "metadata": {},
   "outputs": [],
   "source": [
    "import pandas as pd\n",
    "import numpy as np\n",
    "import pickle\n",
    "from os import listdir\n",
    "import seaborn as sns\n",
    "import matplotlib.pyplot as plt\n",
    "from tqdm.notebook import tqdm\n",
    "#tqdm.pandas()\n",
    "from time import time"
   ]
  },
  {
   "cell_type": "code",
   "execution_count": 4,
   "metadata": {},
   "outputs": [],
   "source": [
    "#read files\n",
    "\n",
    "#description: https://www.kaggle.com/gspmoreira/news-portal-user-interactions-by-globocom\n",
    "\n",
    "articles_metadata = pd.read_csv('data/articles_metadata.csv')\n",
    "clicks_sample = pd.read_csv('data/clicks_sample.csv')\n",
    "\n",
    "\n",
    "with open('data/articles_embeddings.pickle', 'rb') as pickle_file:\n",
    "    embeddings = pickle.load(pickle_file)"
   ]
  },
  {
   "cell_type": "code",
   "execution_count": 5,
   "metadata": {},
   "outputs": [
    {
     "name": "stdout",
     "output_type": "stream",
     "text": [
      "articles_metadata\n"
     ]
    },
    {
     "data": {
      "text/html": [
       "<div>\n",
       "<style scoped>\n",
       "    .dataframe tbody tr th:only-of-type {\n",
       "        vertical-align: middle;\n",
       "    }\n",
       "\n",
       "    .dataframe tbody tr th {\n",
       "        vertical-align: top;\n",
       "    }\n",
       "\n",
       "    .dataframe thead th {\n",
       "        text-align: right;\n",
       "    }\n",
       "</style>\n",
       "<table border=\"1\" class=\"dataframe\">\n",
       "  <thead>\n",
       "    <tr style=\"text-align: right;\">\n",
       "      <th></th>\n",
       "      <th>article_id</th>\n",
       "      <th>category_id</th>\n",
       "      <th>created_at_ts</th>\n",
       "      <th>publisher_id</th>\n",
       "      <th>words_count</th>\n",
       "    </tr>\n",
       "  </thead>\n",
       "  <tbody>\n",
       "    <tr>\n",
       "      <th>0</th>\n",
       "      <td>0</td>\n",
       "      <td>0</td>\n",
       "      <td>1513144419000</td>\n",
       "      <td>0</td>\n",
       "      <td>168</td>\n",
       "    </tr>\n",
       "    <tr>\n",
       "      <th>1</th>\n",
       "      <td>1</td>\n",
       "      <td>1</td>\n",
       "      <td>1405341936000</td>\n",
       "      <td>0</td>\n",
       "      <td>189</td>\n",
       "    </tr>\n",
       "    <tr>\n",
       "      <th>2</th>\n",
       "      <td>2</td>\n",
       "      <td>1</td>\n",
       "      <td>1408667706000</td>\n",
       "      <td>0</td>\n",
       "      <td>250</td>\n",
       "    </tr>\n",
       "    <tr>\n",
       "      <th>3</th>\n",
       "      <td>3</td>\n",
       "      <td>1</td>\n",
       "      <td>1408468313000</td>\n",
       "      <td>0</td>\n",
       "      <td>230</td>\n",
       "    </tr>\n",
       "    <tr>\n",
       "      <th>4</th>\n",
       "      <td>4</td>\n",
       "      <td>1</td>\n",
       "      <td>1407071171000</td>\n",
       "      <td>0</td>\n",
       "      <td>162</td>\n",
       "    </tr>\n",
       "  </tbody>\n",
       "</table>\n",
       "</div>"
      ],
      "text/plain": [
       "   article_id  category_id  created_at_ts  publisher_id  words_count\n",
       "0           0            0  1513144419000             0          168\n",
       "1           1            1  1405341936000             0          189\n",
       "2           2            1  1408667706000             0          250\n",
       "3           3            1  1408468313000             0          230\n",
       "4           4            1  1407071171000             0          162"
      ]
     },
     "metadata": {},
     "output_type": "display_data"
    },
    {
     "name": "stdout",
     "output_type": "stream",
     "text": [
      "clicks_sample\n"
     ]
    },
    {
     "data": {
      "text/html": [
       "<div>\n",
       "<style scoped>\n",
       "    .dataframe tbody tr th:only-of-type {\n",
       "        vertical-align: middle;\n",
       "    }\n",
       "\n",
       "    .dataframe tbody tr th {\n",
       "        vertical-align: top;\n",
       "    }\n",
       "\n",
       "    .dataframe thead th {\n",
       "        text-align: right;\n",
       "    }\n",
       "</style>\n",
       "<table border=\"1\" class=\"dataframe\">\n",
       "  <thead>\n",
       "    <tr style=\"text-align: right;\">\n",
       "      <th></th>\n",
       "      <th>user_id</th>\n",
       "      <th>session_id</th>\n",
       "      <th>session_start</th>\n",
       "      <th>session_size</th>\n",
       "      <th>click_article_id</th>\n",
       "      <th>click_timestamp</th>\n",
       "      <th>click_environment</th>\n",
       "      <th>click_deviceGroup</th>\n",
       "      <th>click_os</th>\n",
       "      <th>click_country</th>\n",
       "      <th>click_region</th>\n",
       "      <th>click_referrer_type</th>\n",
       "    </tr>\n",
       "  </thead>\n",
       "  <tbody>\n",
       "    <tr>\n",
       "      <th>0</th>\n",
       "      <td>0</td>\n",
       "      <td>1506825423271737</td>\n",
       "      <td>1506825423000</td>\n",
       "      <td>2</td>\n",
       "      <td>157541</td>\n",
       "      <td>1506826828020</td>\n",
       "      <td>4</td>\n",
       "      <td>3</td>\n",
       "      <td>20</td>\n",
       "      <td>1</td>\n",
       "      <td>20</td>\n",
       "      <td>2</td>\n",
       "    </tr>\n",
       "    <tr>\n",
       "      <th>1</th>\n",
       "      <td>0</td>\n",
       "      <td>1506825423271737</td>\n",
       "      <td>1506825423000</td>\n",
       "      <td>2</td>\n",
       "      <td>68866</td>\n",
       "      <td>1506826858020</td>\n",
       "      <td>4</td>\n",
       "      <td>3</td>\n",
       "      <td>20</td>\n",
       "      <td>1</td>\n",
       "      <td>20</td>\n",
       "      <td>2</td>\n",
       "    </tr>\n",
       "    <tr>\n",
       "      <th>2</th>\n",
       "      <td>1</td>\n",
       "      <td>1506825426267738</td>\n",
       "      <td>1506825426000</td>\n",
       "      <td>2</td>\n",
       "      <td>235840</td>\n",
       "      <td>1506827017951</td>\n",
       "      <td>4</td>\n",
       "      <td>1</td>\n",
       "      <td>17</td>\n",
       "      <td>1</td>\n",
       "      <td>16</td>\n",
       "      <td>2</td>\n",
       "    </tr>\n",
       "    <tr>\n",
       "      <th>3</th>\n",
       "      <td>1</td>\n",
       "      <td>1506825426267738</td>\n",
       "      <td>1506825426000</td>\n",
       "      <td>2</td>\n",
       "      <td>96663</td>\n",
       "      <td>1506827047951</td>\n",
       "      <td>4</td>\n",
       "      <td>1</td>\n",
       "      <td>17</td>\n",
       "      <td>1</td>\n",
       "      <td>16</td>\n",
       "      <td>2</td>\n",
       "    </tr>\n",
       "    <tr>\n",
       "      <th>4</th>\n",
       "      <td>2</td>\n",
       "      <td>1506825435299739</td>\n",
       "      <td>1506825435000</td>\n",
       "      <td>2</td>\n",
       "      <td>119592</td>\n",
       "      <td>1506827090575</td>\n",
       "      <td>4</td>\n",
       "      <td>1</td>\n",
       "      <td>17</td>\n",
       "      <td>1</td>\n",
       "      <td>24</td>\n",
       "      <td>2</td>\n",
       "    </tr>\n",
       "  </tbody>\n",
       "</table>\n",
       "</div>"
      ],
      "text/plain": [
       "   user_id        session_id  session_start  session_size  click_article_id  \\\n",
       "0        0  1506825423271737  1506825423000             2            157541   \n",
       "1        0  1506825423271737  1506825423000             2             68866   \n",
       "2        1  1506825426267738  1506825426000             2            235840   \n",
       "3        1  1506825426267738  1506825426000             2             96663   \n",
       "4        2  1506825435299739  1506825435000             2            119592   \n",
       "\n",
       "   click_timestamp  click_environment  click_deviceGroup  click_os  \\\n",
       "0    1506826828020                  4                  3        20   \n",
       "1    1506826858020                  4                  3        20   \n",
       "2    1506827017951                  4                  1        17   \n",
       "3    1506827047951                  4                  1        17   \n",
       "4    1506827090575                  4                  1        17   \n",
       "\n",
       "   click_country  click_region  click_referrer_type  \n",
       "0              1            20                    2  \n",
       "1              1            20                    2  \n",
       "2              1            16                    2  \n",
       "3              1            16                    2  \n",
       "4              1            24                    2  "
      ]
     },
     "metadata": {},
     "output_type": "display_data"
    },
    {
     "name": "stdout",
     "output_type": "stream",
     "text": [
      "embeddings shape\n",
      "(364047, 250)\n"
     ]
    }
   ],
   "source": [
    "print('articles_metadata')\n",
    "display(articles_metadata.head())\n",
    "print('clicks_sample')\n",
    "display(clicks_sample.head())\n",
    "print('embeddings shape')\n",
    "print(embeddings.shape)"
   ]
  },
  {
   "cell_type": "code",
   "execution_count": 5,
   "metadata": {},
   "outputs": [],
   "source": [
    "def get_click_data():\n",
    "    click_dir = 'data/clicks/clicks/'\n",
    "    columns = ['user_id','click_article_id','click_environment','click_deviceGroup'] #validate with EDA\n",
    "    return pd.concat(\n",
    "        pd.read_csv(click_dir + click_data)[columns] for click_data in tqdm(listdir('data/clicks/clicks'))\n",
    "    ).drop_duplicates()"
   ]
  },
  {
   "cell_type": "code",
   "execution_count": 6,
   "metadata": {},
   "outputs": [
    {
     "data": {
      "application/vnd.jupyter.widget-view+json": {
       "model_id": "fc103b85e07b4533943589aed820b7df",
       "version_major": 2,
       "version_minor": 0
      },
      "text/plain": [
       "HBox(children=(FloatProgress(value=0.0, max=385.0), HTML(value='')))"
      ]
     },
     "metadata": {},
     "output_type": "display_data"
    },
    {
     "name": "stdout",
     "output_type": "stream",
     "text": [
      "\n"
     ]
    }
   ],
   "source": [
    "# user_clicks = get_click_data()"
   ]
  },
  {
   "cell_type": "code",
   "execution_count": 7,
   "metadata": {},
   "outputs": [
    {
     "data": {
      "text/html": [
       "<div>\n",
       "<style scoped>\n",
       "    .dataframe tbody tr th:only-of-type {\n",
       "        vertical-align: middle;\n",
       "    }\n",
       "\n",
       "    .dataframe tbody tr th {\n",
       "        vertical-align: top;\n",
       "    }\n",
       "\n",
       "    .dataframe thead th {\n",
       "        text-align: right;\n",
       "    }\n",
       "</style>\n",
       "<table border=\"1\" class=\"dataframe\">\n",
       "  <thead>\n",
       "    <tr style=\"text-align: right;\">\n",
       "      <th></th>\n",
       "      <th>user_id</th>\n",
       "      <th>click_article_id</th>\n",
       "      <th>click_environment</th>\n",
       "      <th>click_deviceGroup</th>\n",
       "    </tr>\n",
       "  </thead>\n",
       "  <tbody>\n",
       "    <tr>\n",
       "      <th>0</th>\n",
       "      <td>0</td>\n",
       "      <td>157541</td>\n",
       "      <td>4</td>\n",
       "      <td>3</td>\n",
       "    </tr>\n",
       "    <tr>\n",
       "      <th>1</th>\n",
       "      <td>0</td>\n",
       "      <td>68866</td>\n",
       "      <td>4</td>\n",
       "      <td>3</td>\n",
       "    </tr>\n",
       "    <tr>\n",
       "      <th>2</th>\n",
       "      <td>1</td>\n",
       "      <td>235840</td>\n",
       "      <td>4</td>\n",
       "      <td>1</td>\n",
       "    </tr>\n",
       "    <tr>\n",
       "      <th>3</th>\n",
       "      <td>1</td>\n",
       "      <td>96663</td>\n",
       "      <td>4</td>\n",
       "      <td>1</td>\n",
       "    </tr>\n",
       "    <tr>\n",
       "      <th>4</th>\n",
       "      <td>2</td>\n",
       "      <td>119592</td>\n",
       "      <td>4</td>\n",
       "      <td>1</td>\n",
       "    </tr>\n",
       "  </tbody>\n",
       "</table>\n",
       "</div>"
      ],
      "text/plain": [
       "  user_id click_article_id click_environment click_deviceGroup\n",
       "0       0           157541                 4                 3\n",
       "1       0            68866                 4                 3\n",
       "2       1           235840                 4                 1\n",
       "3       1            96663                 4                 1\n",
       "4       2           119592                 4                 1"
      ]
     },
     "metadata": {},
     "output_type": "display_data"
    },
    {
     "data": {
      "text/plain": [
       "user_id              322897\n",
       "click_article_id      46033\n",
       "click_environment         3\n",
       "click_deviceGroup         5\n",
       "dtype: int64"
      ]
     },
     "metadata": {},
     "output_type": "display_data"
    }
   ],
   "source": [
    "display(user_clicks.head(),user_clicks.nunique())"
   ]
  },
  {
   "cell_type": "markdown",
   "metadata": {},
   "source": [
    "# Model 1: User Latent Vectors"
   ]
  },
  {
   "cell_type": "code",
   "execution_count": 6,
   "metadata": {},
   "outputs": [],
   "source": [
    "df_x = pd.read_csv('data/df_x.csv',index_col=1)"
   ]
  },
  {
   "cell_type": "code",
   "execution_count": 7,
   "metadata": {},
   "outputs": [
    {
     "data": {
      "text/html": [
       "<div>\n",
       "<style scoped>\n",
       "    .dataframe tbody tr th:only-of-type {\n",
       "        vertical-align: middle;\n",
       "    }\n",
       "\n",
       "    .dataframe tbody tr th {\n",
       "        vertical-align: top;\n",
       "    }\n",
       "\n",
       "    .dataframe thead th {\n",
       "        text-align: right;\n",
       "    }\n",
       "</style>\n",
       "<table border=\"1\" class=\"dataframe\">\n",
       "  <thead>\n",
       "    <tr style=\"text-align: right;\">\n",
       "      <th></th>\n",
       "      <th>user_id</th>\n",
       "      <th>click_article_id</th>\n",
       "      <th>env_device</th>\n",
       "    </tr>\n",
       "  </thead>\n",
       "  <tbody>\n",
       "    <tr>\n",
       "      <th>0</th>\n",
       "      <td>1</td>\n",
       "      <td>285719</td>\n",
       "      <td>env:4 device:1</td>\n",
       "    </tr>\n",
       "    <tr>\n",
       "      <th>1</th>\n",
       "      <td>1</td>\n",
       "      <td>234481</td>\n",
       "      <td>env:4 device:1</td>\n",
       "    </tr>\n",
       "    <tr>\n",
       "      <th>2</th>\n",
       "      <td>1</td>\n",
       "      <td>235840</td>\n",
       "      <td>env:4 device:1</td>\n",
       "    </tr>\n",
       "    <tr>\n",
       "      <th>3</th>\n",
       "      <td>1</td>\n",
       "      <td>283392</td>\n",
       "      <td>env:4 device:1</td>\n",
       "    </tr>\n",
       "    <tr>\n",
       "      <th>4</th>\n",
       "      <td>1</td>\n",
       "      <td>36162</td>\n",
       "      <td>env:4 device:1</td>\n",
       "    </tr>\n",
       "  </tbody>\n",
       "</table>\n",
       "</div>"
      ],
      "text/plain": [
       "   user_id  click_article_id      env_device\n",
       "0        1            285719  env:4 device:1\n",
       "1        1            234481  env:4 device:1\n",
       "2        1            235840  env:4 device:1\n",
       "3        1            283392  env:4 device:1\n",
       "4        1             36162  env:4 device:1"
      ]
     },
     "execution_count": 7,
     "metadata": {},
     "output_type": "execute_result"
    }
   ],
   "source": [
    "df_x.head()"
   ]
  },
  {
   "cell_type": "code",
   "execution_count": 10,
   "metadata": {},
   "outputs": [],
   "source": [
    "class LinearModel:\n",
    "    def __init__(self, user_data, item_embeddings, size=8, embeddings_size=250, T=1):\n",
    "        self.user_data = user_data\n",
    "        self.item_embeddings = item_embeddings\n",
    "        self.T = T\n",
    "        self.Vd = LinearModel.d.get_embedding_vectors(\n",
    "            item_embeddings, user_data, size, embeddings_size=embeddings_size\n",
    "        )\n",
    "        self.U = self.initialize_user_vectors(\n",
    "            size=size,embeddings_size=embeddings_size\n",
    "        )\n",
    "        self.instantiate_errors()\n",
    "        \n",
    "    def initialize_user_vectors(self,size,embeddings_size=250):\n",
    "        return np.mean(LinearModel.d.get_embedding_vectors(\n",
    "            self.item_embeddings,\n",
    "            self.user_data,\n",
    "            size,\n",
    "            embeddings_size=embeddings_size\n",
    "        ),axis=1) #.repeat(size,axis=0).reshape(-1,size,embeddings_size)\n",
    "        \n",
    "    def instantiate_errors(self):\n",
    "        #this is for tracking in steps of SGD\n",
    "        self.errors = []\n",
    "    \n",
    "    #############################\n",
    "    ###### SEEN AND UNSEEN ######\n",
    "    #############################\n",
    "    \n",
    "    class d:\n",
    "        @staticmethod\n",
    "        def get_embedding_vectors(V_embeddings, df, size, embeddings_size=250):\n",
    "            return np.hstack(V_embeddings[df.click_article_id.to_list()]).reshape(-1,size,embeddings_size)\n",
    "    \n",
    "    class dbar:\n",
    "        @staticmethod\n",
    "        def get_unseen(df, u, size, len_):\n",
    "            return np.random.choice(\n",
    "                np.delete(\n",
    "                    np.arange(len_),\n",
    "                    df[df.index.get_level_values(0)==u].click_article_id,\n",
    "                ),\n",
    "                size=size,\n",
    "            )\n",
    "        \n",
    "        @staticmethod\n",
    "        def get_all_unseen(df, size, len_=364047):            \n",
    "            #semi-vectorized version\n",
    "            \n",
    "            return df.user_id.drop_duplicates().map(\n",
    "                lambda u: LinearModel.dbar.get_unseen(df, u, size, len_)\n",
    "            )\n",
    "            \n",
    "#             return np.hstack(pd.DataFrame(\n",
    "#                 df.index.get_level_values(0)\n",
    "#             ).drop_duplicates().user_id.map(\n",
    "#                 lambda u: LinearModel.dbar.get_unseen(df, u, size, len_)\n",
    "#             ))\n",
    "        \n",
    "        @staticmethod\n",
    "        def get_embedding_vectors(V_embeddings, df, size, embeddings_size=250, len_=36047):\n",
    "            return np.hstack(\n",
    "                V_embeddings[LinearModel.dbar.get_all_unseen(df,size,len_=len_).tolist()]\n",
    "            ).reshape(\n",
    "                -1,\n",
    "                size,\n",
    "                embeddings_size\n",
    "            )\n",
    "    \n",
    "    #########################\n",
    "    ##### SGD UTILITIES #####\n",
    "    #########################\n",
    "    \n",
    "    class gradient: \n",
    "        @staticmethod\n",
    "        def J(U,Vd,Vdbar, size=8, embedding_size=250,hinge_param=1):\n",
    "\n",
    "            \n",
    "            \n",
    "#             return np.sum(\n",
    "#                 np.multiply(\n",
    "#                     hinge_param + np.tensordot(U,Vdbar,axes=(1,2))[0] - np.tensordot(U,Vd,axes=(1,2))[0] > 0,\n",
    "#                     np.tensordot(U,Vdbar,axes=(1,2))[0] - np.tensordot(U,Vd,axes=(1,2))[0]\n",
    "#                 )\n",
    "#             )\n",
    "\n",
    "\n",
    "            cost = hinge_param + np.tensordot(U,Vdbar,axes=(1,2))[0] - np.tensordot(U,Vd,axes=(1,2))[0]\n",
    "            return np.sum(\n",
    "                np.max(\n",
    "                    [np.zeros((U.shape[0],size)), cost], axis = 0\n",
    "                )\n",
    "            )\n",
    "        \n",
    "        @staticmethod\n",
    "        def dJ(U,Vd,Vdbar,size=8,embedding_size=250,hinge_param=1):\n",
    "            #conditional derivitive\n",
    "            \n",
    "            return np.sum(\n",
    "                (\n",
    "                    hinge_param + np.tensordot(U,Vdbar,axes=(1,2))[0]\n",
    "                    - np.tensordot(U,Vd,axes=(1,2))[0] < 0\n",
    "                ).repeat(\n",
    "                    embedding_size\n",
    "                ).reshape(-1,size,embedding_size) * (Vdbar - Vd),\n",
    "                axis=1\n",
    "            )\n",
    "    \n",
    "    ##### STOCHASTIC GRADIENT DESCENT ####\n",
    "    \n",
    "    \n",
    "    def SGD_vectorized(\n",
    "        self,\n",
    "        alpha=0.1,\n",
    "        size=8,\n",
    "        test_size=128,\n",
    "        embeddings_size=250,\n",
    "        test=True,\n",
    "        hinge_param=1,\n",
    "        iteration=0,\n",
    "        max_iterations=500\n",
    "    ):\n",
    "        #Stochastic Gradient Descent\n",
    "\n",
    "        #print('Vd', self.item_embeddings[0,0:10])\n",
    "        \n",
    "        #resample stuff\n",
    "        Vdbar_small = LinearModel.dbar.get_embedding_vectors(\n",
    "            self.item_embeddings,\n",
    "            self.user_data,\n",
    "            size,\n",
    "            embeddings_size=embeddings_size,\n",
    "        )\n",
    "\n",
    "        self.U = self.U - alpha * self.__class__.gradient.dJ(\n",
    "            self.U,\n",
    "            self.Vd,\n",
    "            Vdbar_small,\n",
    "        ) #fix this\n",
    "        \n",
    "        \n",
    "        while True:\n",
    "            if test == True:\n",
    "                Vdbar_big = self.__class__.dbar.get_embedding_vectors(\n",
    "                    self.item_embeddings,\n",
    "                    self.user_data,\n",
    "                    test_size,\n",
    "                    embeddings_size=embeddings_size,\n",
    "                )\n",
    "                \n",
    "                J = self.__class__.gradient.J(\n",
    "                    self.U,\n",
    "                    self.Vd.repeat(test_size/size,axis=1),\n",
    "                    Vdbar_big,\n",
    "                    size=test_size,\n",
    "                    embedding_size=250,\n",
    "                    hinge_param=1\n",
    "                )\n",
    "                # the Vd reshape still needs to be fixed\n",
    "                \n",
    "                self.errors.append(J)\n",
    "                \n",
    "            if iteration == max_iterations:\n",
    "                #stop iterating\n",
    "                #display errors\n",
    "                if test == True:\n",
    "                    sns.lineplot(\n",
    "                        x = range(len(self.errors)),\n",
    "                        y = self.errors\n",
    "                    )\n",
    "                    plt.figure(figsize=(12,12))\n",
    "                    plt.show()\n",
    "                return self.U\n",
    "            #print(iteration)\n",
    "            iteration += 1\n",
    "            return self.SGD_vectorized(\n",
    "                alpha=alpha, \n",
    "                size=size,\n",
    "                test_size=test_size,\n",
    "                embeddings_size=embeddings_size,\n",
    "                test=test, \n",
    "                hinge_param=hinge_param,\n",
    "                iteration=iteration, \n",
    "                max_iterations=max_iterations)"
   ]
  },
  {
   "cell_type": "code",
   "execution_count": 26,
   "metadata": {},
   "outputs": [
    {
     "name": "stdout",
     "output_type": "stream",
     "text": [
      "(100, 250) (100, 8, 250)\n"
     ]
    }
   ],
   "source": [
    "lm = LinearModel(df_x,embeddings,size=8, embeddings_size=250, T=1)\n",
    "print(lm.U.shape,lm.Vd.shape)"
   ]
  },
  {
   "cell_type": "markdown",
   "metadata": {},
   "source": [
    "#### Test out Pipeline"
   ]
  },
  {
   "cell_type": "code",
   "execution_count": 11,
   "metadata": {},
   "outputs": [
    {
     "name": "stdout",
     "output_type": "stream",
     "text": [
      "[-0.26824254 -0.9636772  -0.28512946 -0.32596728 -0.34310314 -0.2655414\n",
      " -0.25597954  0.02330121  0.22115023 -0.15524353]\n"
     ]
    },
    {
     "ename": "KeyboardInterrupt",
     "evalue": "",
     "output_type": "error",
     "traceback": [
      "\u001b[0;31m---------------------------------------------------------------------------\u001b[0m",
      "\u001b[0;31mKeyboardInterrupt\u001b[0m                         Traceback (most recent call last)",
      "\u001b[0;32m<ipython-input-11-071e535c4cd1>\u001b[0m in \u001b[0;36m<module>\u001b[0;34m\u001b[0m\n\u001b[1;32m      1\u001b[0m \u001b[0mlm\u001b[0m \u001b[0;34m=\u001b[0m \u001b[0mLinearModel\u001b[0m\u001b[0;34m(\u001b[0m\u001b[0mdf_x\u001b[0m\u001b[0;34m,\u001b[0m\u001b[0membeddings\u001b[0m\u001b[0;34m,\u001b[0m\u001b[0msize\u001b[0m\u001b[0;34m=\u001b[0m\u001b[0;36m8\u001b[0m\u001b[0;34m,\u001b[0m \u001b[0membeddings_size\u001b[0m\u001b[0;34m=\u001b[0m\u001b[0;36m250\u001b[0m\u001b[0;34m,\u001b[0m \u001b[0mT\u001b[0m\u001b[0;34m=\u001b[0m\u001b[0;36m1\u001b[0m\u001b[0;34m)\u001b[0m\u001b[0;34m\u001b[0m\u001b[0;34m\u001b[0m\u001b[0m\n\u001b[1;32m      2\u001b[0m \u001b[0mprint\u001b[0m\u001b[0;34m(\u001b[0m\u001b[0mlm\u001b[0m\u001b[0;34m.\u001b[0m\u001b[0mU\u001b[0m\u001b[0;34m[\u001b[0m\u001b[0;36m0\u001b[0m\u001b[0;34m,\u001b[0m\u001b[0;36m0\u001b[0m\u001b[0;34m:\u001b[0m\u001b[0;36m10\u001b[0m\u001b[0;34m]\u001b[0m\u001b[0;34m)\u001b[0m\u001b[0;34m\u001b[0m\u001b[0;34m\u001b[0m\u001b[0m\n\u001b[0;32m----> 3\u001b[0;31m \u001b[0mlm\u001b[0m\u001b[0;34m.\u001b[0m\u001b[0mSGD_vectorized\u001b[0m\u001b[0;34m(\u001b[0m\u001b[0mtest\u001b[0m\u001b[0;34m=\u001b[0m\u001b[0;32mTrue\u001b[0m\u001b[0;34m,\u001b[0m\u001b[0malpha\u001b[0m\u001b[0;34m=\u001b[0m\u001b[0;36m0.0001\u001b[0m\u001b[0;34m,\u001b[0m \u001b[0mmax_iterations\u001b[0m\u001b[0;34m=\u001b[0m\u001b[0;36m700\u001b[0m\u001b[0;34m,\u001b[0m \u001b[0mtest_size\u001b[0m\u001b[0;34m=\u001b[0m\u001b[0;36m128\u001b[0m\u001b[0;34m)\u001b[0m\u001b[0;34m\u001b[0m\u001b[0;34m\u001b[0m\u001b[0m\n\u001b[0m\u001b[1;32m      4\u001b[0m \u001b[0mprint\u001b[0m\u001b[0;34m(\u001b[0m\u001b[0mlm\u001b[0m\u001b[0;34m.\u001b[0m\u001b[0mU\u001b[0m\u001b[0;34m[\u001b[0m\u001b[0;36m0\u001b[0m\u001b[0;34m,\u001b[0m\u001b[0;36m0\u001b[0m\u001b[0;34m:\u001b[0m\u001b[0;36m10\u001b[0m\u001b[0;34m]\u001b[0m\u001b[0;34m)\u001b[0m\u001b[0;34m\u001b[0m\u001b[0;34m\u001b[0m\u001b[0m\n",
      "\u001b[0;32m<ipython-input-10-579d8fd9c493>\u001b[0m in \u001b[0;36mSGD_vectorized\u001b[0;34m(self, alpha, size, test_size, embeddings_size, test, hinge_param, iteration, max_iterations)\u001b[0m\n\u001b[1;32m    182\u001b[0m                 \u001b[0mhinge_param\u001b[0m\u001b[0;34m=\u001b[0m\u001b[0mhinge_param\u001b[0m\u001b[0;34m,\u001b[0m\u001b[0;34m\u001b[0m\u001b[0;34m\u001b[0m\u001b[0m\n\u001b[1;32m    183\u001b[0m                 \u001b[0miteration\u001b[0m\u001b[0;34m=\u001b[0m\u001b[0miteration\u001b[0m\u001b[0;34m,\u001b[0m\u001b[0;34m\u001b[0m\u001b[0;34m\u001b[0m\u001b[0m\n\u001b[0;32m--> 184\u001b[0;31m                 max_iterations=max_iterations)\n\u001b[0m",
      "\u001b[0;32m<ipython-input-10-579d8fd9c493>\u001b[0m in \u001b[0;36mSGD_vectorized\u001b[0;34m(self, alpha, size, test_size, embeddings_size, test, hinge_param, iteration, max_iterations)\u001b[0m\n\u001b[1;32m    182\u001b[0m                 \u001b[0mhinge_param\u001b[0m\u001b[0;34m=\u001b[0m\u001b[0mhinge_param\u001b[0m\u001b[0;34m,\u001b[0m\u001b[0;34m\u001b[0m\u001b[0;34m\u001b[0m\u001b[0m\n\u001b[1;32m    183\u001b[0m                 \u001b[0miteration\u001b[0m\u001b[0;34m=\u001b[0m\u001b[0miteration\u001b[0m\u001b[0;34m,\u001b[0m\u001b[0;34m\u001b[0m\u001b[0;34m\u001b[0m\u001b[0m\n\u001b[0;32m--> 184\u001b[0;31m                 max_iterations=max_iterations)\n\u001b[0m",
      "\u001b[0;32m<ipython-input-10-579d8fd9c493>\u001b[0m in \u001b[0;36mSGD_vectorized\u001b[0;34m(self, alpha, size, test_size, embeddings_size, test, hinge_param, iteration, max_iterations)\u001b[0m\n\u001b[1;32m    182\u001b[0m                 \u001b[0mhinge_param\u001b[0m\u001b[0;34m=\u001b[0m\u001b[0mhinge_param\u001b[0m\u001b[0;34m,\u001b[0m\u001b[0;34m\u001b[0m\u001b[0;34m\u001b[0m\u001b[0m\n\u001b[1;32m    183\u001b[0m                 \u001b[0miteration\u001b[0m\u001b[0;34m=\u001b[0m\u001b[0miteration\u001b[0m\u001b[0;34m,\u001b[0m\u001b[0;34m\u001b[0m\u001b[0;34m\u001b[0m\u001b[0m\n\u001b[0;32m--> 184\u001b[0;31m                 max_iterations=max_iterations)\n\u001b[0m",
      "\u001b[0;32m<ipython-input-10-579d8fd9c493>\u001b[0m in \u001b[0;36mSGD_vectorized\u001b[0;34m(self, alpha, size, test_size, embeddings_size, test, hinge_param, iteration, max_iterations)\u001b[0m\n\u001b[1;32m    182\u001b[0m                 \u001b[0mhinge_param\u001b[0m\u001b[0;34m=\u001b[0m\u001b[0mhinge_param\u001b[0m\u001b[0;34m,\u001b[0m\u001b[0;34m\u001b[0m\u001b[0;34m\u001b[0m\u001b[0m\n\u001b[1;32m    183\u001b[0m                 \u001b[0miteration\u001b[0m\u001b[0;34m=\u001b[0m\u001b[0miteration\u001b[0m\u001b[0;34m,\u001b[0m\u001b[0;34m\u001b[0m\u001b[0;34m\u001b[0m\u001b[0m\n\u001b[0;32m--> 184\u001b[0;31m                 max_iterations=max_iterations)\n\u001b[0m",
      "\u001b[0;32m<ipython-input-10-579d8fd9c493>\u001b[0m in \u001b[0;36mSGD_vectorized\u001b[0;34m(self, alpha, size, test_size, embeddings_size, test, hinge_param, iteration, max_iterations)\u001b[0m\n\u001b[1;32m    182\u001b[0m                 \u001b[0mhinge_param\u001b[0m\u001b[0;34m=\u001b[0m\u001b[0mhinge_param\u001b[0m\u001b[0;34m,\u001b[0m\u001b[0;34m\u001b[0m\u001b[0;34m\u001b[0m\u001b[0m\n\u001b[1;32m    183\u001b[0m                 \u001b[0miteration\u001b[0m\u001b[0;34m=\u001b[0m\u001b[0miteration\u001b[0m\u001b[0;34m,\u001b[0m\u001b[0;34m\u001b[0m\u001b[0;34m\u001b[0m\u001b[0m\n\u001b[0;32m--> 184\u001b[0;31m                 max_iterations=max_iterations)\n\u001b[0m",
      "\u001b[0;32m<ipython-input-10-579d8fd9c493>\u001b[0m in \u001b[0;36mSGD_vectorized\u001b[0;34m(self, alpha, size, test_size, embeddings_size, test, hinge_param, iteration, max_iterations)\u001b[0m\n\u001b[1;32m    182\u001b[0m                 \u001b[0mhinge_param\u001b[0m\u001b[0;34m=\u001b[0m\u001b[0mhinge_param\u001b[0m\u001b[0;34m,\u001b[0m\u001b[0;34m\u001b[0m\u001b[0;34m\u001b[0m\u001b[0m\n\u001b[1;32m    183\u001b[0m                 \u001b[0miteration\u001b[0m\u001b[0;34m=\u001b[0m\u001b[0miteration\u001b[0m\u001b[0;34m,\u001b[0m\u001b[0;34m\u001b[0m\u001b[0;34m\u001b[0m\u001b[0m\n\u001b[0;32m--> 184\u001b[0;31m                 max_iterations=max_iterations)\n\u001b[0m",
      "\u001b[0;32m<ipython-input-10-579d8fd9c493>\u001b[0m in \u001b[0;36mSGD_vectorized\u001b[0;34m(self, alpha, size, test_size, embeddings_size, test, hinge_param, iteration, max_iterations)\u001b[0m\n\u001b[1;32m    182\u001b[0m                 \u001b[0mhinge_param\u001b[0m\u001b[0;34m=\u001b[0m\u001b[0mhinge_param\u001b[0m\u001b[0;34m,\u001b[0m\u001b[0;34m\u001b[0m\u001b[0;34m\u001b[0m\u001b[0m\n\u001b[1;32m    183\u001b[0m                 \u001b[0miteration\u001b[0m\u001b[0;34m=\u001b[0m\u001b[0miteration\u001b[0m\u001b[0;34m,\u001b[0m\u001b[0;34m\u001b[0m\u001b[0;34m\u001b[0m\u001b[0m\n\u001b[0;32m--> 184\u001b[0;31m                 max_iterations=max_iterations)\n\u001b[0m",
      "\u001b[0;32m<ipython-input-10-579d8fd9c493>\u001b[0m in \u001b[0;36mSGD_vectorized\u001b[0;34m(self, alpha, size, test_size, embeddings_size, test, hinge_param, iteration, max_iterations)\u001b[0m\n\u001b[1;32m    182\u001b[0m                 \u001b[0mhinge_param\u001b[0m\u001b[0;34m=\u001b[0m\u001b[0mhinge_param\u001b[0m\u001b[0;34m,\u001b[0m\u001b[0;34m\u001b[0m\u001b[0;34m\u001b[0m\u001b[0m\n\u001b[1;32m    183\u001b[0m                 \u001b[0miteration\u001b[0m\u001b[0;34m=\u001b[0m\u001b[0miteration\u001b[0m\u001b[0;34m,\u001b[0m\u001b[0;34m\u001b[0m\u001b[0;34m\u001b[0m\u001b[0m\n\u001b[0;32m--> 184\u001b[0;31m                 max_iterations=max_iterations)\n\u001b[0m",
      "\u001b[0;32m<ipython-input-10-579d8fd9c493>\u001b[0m in \u001b[0;36mSGD_vectorized\u001b[0;34m(self, alpha, size, test_size, embeddings_size, test, hinge_param, iteration, max_iterations)\u001b[0m\n\u001b[1;32m    182\u001b[0m                 \u001b[0mhinge_param\u001b[0m\u001b[0;34m=\u001b[0m\u001b[0mhinge_param\u001b[0m\u001b[0;34m,\u001b[0m\u001b[0;34m\u001b[0m\u001b[0;34m\u001b[0m\u001b[0m\n\u001b[1;32m    183\u001b[0m                 \u001b[0miteration\u001b[0m\u001b[0;34m=\u001b[0m\u001b[0miteration\u001b[0m\u001b[0;34m,\u001b[0m\u001b[0;34m\u001b[0m\u001b[0;34m\u001b[0m\u001b[0m\n\u001b[0;32m--> 184\u001b[0;31m                 max_iterations=max_iterations)\n\u001b[0m",
      "\u001b[0;32m<ipython-input-10-579d8fd9c493>\u001b[0m in \u001b[0;36mSGD_vectorized\u001b[0;34m(self, alpha, size, test_size, embeddings_size, test, hinge_param, iteration, max_iterations)\u001b[0m\n\u001b[1;32m    182\u001b[0m                 \u001b[0mhinge_param\u001b[0m\u001b[0;34m=\u001b[0m\u001b[0mhinge_param\u001b[0m\u001b[0;34m,\u001b[0m\u001b[0;34m\u001b[0m\u001b[0;34m\u001b[0m\u001b[0m\n\u001b[1;32m    183\u001b[0m                 \u001b[0miteration\u001b[0m\u001b[0;34m=\u001b[0m\u001b[0miteration\u001b[0m\u001b[0;34m,\u001b[0m\u001b[0;34m\u001b[0m\u001b[0;34m\u001b[0m\u001b[0m\n\u001b[0;32m--> 184\u001b[0;31m                 max_iterations=max_iterations)\n\u001b[0m",
      "\u001b[0;32m<ipython-input-10-579d8fd9c493>\u001b[0m in \u001b[0;36mSGD_vectorized\u001b[0;34m(self, alpha, size, test_size, embeddings_size, test, hinge_param, iteration, max_iterations)\u001b[0m\n\u001b[1;32m    182\u001b[0m                 \u001b[0mhinge_param\u001b[0m\u001b[0;34m=\u001b[0m\u001b[0mhinge_param\u001b[0m\u001b[0;34m,\u001b[0m\u001b[0;34m\u001b[0m\u001b[0;34m\u001b[0m\u001b[0m\n\u001b[1;32m    183\u001b[0m                 \u001b[0miteration\u001b[0m\u001b[0;34m=\u001b[0m\u001b[0miteration\u001b[0m\u001b[0;34m,\u001b[0m\u001b[0;34m\u001b[0m\u001b[0;34m\u001b[0m\u001b[0m\n\u001b[0;32m--> 184\u001b[0;31m                 max_iterations=max_iterations)\n\u001b[0m",
      "\u001b[0;32m<ipython-input-10-579d8fd9c493>\u001b[0m in \u001b[0;36mSGD_vectorized\u001b[0;34m(self, alpha, size, test_size, embeddings_size, test, hinge_param, iteration, max_iterations)\u001b[0m\n\u001b[1;32m    182\u001b[0m                 \u001b[0mhinge_param\u001b[0m\u001b[0;34m=\u001b[0m\u001b[0mhinge_param\u001b[0m\u001b[0;34m,\u001b[0m\u001b[0;34m\u001b[0m\u001b[0;34m\u001b[0m\u001b[0m\n\u001b[1;32m    183\u001b[0m                 \u001b[0miteration\u001b[0m\u001b[0;34m=\u001b[0m\u001b[0miteration\u001b[0m\u001b[0;34m,\u001b[0m\u001b[0;34m\u001b[0m\u001b[0;34m\u001b[0m\u001b[0m\n\u001b[0;32m--> 184\u001b[0;31m                 max_iterations=max_iterations)\n\u001b[0m",
      "\u001b[0;32m<ipython-input-10-579d8fd9c493>\u001b[0m in \u001b[0;36mSGD_vectorized\u001b[0;34m(self, alpha, size, test_size, embeddings_size, test, hinge_param, iteration, max_iterations)\u001b[0m\n\u001b[1;32m    182\u001b[0m                 \u001b[0mhinge_param\u001b[0m\u001b[0;34m=\u001b[0m\u001b[0mhinge_param\u001b[0m\u001b[0;34m,\u001b[0m\u001b[0;34m\u001b[0m\u001b[0;34m\u001b[0m\u001b[0m\n\u001b[1;32m    183\u001b[0m                 \u001b[0miteration\u001b[0m\u001b[0;34m=\u001b[0m\u001b[0miteration\u001b[0m\u001b[0;34m,\u001b[0m\u001b[0;34m\u001b[0m\u001b[0;34m\u001b[0m\u001b[0m\n\u001b[0;32m--> 184\u001b[0;31m                 max_iterations=max_iterations)\n\u001b[0m",
      "\u001b[0;32m<ipython-input-10-579d8fd9c493>\u001b[0m in \u001b[0;36mSGD_vectorized\u001b[0;34m(self, alpha, size, test_size, embeddings_size, test, hinge_param, iteration, max_iterations)\u001b[0m\n\u001b[1;32m    182\u001b[0m                 \u001b[0mhinge_param\u001b[0m\u001b[0;34m=\u001b[0m\u001b[0mhinge_param\u001b[0m\u001b[0;34m,\u001b[0m\u001b[0;34m\u001b[0m\u001b[0;34m\u001b[0m\u001b[0m\n\u001b[1;32m    183\u001b[0m                 \u001b[0miteration\u001b[0m\u001b[0;34m=\u001b[0m\u001b[0miteration\u001b[0m\u001b[0;34m,\u001b[0m\u001b[0;34m\u001b[0m\u001b[0;34m\u001b[0m\u001b[0m\n\u001b[0;32m--> 184\u001b[0;31m                 max_iterations=max_iterations)\n\u001b[0m",
      "\u001b[0;32m<ipython-input-10-579d8fd9c493>\u001b[0m in \u001b[0;36mSGD_vectorized\u001b[0;34m(self, alpha, size, test_size, embeddings_size, test, hinge_param, iteration, max_iterations)\u001b[0m\n\u001b[1;32m    182\u001b[0m                 \u001b[0mhinge_param\u001b[0m\u001b[0;34m=\u001b[0m\u001b[0mhinge_param\u001b[0m\u001b[0;34m,\u001b[0m\u001b[0;34m\u001b[0m\u001b[0;34m\u001b[0m\u001b[0m\n\u001b[1;32m    183\u001b[0m                 \u001b[0miteration\u001b[0m\u001b[0;34m=\u001b[0m\u001b[0miteration\u001b[0m\u001b[0;34m,\u001b[0m\u001b[0;34m\u001b[0m\u001b[0;34m\u001b[0m\u001b[0m\n\u001b[0;32m--> 184\u001b[0;31m                 max_iterations=max_iterations)\n\u001b[0m",
      "\u001b[0;32m<ipython-input-10-579d8fd9c493>\u001b[0m in \u001b[0;36mSGD_vectorized\u001b[0;34m(self, alpha, size, test_size, embeddings_size, test, hinge_param, iteration, max_iterations)\u001b[0m\n\u001b[1;32m    182\u001b[0m                 \u001b[0mhinge_param\u001b[0m\u001b[0;34m=\u001b[0m\u001b[0mhinge_param\u001b[0m\u001b[0;34m,\u001b[0m\u001b[0;34m\u001b[0m\u001b[0;34m\u001b[0m\u001b[0m\n\u001b[1;32m    183\u001b[0m                 \u001b[0miteration\u001b[0m\u001b[0;34m=\u001b[0m\u001b[0miteration\u001b[0m\u001b[0;34m,\u001b[0m\u001b[0;34m\u001b[0m\u001b[0;34m\u001b[0m\u001b[0m\n\u001b[0;32m--> 184\u001b[0;31m                 max_iterations=max_iterations)\n\u001b[0m",
      "\u001b[0;32m<ipython-input-10-579d8fd9c493>\u001b[0m in \u001b[0;36mSGD_vectorized\u001b[0;34m(self, alpha, size, test_size, embeddings_size, test, hinge_param, iteration, max_iterations)\u001b[0m\n\u001b[1;32m    182\u001b[0m                 \u001b[0mhinge_param\u001b[0m\u001b[0;34m=\u001b[0m\u001b[0mhinge_param\u001b[0m\u001b[0;34m,\u001b[0m\u001b[0;34m\u001b[0m\u001b[0;34m\u001b[0m\u001b[0m\n\u001b[1;32m    183\u001b[0m                 \u001b[0miteration\u001b[0m\u001b[0;34m=\u001b[0m\u001b[0miteration\u001b[0m\u001b[0;34m,\u001b[0m\u001b[0;34m\u001b[0m\u001b[0;34m\u001b[0m\u001b[0m\n\u001b[0;32m--> 184\u001b[0;31m                 max_iterations=max_iterations)\n\u001b[0m",
      "\u001b[0;32m<ipython-input-10-579d8fd9c493>\u001b[0m in \u001b[0;36mSGD_vectorized\u001b[0;34m(self, alpha, size, test_size, embeddings_size, test, hinge_param, iteration, max_iterations)\u001b[0m\n\u001b[1;32m    182\u001b[0m                 \u001b[0mhinge_param\u001b[0m\u001b[0;34m=\u001b[0m\u001b[0mhinge_param\u001b[0m\u001b[0;34m,\u001b[0m\u001b[0;34m\u001b[0m\u001b[0;34m\u001b[0m\u001b[0m\n\u001b[1;32m    183\u001b[0m                 \u001b[0miteration\u001b[0m\u001b[0;34m=\u001b[0m\u001b[0miteration\u001b[0m\u001b[0;34m,\u001b[0m\u001b[0;34m\u001b[0m\u001b[0;34m\u001b[0m\u001b[0m\n\u001b[0;32m--> 184\u001b[0;31m                 max_iterations=max_iterations)\n\u001b[0m",
      "\u001b[0;32m<ipython-input-10-579d8fd9c493>\u001b[0m in \u001b[0;36mSGD_vectorized\u001b[0;34m(self, alpha, size, test_size, embeddings_size, test, hinge_param, iteration, max_iterations)\u001b[0m\n\u001b[1;32m    182\u001b[0m                 \u001b[0mhinge_param\u001b[0m\u001b[0;34m=\u001b[0m\u001b[0mhinge_param\u001b[0m\u001b[0;34m,\u001b[0m\u001b[0;34m\u001b[0m\u001b[0;34m\u001b[0m\u001b[0m\n\u001b[1;32m    183\u001b[0m                 \u001b[0miteration\u001b[0m\u001b[0;34m=\u001b[0m\u001b[0miteration\u001b[0m\u001b[0;34m,\u001b[0m\u001b[0;34m\u001b[0m\u001b[0;34m\u001b[0m\u001b[0m\n\u001b[0;32m--> 184\u001b[0;31m                 max_iterations=max_iterations)\n\u001b[0m",
      "\u001b[0;32m<ipython-input-10-579d8fd9c493>\u001b[0m in \u001b[0;36mSGD_vectorized\u001b[0;34m(self, alpha, size, test_size, embeddings_size, test, hinge_param, iteration, max_iterations)\u001b[0m\n\u001b[1;32m    182\u001b[0m                 \u001b[0mhinge_param\u001b[0m\u001b[0;34m=\u001b[0m\u001b[0mhinge_param\u001b[0m\u001b[0;34m,\u001b[0m\u001b[0;34m\u001b[0m\u001b[0;34m\u001b[0m\u001b[0m\n\u001b[1;32m    183\u001b[0m                 \u001b[0miteration\u001b[0m\u001b[0;34m=\u001b[0m\u001b[0miteration\u001b[0m\u001b[0;34m,\u001b[0m\u001b[0;34m\u001b[0m\u001b[0;34m\u001b[0m\u001b[0m\n\u001b[0;32m--> 184\u001b[0;31m                 max_iterations=max_iterations)\n\u001b[0m",
      "\u001b[0;32m<ipython-input-10-579d8fd9c493>\u001b[0m in \u001b[0;36mSGD_vectorized\u001b[0;34m(self, alpha, size, test_size, embeddings_size, test, hinge_param, iteration, max_iterations)\u001b[0m\n\u001b[1;32m    182\u001b[0m                 \u001b[0mhinge_param\u001b[0m\u001b[0;34m=\u001b[0m\u001b[0mhinge_param\u001b[0m\u001b[0;34m,\u001b[0m\u001b[0;34m\u001b[0m\u001b[0;34m\u001b[0m\u001b[0m\n\u001b[1;32m    183\u001b[0m                 \u001b[0miteration\u001b[0m\u001b[0;34m=\u001b[0m\u001b[0miteration\u001b[0m\u001b[0;34m,\u001b[0m\u001b[0;34m\u001b[0m\u001b[0;34m\u001b[0m\u001b[0m\n\u001b[0;32m--> 184\u001b[0;31m                 max_iterations=max_iterations)\n\u001b[0m",
      "\u001b[0;32m<ipython-input-10-579d8fd9c493>\u001b[0m in \u001b[0;36mSGD_vectorized\u001b[0;34m(self, alpha, size, test_size, embeddings_size, test, hinge_param, iteration, max_iterations)\u001b[0m\n\u001b[1;32m    182\u001b[0m                 \u001b[0mhinge_param\u001b[0m\u001b[0;34m=\u001b[0m\u001b[0mhinge_param\u001b[0m\u001b[0;34m,\u001b[0m\u001b[0;34m\u001b[0m\u001b[0;34m\u001b[0m\u001b[0m\n\u001b[1;32m    183\u001b[0m                 \u001b[0miteration\u001b[0m\u001b[0;34m=\u001b[0m\u001b[0miteration\u001b[0m\u001b[0;34m,\u001b[0m\u001b[0;34m\u001b[0m\u001b[0;34m\u001b[0m\u001b[0m\n\u001b[0;32m--> 184\u001b[0;31m                 max_iterations=max_iterations)\n\u001b[0m",
      "\u001b[0;32m<ipython-input-10-579d8fd9c493>\u001b[0m in \u001b[0;36mSGD_vectorized\u001b[0;34m(self, alpha, size, test_size, embeddings_size, test, hinge_param, iteration, max_iterations)\u001b[0m\n\u001b[1;32m    182\u001b[0m                 \u001b[0mhinge_param\u001b[0m\u001b[0;34m=\u001b[0m\u001b[0mhinge_param\u001b[0m\u001b[0;34m,\u001b[0m\u001b[0;34m\u001b[0m\u001b[0;34m\u001b[0m\u001b[0m\n\u001b[1;32m    183\u001b[0m                 \u001b[0miteration\u001b[0m\u001b[0;34m=\u001b[0m\u001b[0miteration\u001b[0m\u001b[0;34m,\u001b[0m\u001b[0;34m\u001b[0m\u001b[0;34m\u001b[0m\u001b[0m\n\u001b[0;32m--> 184\u001b[0;31m                 max_iterations=max_iterations)\n\u001b[0m",
      "\u001b[0;32m<ipython-input-10-579d8fd9c493>\u001b[0m in \u001b[0;36mSGD_vectorized\u001b[0;34m(self, alpha, size, test_size, embeddings_size, test, hinge_param, iteration, max_iterations)\u001b[0m\n\u001b[1;32m    182\u001b[0m                 \u001b[0mhinge_param\u001b[0m\u001b[0;34m=\u001b[0m\u001b[0mhinge_param\u001b[0m\u001b[0;34m,\u001b[0m\u001b[0;34m\u001b[0m\u001b[0;34m\u001b[0m\u001b[0m\n\u001b[1;32m    183\u001b[0m                 \u001b[0miteration\u001b[0m\u001b[0;34m=\u001b[0m\u001b[0miteration\u001b[0m\u001b[0;34m,\u001b[0m\u001b[0;34m\u001b[0m\u001b[0;34m\u001b[0m\u001b[0m\n\u001b[0;32m--> 184\u001b[0;31m                 max_iterations=max_iterations)\n\u001b[0m",
      "\u001b[0;32m<ipython-input-10-579d8fd9c493>\u001b[0m in \u001b[0;36mSGD_vectorized\u001b[0;34m(self, alpha, size, test_size, embeddings_size, test, hinge_param, iteration, max_iterations)\u001b[0m\n\u001b[1;32m    182\u001b[0m                 \u001b[0mhinge_param\u001b[0m\u001b[0;34m=\u001b[0m\u001b[0mhinge_param\u001b[0m\u001b[0;34m,\u001b[0m\u001b[0;34m\u001b[0m\u001b[0;34m\u001b[0m\u001b[0m\n\u001b[1;32m    183\u001b[0m                 \u001b[0miteration\u001b[0m\u001b[0;34m=\u001b[0m\u001b[0miteration\u001b[0m\u001b[0;34m,\u001b[0m\u001b[0;34m\u001b[0m\u001b[0;34m\u001b[0m\u001b[0m\n\u001b[0;32m--> 184\u001b[0;31m                 max_iterations=max_iterations)\n\u001b[0m",
      "\u001b[0;32m<ipython-input-10-579d8fd9c493>\u001b[0m in \u001b[0;36mSGD_vectorized\u001b[0;34m(self, alpha, size, test_size, embeddings_size, test, hinge_param, iteration, max_iterations)\u001b[0m\n\u001b[1;32m    182\u001b[0m                 \u001b[0mhinge_param\u001b[0m\u001b[0;34m=\u001b[0m\u001b[0mhinge_param\u001b[0m\u001b[0;34m,\u001b[0m\u001b[0;34m\u001b[0m\u001b[0;34m\u001b[0m\u001b[0m\n\u001b[1;32m    183\u001b[0m                 \u001b[0miteration\u001b[0m\u001b[0;34m=\u001b[0m\u001b[0miteration\u001b[0m\u001b[0;34m,\u001b[0m\u001b[0;34m\u001b[0m\u001b[0;34m\u001b[0m\u001b[0m\n\u001b[0;32m--> 184\u001b[0;31m                 max_iterations=max_iterations)\n\u001b[0m",
      "\u001b[0;32m<ipython-input-10-579d8fd9c493>\u001b[0m in \u001b[0;36mSGD_vectorized\u001b[0;34m(self, alpha, size, test_size, embeddings_size, test, hinge_param, iteration, max_iterations)\u001b[0m\n\u001b[1;32m    182\u001b[0m                 \u001b[0mhinge_param\u001b[0m\u001b[0;34m=\u001b[0m\u001b[0mhinge_param\u001b[0m\u001b[0;34m,\u001b[0m\u001b[0;34m\u001b[0m\u001b[0;34m\u001b[0m\u001b[0m\n\u001b[1;32m    183\u001b[0m                 \u001b[0miteration\u001b[0m\u001b[0;34m=\u001b[0m\u001b[0miteration\u001b[0m\u001b[0;34m,\u001b[0m\u001b[0;34m\u001b[0m\u001b[0;34m\u001b[0m\u001b[0m\n\u001b[0;32m--> 184\u001b[0;31m                 max_iterations=max_iterations)\n\u001b[0m",
      "\u001b[0;32m<ipython-input-10-579d8fd9c493>\u001b[0m in \u001b[0;36mSGD_vectorized\u001b[0;34m(self, alpha, size, test_size, embeddings_size, test, hinge_param, iteration, max_iterations)\u001b[0m\n\u001b[1;32m    182\u001b[0m                 \u001b[0mhinge_param\u001b[0m\u001b[0;34m=\u001b[0m\u001b[0mhinge_param\u001b[0m\u001b[0;34m,\u001b[0m\u001b[0;34m\u001b[0m\u001b[0;34m\u001b[0m\u001b[0m\n\u001b[1;32m    183\u001b[0m                 \u001b[0miteration\u001b[0m\u001b[0;34m=\u001b[0m\u001b[0miteration\u001b[0m\u001b[0;34m,\u001b[0m\u001b[0;34m\u001b[0m\u001b[0;34m\u001b[0m\u001b[0m\n\u001b[0;32m--> 184\u001b[0;31m                 max_iterations=max_iterations)\n\u001b[0m",
      "\u001b[0;32m<ipython-input-10-579d8fd9c493>\u001b[0m in \u001b[0;36mSGD_vectorized\u001b[0;34m(self, alpha, size, test_size, embeddings_size, test, hinge_param, iteration, max_iterations)\u001b[0m\n\u001b[1;32m    182\u001b[0m                 \u001b[0mhinge_param\u001b[0m\u001b[0;34m=\u001b[0m\u001b[0mhinge_param\u001b[0m\u001b[0;34m,\u001b[0m\u001b[0;34m\u001b[0m\u001b[0;34m\u001b[0m\u001b[0m\n\u001b[1;32m    183\u001b[0m                 \u001b[0miteration\u001b[0m\u001b[0;34m=\u001b[0m\u001b[0miteration\u001b[0m\u001b[0;34m,\u001b[0m\u001b[0;34m\u001b[0m\u001b[0;34m\u001b[0m\u001b[0m\n\u001b[0;32m--> 184\u001b[0;31m                 max_iterations=max_iterations)\n\u001b[0m",
      "\u001b[0;32m<ipython-input-10-579d8fd9c493>\u001b[0m in \u001b[0;36mSGD_vectorized\u001b[0;34m(self, alpha, size, test_size, embeddings_size, test, hinge_param, iteration, max_iterations)\u001b[0m\n\u001b[1;32m    182\u001b[0m                 \u001b[0mhinge_param\u001b[0m\u001b[0;34m=\u001b[0m\u001b[0mhinge_param\u001b[0m\u001b[0;34m,\u001b[0m\u001b[0;34m\u001b[0m\u001b[0;34m\u001b[0m\u001b[0m\n\u001b[1;32m    183\u001b[0m                 \u001b[0miteration\u001b[0m\u001b[0;34m=\u001b[0m\u001b[0miteration\u001b[0m\u001b[0;34m,\u001b[0m\u001b[0;34m\u001b[0m\u001b[0;34m\u001b[0m\u001b[0m\n\u001b[0;32m--> 184\u001b[0;31m                 max_iterations=max_iterations)\n\u001b[0m",
      "\u001b[0;32m<ipython-input-10-579d8fd9c493>\u001b[0m in \u001b[0;36mSGD_vectorized\u001b[0;34m(self, alpha, size, test_size, embeddings_size, test, hinge_param, iteration, max_iterations)\u001b[0m\n\u001b[1;32m    182\u001b[0m                 \u001b[0mhinge_param\u001b[0m\u001b[0;34m=\u001b[0m\u001b[0mhinge_param\u001b[0m\u001b[0;34m,\u001b[0m\u001b[0;34m\u001b[0m\u001b[0;34m\u001b[0m\u001b[0m\n\u001b[1;32m    183\u001b[0m                 \u001b[0miteration\u001b[0m\u001b[0;34m=\u001b[0m\u001b[0miteration\u001b[0m\u001b[0;34m,\u001b[0m\u001b[0;34m\u001b[0m\u001b[0;34m\u001b[0m\u001b[0m\n\u001b[0;32m--> 184\u001b[0;31m                 max_iterations=max_iterations)\n\u001b[0m",
      "\u001b[0;32m<ipython-input-10-579d8fd9c493>\u001b[0m in \u001b[0;36mSGD_vectorized\u001b[0;34m(self, alpha, size, test_size, embeddings_size, test, hinge_param, iteration, max_iterations)\u001b[0m\n\u001b[1;32m    146\u001b[0m                     \u001b[0mself\u001b[0m\u001b[0;34m.\u001b[0m\u001b[0muser_data\u001b[0m\u001b[0;34m,\u001b[0m\u001b[0;34m\u001b[0m\u001b[0;34m\u001b[0m\u001b[0m\n\u001b[1;32m    147\u001b[0m                     \u001b[0mtest_size\u001b[0m\u001b[0;34m,\u001b[0m\u001b[0;34m\u001b[0m\u001b[0;34m\u001b[0m\u001b[0m\n\u001b[0;32m--> 148\u001b[0;31m                     \u001b[0membeddings_size\u001b[0m\u001b[0;34m=\u001b[0m\u001b[0membeddings_size\u001b[0m\u001b[0;34m,\u001b[0m\u001b[0;34m\u001b[0m\u001b[0;34m\u001b[0m\u001b[0m\n\u001b[0m\u001b[1;32m    149\u001b[0m                 )\n\u001b[1;32m    150\u001b[0m \u001b[0;34m\u001b[0m\u001b[0m\n",
      "\u001b[0;32m<ipython-input-10-579d8fd9c493>\u001b[0m in \u001b[0;36mget_embedding_vectors\u001b[0;34m(V_embeddings, df, size, embeddings_size, len_)\u001b[0m\n\u001b[1;32m     61\u001b[0m         \u001b[0;32mdef\u001b[0m \u001b[0mget_embedding_vectors\u001b[0m\u001b[0;34m(\u001b[0m\u001b[0mV_embeddings\u001b[0m\u001b[0;34m,\u001b[0m \u001b[0mdf\u001b[0m\u001b[0;34m,\u001b[0m \u001b[0msize\u001b[0m\u001b[0;34m,\u001b[0m \u001b[0membeddings_size\u001b[0m\u001b[0;34m=\u001b[0m\u001b[0;36m250\u001b[0m\u001b[0;34m,\u001b[0m \u001b[0mlen_\u001b[0m\u001b[0;34m=\u001b[0m\u001b[0;36m36047\u001b[0m\u001b[0;34m)\u001b[0m\u001b[0;34m:\u001b[0m\u001b[0;34m\u001b[0m\u001b[0;34m\u001b[0m\u001b[0m\n\u001b[1;32m     62\u001b[0m             return np.hstack(\n\u001b[0;32m---> 63\u001b[0;31m                 \u001b[0mV_embeddings\u001b[0m\u001b[0;34m[\u001b[0m\u001b[0mLinearModel\u001b[0m\u001b[0;34m.\u001b[0m\u001b[0mdbar\u001b[0m\u001b[0;34m.\u001b[0m\u001b[0mget_all_unseen\u001b[0m\u001b[0;34m(\u001b[0m\u001b[0mdf\u001b[0m\u001b[0;34m,\u001b[0m\u001b[0msize\u001b[0m\u001b[0;34m,\u001b[0m\u001b[0mlen_\u001b[0m\u001b[0;34m=\u001b[0m\u001b[0mlen_\u001b[0m\u001b[0;34m)\u001b[0m\u001b[0;34m.\u001b[0m\u001b[0mtolist\u001b[0m\u001b[0;34m(\u001b[0m\u001b[0;34m)\u001b[0m\u001b[0;34m]\u001b[0m\u001b[0;34m\u001b[0m\u001b[0;34m\u001b[0m\u001b[0m\n\u001b[0m\u001b[1;32m     64\u001b[0m             \u001b[0;34m)\u001b[0m\u001b[0;34m.\u001b[0m\u001b[0mreshape\u001b[0m\u001b[0;34m(\u001b[0m\u001b[0;34m\u001b[0m\u001b[0;34m\u001b[0m\u001b[0m\n\u001b[1;32m     65\u001b[0m                 \u001b[0;34m-\u001b[0m\u001b[0;36m1\u001b[0m\u001b[0;34m,\u001b[0m\u001b[0;34m\u001b[0m\u001b[0;34m\u001b[0m\u001b[0m\n",
      "\u001b[0;32m<ipython-input-10-579d8fd9c493>\u001b[0m in \u001b[0;36mget_all_unseen\u001b[0;34m(df, size, len_)\u001b[0m\n\u001b[1;32m     49\u001b[0m \u001b[0;34m\u001b[0m\u001b[0m\n\u001b[1;32m     50\u001b[0m             return df.user_id.drop_duplicates().map(\n\u001b[0;32m---> 51\u001b[0;31m                 \u001b[0;32mlambda\u001b[0m \u001b[0mu\u001b[0m\u001b[0;34m:\u001b[0m \u001b[0mLinearModel\u001b[0m\u001b[0;34m.\u001b[0m\u001b[0mdbar\u001b[0m\u001b[0;34m.\u001b[0m\u001b[0mget_unseen\u001b[0m\u001b[0;34m(\u001b[0m\u001b[0mdf\u001b[0m\u001b[0;34m,\u001b[0m \u001b[0mu\u001b[0m\u001b[0;34m,\u001b[0m \u001b[0msize\u001b[0m\u001b[0;34m,\u001b[0m \u001b[0mlen_\u001b[0m\u001b[0;34m)\u001b[0m\u001b[0;34m\u001b[0m\u001b[0;34m\u001b[0m\u001b[0m\n\u001b[0m\u001b[1;32m     52\u001b[0m             )\n\u001b[1;32m     53\u001b[0m \u001b[0;34m\u001b[0m\u001b[0m\n",
      "\u001b[0;32m/Library/Frameworks/Python.framework/Versions/3.7/lib/python3.7/site-packages/pandas/core/series.py\u001b[0m in \u001b[0;36mmap\u001b[0;34m(self, arg, na_action)\u001b[0m\n\u001b[1;32m   3826\u001b[0m         \u001b[0mdtype\u001b[0m\u001b[0;34m:\u001b[0m \u001b[0mobject\u001b[0m\u001b[0;34m\u001b[0m\u001b[0;34m\u001b[0m\u001b[0m\n\u001b[1;32m   3827\u001b[0m         \"\"\"\n\u001b[0;32m-> 3828\u001b[0;31m         \u001b[0mnew_values\u001b[0m \u001b[0;34m=\u001b[0m \u001b[0msuper\u001b[0m\u001b[0;34m(\u001b[0m\u001b[0;34m)\u001b[0m\u001b[0;34m.\u001b[0m\u001b[0m_map_values\u001b[0m\u001b[0;34m(\u001b[0m\u001b[0marg\u001b[0m\u001b[0;34m,\u001b[0m \u001b[0mna_action\u001b[0m\u001b[0;34m=\u001b[0m\u001b[0mna_action\u001b[0m\u001b[0;34m)\u001b[0m\u001b[0;34m\u001b[0m\u001b[0;34m\u001b[0m\u001b[0m\n\u001b[0m\u001b[1;32m   3829\u001b[0m         \u001b[0;32mreturn\u001b[0m \u001b[0mself\u001b[0m\u001b[0;34m.\u001b[0m\u001b[0m_constructor\u001b[0m\u001b[0;34m(\u001b[0m\u001b[0mnew_values\u001b[0m\u001b[0;34m,\u001b[0m \u001b[0mindex\u001b[0m\u001b[0;34m=\u001b[0m\u001b[0mself\u001b[0m\u001b[0;34m.\u001b[0m\u001b[0mindex\u001b[0m\u001b[0;34m)\u001b[0m\u001b[0;34m.\u001b[0m\u001b[0m__finalize__\u001b[0m\u001b[0;34m(\u001b[0m\u001b[0mself\u001b[0m\u001b[0;34m)\u001b[0m\u001b[0;34m\u001b[0m\u001b[0;34m\u001b[0m\u001b[0m\n\u001b[1;32m   3830\u001b[0m \u001b[0;34m\u001b[0m\u001b[0m\n",
      "\u001b[0;32m/Library/Frameworks/Python.framework/Versions/3.7/lib/python3.7/site-packages/pandas/core/base.py\u001b[0m in \u001b[0;36m_map_values\u001b[0;34m(self, mapper, na_action)\u001b[0m\n\u001b[1;32m   1298\u001b[0m \u001b[0;34m\u001b[0m\u001b[0m\n\u001b[1;32m   1299\u001b[0m         \u001b[0;31m# mapper is a function\u001b[0m\u001b[0;34m\u001b[0m\u001b[0;34m\u001b[0m\u001b[0;34m\u001b[0m\u001b[0m\n\u001b[0;32m-> 1300\u001b[0;31m         \u001b[0mnew_values\u001b[0m \u001b[0;34m=\u001b[0m \u001b[0mmap_f\u001b[0m\u001b[0;34m(\u001b[0m\u001b[0mvalues\u001b[0m\u001b[0;34m,\u001b[0m \u001b[0mmapper\u001b[0m\u001b[0;34m)\u001b[0m\u001b[0;34m\u001b[0m\u001b[0;34m\u001b[0m\u001b[0m\n\u001b[0m\u001b[1;32m   1301\u001b[0m \u001b[0;34m\u001b[0m\u001b[0m\n\u001b[1;32m   1302\u001b[0m         \u001b[0;32mreturn\u001b[0m \u001b[0mnew_values\u001b[0m\u001b[0;34m\u001b[0m\u001b[0;34m\u001b[0m\u001b[0m\n",
      "\u001b[0;32mpandas/_libs/lib.pyx\u001b[0m in \u001b[0;36mpandas._libs.lib.map_infer\u001b[0;34m()\u001b[0m\n",
      "\u001b[0;32m<ipython-input-10-579d8fd9c493>\u001b[0m in \u001b[0;36m<lambda>\u001b[0;34m(u)\u001b[0m\n\u001b[1;32m     49\u001b[0m \u001b[0;34m\u001b[0m\u001b[0m\n\u001b[1;32m     50\u001b[0m             return df.user_id.drop_duplicates().map(\n\u001b[0;32m---> 51\u001b[0;31m                 \u001b[0;32mlambda\u001b[0m \u001b[0mu\u001b[0m\u001b[0;34m:\u001b[0m \u001b[0mLinearModel\u001b[0m\u001b[0;34m.\u001b[0m\u001b[0mdbar\u001b[0m\u001b[0;34m.\u001b[0m\u001b[0mget_unseen\u001b[0m\u001b[0;34m(\u001b[0m\u001b[0mdf\u001b[0m\u001b[0;34m,\u001b[0m \u001b[0mu\u001b[0m\u001b[0;34m,\u001b[0m \u001b[0msize\u001b[0m\u001b[0;34m,\u001b[0m \u001b[0mlen_\u001b[0m\u001b[0;34m)\u001b[0m\u001b[0;34m\u001b[0m\u001b[0;34m\u001b[0m\u001b[0m\n\u001b[0m\u001b[1;32m     52\u001b[0m             )\n\u001b[1;32m     53\u001b[0m \u001b[0;34m\u001b[0m\u001b[0m\n",
      "\u001b[0;32m<ipython-input-10-579d8fd9c493>\u001b[0m in \u001b[0;36mget_unseen\u001b[0;34m(df, u, size, len_)\u001b[0m\n\u001b[1;32m     39\u001b[0m                 np.delete(\n\u001b[1;32m     40\u001b[0m                     \u001b[0mnp\u001b[0m\u001b[0;34m.\u001b[0m\u001b[0marange\u001b[0m\u001b[0;34m(\u001b[0m\u001b[0mlen_\u001b[0m\u001b[0;34m)\u001b[0m\u001b[0;34m,\u001b[0m\u001b[0;34m\u001b[0m\u001b[0;34m\u001b[0m\u001b[0m\n\u001b[0;32m---> 41\u001b[0;31m                     \u001b[0mdf\u001b[0m\u001b[0;34m[\u001b[0m\u001b[0mdf\u001b[0m\u001b[0;34m.\u001b[0m\u001b[0mindex\u001b[0m\u001b[0;34m.\u001b[0m\u001b[0mget_level_values\u001b[0m\u001b[0;34m(\u001b[0m\u001b[0;36m0\u001b[0m\u001b[0;34m)\u001b[0m\u001b[0;34m==\u001b[0m\u001b[0mu\u001b[0m\u001b[0;34m]\u001b[0m\u001b[0;34m.\u001b[0m\u001b[0mclick_article_id\u001b[0m\u001b[0;34m,\u001b[0m\u001b[0;34m\u001b[0m\u001b[0;34m\u001b[0m\u001b[0m\n\u001b[0m\u001b[1;32m     42\u001b[0m                 ),\n\u001b[1;32m     43\u001b[0m                 \u001b[0msize\u001b[0m\u001b[0;34m=\u001b[0m\u001b[0msize\u001b[0m\u001b[0;34m,\u001b[0m\u001b[0;34m\u001b[0m\u001b[0;34m\u001b[0m\u001b[0m\n",
      "\u001b[0;32m/Library/Frameworks/Python.framework/Versions/3.7/lib/python3.7/site-packages/pandas/core/frame.py\u001b[0m in \u001b[0;36m__getitem__\u001b[0;34m(self, key)\u001b[0m\n\u001b[1;32m   2984\u001b[0m         \u001b[0;31m# Do we have a (boolean) 1d indexer?\u001b[0m\u001b[0;34m\u001b[0m\u001b[0;34m\u001b[0m\u001b[0;34m\u001b[0m\u001b[0m\n\u001b[1;32m   2985\u001b[0m         \u001b[0;32mif\u001b[0m \u001b[0mcom\u001b[0m\u001b[0;34m.\u001b[0m\u001b[0mis_bool_indexer\u001b[0m\u001b[0;34m(\u001b[0m\u001b[0mkey\u001b[0m\u001b[0;34m)\u001b[0m\u001b[0;34m:\u001b[0m\u001b[0;34m\u001b[0m\u001b[0;34m\u001b[0m\u001b[0m\n\u001b[0;32m-> 2986\u001b[0;31m             \u001b[0;32mreturn\u001b[0m \u001b[0mself\u001b[0m\u001b[0;34m.\u001b[0m\u001b[0m_getitem_bool_array\u001b[0m\u001b[0;34m(\u001b[0m\u001b[0mkey\u001b[0m\u001b[0;34m)\u001b[0m\u001b[0;34m\u001b[0m\u001b[0;34m\u001b[0m\u001b[0m\n\u001b[0m\u001b[1;32m   2987\u001b[0m \u001b[0;34m\u001b[0m\u001b[0m\n\u001b[1;32m   2988\u001b[0m         \u001b[0;31m# We are left with two options: a single key, and a collection of keys,\u001b[0m\u001b[0;34m\u001b[0m\u001b[0;34m\u001b[0m\u001b[0;34m\u001b[0m\u001b[0m\n",
      "\u001b[0;32m/Library/Frameworks/Python.framework/Versions/3.7/lib/python3.7/site-packages/pandas/core/frame.py\u001b[0m in \u001b[0;36m_getitem_bool_array\u001b[0;34m(self, key)\u001b[0m\n\u001b[1;32m   3037\u001b[0m         \u001b[0;31m# be reindexed to match DataFrame rows\u001b[0m\u001b[0;34m\u001b[0m\u001b[0;34m\u001b[0m\u001b[0;34m\u001b[0m\u001b[0m\n\u001b[1;32m   3038\u001b[0m         \u001b[0mkey\u001b[0m \u001b[0;34m=\u001b[0m \u001b[0mcheck_bool_indexer\u001b[0m\u001b[0;34m(\u001b[0m\u001b[0mself\u001b[0m\u001b[0;34m.\u001b[0m\u001b[0mindex\u001b[0m\u001b[0;34m,\u001b[0m \u001b[0mkey\u001b[0m\u001b[0;34m)\u001b[0m\u001b[0;34m\u001b[0m\u001b[0;34m\u001b[0m\u001b[0m\n\u001b[0;32m-> 3039\u001b[0;31m         \u001b[0mindexer\u001b[0m \u001b[0;34m=\u001b[0m \u001b[0mkey\u001b[0m\u001b[0;34m.\u001b[0m\u001b[0mnonzero\u001b[0m\u001b[0;34m(\u001b[0m\u001b[0;34m)\u001b[0m\u001b[0;34m[\u001b[0m\u001b[0;36m0\u001b[0m\u001b[0;34m]\u001b[0m\u001b[0;34m\u001b[0m\u001b[0;34m\u001b[0m\u001b[0m\n\u001b[0m\u001b[1;32m   3040\u001b[0m         \u001b[0;32mreturn\u001b[0m \u001b[0mself\u001b[0m\u001b[0;34m.\u001b[0m\u001b[0mtake\u001b[0m\u001b[0;34m(\u001b[0m\u001b[0mindexer\u001b[0m\u001b[0;34m,\u001b[0m \u001b[0maxis\u001b[0m\u001b[0;34m=\u001b[0m\u001b[0;36m0\u001b[0m\u001b[0;34m)\u001b[0m\u001b[0;34m\u001b[0m\u001b[0;34m\u001b[0m\u001b[0m\n\u001b[1;32m   3041\u001b[0m \u001b[0;34m\u001b[0m\u001b[0m\n",
      "\u001b[0;31mKeyboardInterrupt\u001b[0m: "
     ]
    }
   ],
   "source": [
    "lm = LinearModel(df_x,embeddings,size=8, embeddings_size=250, T=1)\n",
    "print(lm.U[0,0:10])\n",
    "lm.SGD_vectorized(test=True,alpha=0.0001, max_iterations=700, test_size=128)\n",
    "print(lm.U[0,0:10])"
   ]
  },
  {
   "cell_type": "markdown",
   "metadata": {},
   "source": [
    "The function minimizes at around 250 iterations.  From now on we'll just stop there."
   ]
  },
  {
   "cell_type": "markdown",
   "metadata": {},
   "source": [
    "#### Predict Articles & Train/Test Validation"
   ]
  },
  {
   "cell_type": "code",
   "execution_count": null,
   "metadata": {},
   "outputs": [],
   "source": []
  },
  {
   "cell_type": "markdown",
   "metadata": {},
   "source": [
    "# Model 2: Multiple User Latent Vectors"
   ]
  },
  {
   "cell_type": "code",
   "execution_count": 162,
   "metadata": {},
   "outputs": [],
   "source": [
    "class NonlinearModel(LinearModel):\n",
    "    def initialize_user_vectors(self,size,embeddings_size):\n",
    "        '''\n",
    "        sets self.U in parent class __init__\n",
    "        '''\n",
    "        starting_vectors = LinearModel.d.get_embedding_vectors(\n",
    "            self.item_embeddings,\n",
    "            self.user_data,\n",
    "            size,\n",
    "            embeddings_size=embeddings_size\n",
    "        )\n",
    "        \n",
    "        return NonlinearModel.Cluster.k_means(starting_vectors,self.T)\n",
    "    \n",
    "    \n",
    "    class Cluster():\n",
    "        @staticmethod\n",
    "        def starting_centroids(points,T):\n",
    "            #initialize centroids by randomly picking an item for each user\n",
    "            starter_idx = np.random.rand(points.shape[0],T).argsort(axis=-1)[:,0:T,np.newaxis]\n",
    "            return np.take_along_axis(\n",
    "                points,\n",
    "                starter_idx,\n",
    "                axis=1\n",
    "            )\n",
    "\n",
    "        @staticmethod\n",
    "        def closest_centroid(points, centroids):\n",
    "            #find the closest centroid to each point\n",
    "            return np.argmin(\n",
    "                np.square(\n",
    "                    np.sum(\n",
    "                        np.square(points[:,:,np.newaxis] - centroids[:,np.newaxis]),\n",
    "                        axis=3\n",
    "                    ),\n",
    "                ),\n",
    "                axis=2\n",
    "            )\n",
    "\n",
    "        @staticmethod\n",
    "        def move_centroids(points,closest,k):\n",
    "            #find new centroid based on cluster center from cluster_centroid\n",
    "            weights = np.equal(\n",
    "                np.arange(k)[np.newaxis,:,np.newaxis],\n",
    "                closest[:,np.newaxis,:]\n",
    "            )\n",
    "\n",
    "            weights = np.repeat(weights[:,:,:,np.newaxis],points.shape[2],axis=3)\n",
    "\n",
    "            points = np.repeat(points[:,np.newaxis],k,axis=1)\n",
    "\n",
    "            return np.average(\n",
    "                points,\n",
    "                weights = weights,\n",
    "                axis=2\n",
    "            )\n",
    "\n",
    "        @staticmethod\n",
    "        def k_means(starting_vectors,k):\n",
    "            def iterative_kmeans(starting_vectors,old_centroids, new_centroids,k):\n",
    "                while True:\n",
    "                    if np.all(new_centroids == old_centroids):\n",
    "                        return new_centroids\n",
    "                    else:\n",
    "                        old_centroids = new_centroids\n",
    "                        new_centroids = NonlinearModel.Cluster.move_centroids(\n",
    "                            starting_vectors,\n",
    "                            NonlinearModel.Cluster.closest_centroid(\n",
    "                                starting_vectors,\n",
    "                                old_centroids\n",
    "                                ),                                           \n",
    "                            k,\n",
    "                        )\n",
    "                        iterative_kmeans(starting_vectors,old_centroids,new_centroids,k)\n",
    "            starting_centroids = NonlinearModel.Cluster.starting_centroids(starting_vectors,k)\n",
    "            return iterative_kmeans(\n",
    "                starting_vectors,\n",
    "                np.zeros(starting_centroids.shape),\n",
    "                starting_centroids,\n",
    "                k\n",
    "            )\n",
    "    \n",
    "    def argmax_indices(self):\n",
    "        \n",
    "        #get which interest unit per user, per item, is best for each of their relevant items, d\n",
    "        #output of tensor dot should be 100 x 8 x 3\n",
    "        #output of argmax should be 100 x 8\n",
    "    \n",
    "        return np.argmax(\n",
    "            np.tensordot(\n",
    "                self.Vd,\n",
    "                self.U,\n",
    "                axes=(2,2)\n",
    "            )[:,:,0],\n",
    "            axis=2\n",
    "        )\n",
    "            \n",
    "        \n",
    "    class gradient():\n",
    "        @staticmethod\n",
    "        def J():\n",
    "            pass\n",
    "        @staticmethod\n",
    "        def dJ():\n",
    "            pass\n",
    "\n",
    "                "
   ]
  },
  {
   "cell_type": "code",
   "execution_count": 175,
   "metadata": {},
   "outputs": [],
   "source": [
    "nm = NonlinearModel(df_x,embeddings,size=8, embeddings_size=250, T=3)"
   ]
  },
  {
   "cell_type": "code",
   "execution_count": 176,
   "metadata": {},
   "outputs": [
    {
     "data": {
      "text/plain": [
       "(100, 3, 250)"
      ]
     },
     "execution_count": 176,
     "metadata": {},
     "output_type": "execute_result"
    }
   ],
   "source": [
    "nm.U.shape"
   ]
  },
  {
   "cell_type": "code",
   "execution_count": 177,
   "metadata": {},
   "outputs": [
    {
     "data": {
      "text/plain": [
       "(100, 8, 250)"
      ]
     },
     "execution_count": 177,
     "metadata": {},
     "output_type": "execute_result"
    }
   ],
   "source": [
    "nm.Vd.shape"
   ]
  },
  {
   "cell_type": "code",
   "execution_count": 178,
   "metadata": {},
   "outputs": [
    {
     "data": {
      "text/plain": [
       "array([[1, 1, 1, 0, 0, 0, 1, 2],\n",
       "       [1, 1, 0, 0, 1, 1, 1, 1],\n",
       "       [2, 0, 1, 2, 0, 2, 1, 0],\n",
       "       [1, 0, 0, 1, 1, 0, 1, 0],\n",
       "       [2, 0, 0, 0, 0, 1, 2, 0],\n",
       "       [0, 0, 1, 1, 2, 1, 0, 1],\n",
       "       [0, 1, 0, 2, 0, 0, 1, 1],\n",
       "       [1, 1, 2, 1, 0, 2, 1, 2],\n",
       "       [1, 1, 1, 1, 1, 1, 0, 1],\n",
       "       [0, 0, 1, 1, 1, 1, 1, 0]])"
      ]
     },
     "execution_count": 178,
     "metadata": {},
     "output_type": "execute_result"
    }
   ],
   "source": [
    "nm.argmax_indices()[0:10]"
   ]
  },
  {
   "cell_type": "code",
   "execution_count": null,
   "metadata": {},
   "outputs": [],
   "source": []
  }
 ],
 "metadata": {
  "kernelspec": {
   "display_name": "Python 3",
   "language": "python",
   "name": "python3"
  },
  "language_info": {
   "codemirror_mode": {
    "name": "ipython",
    "version": 3
   },
   "file_extension": ".py",
   "mimetype": "text/x-python",
   "name": "python",
   "nbconvert_exporter": "python",
   "pygments_lexer": "ipython3",
   "version": "3.7.4"
  }
 },
 "nbformat": 4,
 "nbformat_minor": 2
}

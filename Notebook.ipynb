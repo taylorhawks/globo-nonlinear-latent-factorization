{
 "cells": [
  {
   "cell_type": "code",
   "execution_count": 3,
   "metadata": {},
   "outputs": [
    {
     "name": "stdout",
     "output_type": "stream",
     "text": [
      "3.7.4 (v3.7.4:e09359112e, Jul  8 2019, 14:54:52) \n",
      "[Clang 6.0 (clang-600.0.57)]\n"
     ]
    }
   ],
   "source": [
    "import sys\n",
    "print(sys.version)"
   ]
  },
  {
   "cell_type": "code",
   "execution_count": 2,
   "metadata": {},
   "outputs": [
    {
     "name": "stderr",
     "output_type": "stream",
     "text": [
      "/Library/Frameworks/Python.framework/Versions/3.7/lib/python3.7/site-packages/tqdm/std.py:658: FutureWarning: The Panel class is removed from pandas. Accessing it from the top-level namespace will also be removed in the next version\n",
      "  from pandas import Panel\n"
     ]
    }
   ],
   "source": [
    "import pandas as pd\n",
    "import numpy as np\n",
    "import pickle\n",
    "from os import listdir\n",
    "import seaborn as sns\n",
    "import matplotlib.pyplot as plt\n",
    "from tqdm.notebook import tqdm\n",
    "tqdm.pandas()\n",
    "from time import time"
   ]
  },
  {
   "cell_type": "code",
   "execution_count": 18,
   "metadata": {},
   "outputs": [],
   "source": [
    "#read files\n",
    "\n",
    "#description: https://www.kaggle.com/gspmoreira/news-portal-user-interactions-by-globocom\n",
    "\n",
    "articles_metadata = pd.read_csv('data/articles_metadata.csv')\n",
    "clicks_sample = pd.read_csv('data/clicks_sample.csv')\n",
    "\n",
    "\n",
    "with open('data/articles_embeddings.pickle', 'rb') as pickle_file:\n",
    "    embeddings = pickle.load(pickle_file)"
   ]
  },
  {
   "cell_type": "code",
   "execution_count": 19,
   "metadata": {},
   "outputs": [
    {
     "name": "stdout",
     "output_type": "stream",
     "text": [
      "articles_metadata\n"
     ]
    },
    {
     "data": {
      "text/html": [
       "<div>\n",
       "<style scoped>\n",
       "    .dataframe tbody tr th:only-of-type {\n",
       "        vertical-align: middle;\n",
       "    }\n",
       "\n",
       "    .dataframe tbody tr th {\n",
       "        vertical-align: top;\n",
       "    }\n",
       "\n",
       "    .dataframe thead th {\n",
       "        text-align: right;\n",
       "    }\n",
       "</style>\n",
       "<table border=\"1\" class=\"dataframe\">\n",
       "  <thead>\n",
       "    <tr style=\"text-align: right;\">\n",
       "      <th></th>\n",
       "      <th>article_id</th>\n",
       "      <th>category_id</th>\n",
       "      <th>created_at_ts</th>\n",
       "      <th>publisher_id</th>\n",
       "      <th>words_count</th>\n",
       "    </tr>\n",
       "  </thead>\n",
       "  <tbody>\n",
       "    <tr>\n",
       "      <th>0</th>\n",
       "      <td>0</td>\n",
       "      <td>0</td>\n",
       "      <td>1513144419000</td>\n",
       "      <td>0</td>\n",
       "      <td>168</td>\n",
       "    </tr>\n",
       "    <tr>\n",
       "      <th>1</th>\n",
       "      <td>1</td>\n",
       "      <td>1</td>\n",
       "      <td>1405341936000</td>\n",
       "      <td>0</td>\n",
       "      <td>189</td>\n",
       "    </tr>\n",
       "    <tr>\n",
       "      <th>2</th>\n",
       "      <td>2</td>\n",
       "      <td>1</td>\n",
       "      <td>1408667706000</td>\n",
       "      <td>0</td>\n",
       "      <td>250</td>\n",
       "    </tr>\n",
       "    <tr>\n",
       "      <th>3</th>\n",
       "      <td>3</td>\n",
       "      <td>1</td>\n",
       "      <td>1408468313000</td>\n",
       "      <td>0</td>\n",
       "      <td>230</td>\n",
       "    </tr>\n",
       "    <tr>\n",
       "      <th>4</th>\n",
       "      <td>4</td>\n",
       "      <td>1</td>\n",
       "      <td>1407071171000</td>\n",
       "      <td>0</td>\n",
       "      <td>162</td>\n",
       "    </tr>\n",
       "  </tbody>\n",
       "</table>\n",
       "</div>"
      ],
      "text/plain": [
       "   article_id  category_id  created_at_ts  publisher_id  words_count\n",
       "0           0            0  1513144419000             0          168\n",
       "1           1            1  1405341936000             0          189\n",
       "2           2            1  1408667706000             0          250\n",
       "3           3            1  1408468313000             0          230\n",
       "4           4            1  1407071171000             0          162"
      ]
     },
     "metadata": {},
     "output_type": "display_data"
    },
    {
     "name": "stdout",
     "output_type": "stream",
     "text": [
      "clicks_sample\n"
     ]
    },
    {
     "data": {
      "text/html": [
       "<div>\n",
       "<style scoped>\n",
       "    .dataframe tbody tr th:only-of-type {\n",
       "        vertical-align: middle;\n",
       "    }\n",
       "\n",
       "    .dataframe tbody tr th {\n",
       "        vertical-align: top;\n",
       "    }\n",
       "\n",
       "    .dataframe thead th {\n",
       "        text-align: right;\n",
       "    }\n",
       "</style>\n",
       "<table border=\"1\" class=\"dataframe\">\n",
       "  <thead>\n",
       "    <tr style=\"text-align: right;\">\n",
       "      <th></th>\n",
       "      <th>user_id</th>\n",
       "      <th>session_id</th>\n",
       "      <th>session_start</th>\n",
       "      <th>session_size</th>\n",
       "      <th>click_article_id</th>\n",
       "      <th>click_timestamp</th>\n",
       "      <th>click_environment</th>\n",
       "      <th>click_deviceGroup</th>\n",
       "      <th>click_os</th>\n",
       "      <th>click_country</th>\n",
       "      <th>click_region</th>\n",
       "      <th>click_referrer_type</th>\n",
       "    </tr>\n",
       "  </thead>\n",
       "  <tbody>\n",
       "    <tr>\n",
       "      <th>0</th>\n",
       "      <td>0</td>\n",
       "      <td>1506825423271737</td>\n",
       "      <td>1506825423000</td>\n",
       "      <td>2</td>\n",
       "      <td>157541</td>\n",
       "      <td>1506826828020</td>\n",
       "      <td>4</td>\n",
       "      <td>3</td>\n",
       "      <td>20</td>\n",
       "      <td>1</td>\n",
       "      <td>20</td>\n",
       "      <td>2</td>\n",
       "    </tr>\n",
       "    <tr>\n",
       "      <th>1</th>\n",
       "      <td>0</td>\n",
       "      <td>1506825423271737</td>\n",
       "      <td>1506825423000</td>\n",
       "      <td>2</td>\n",
       "      <td>68866</td>\n",
       "      <td>1506826858020</td>\n",
       "      <td>4</td>\n",
       "      <td>3</td>\n",
       "      <td>20</td>\n",
       "      <td>1</td>\n",
       "      <td>20</td>\n",
       "      <td>2</td>\n",
       "    </tr>\n",
       "    <tr>\n",
       "      <th>2</th>\n",
       "      <td>1</td>\n",
       "      <td>1506825426267738</td>\n",
       "      <td>1506825426000</td>\n",
       "      <td>2</td>\n",
       "      <td>235840</td>\n",
       "      <td>1506827017951</td>\n",
       "      <td>4</td>\n",
       "      <td>1</td>\n",
       "      <td>17</td>\n",
       "      <td>1</td>\n",
       "      <td>16</td>\n",
       "      <td>2</td>\n",
       "    </tr>\n",
       "    <tr>\n",
       "      <th>3</th>\n",
       "      <td>1</td>\n",
       "      <td>1506825426267738</td>\n",
       "      <td>1506825426000</td>\n",
       "      <td>2</td>\n",
       "      <td>96663</td>\n",
       "      <td>1506827047951</td>\n",
       "      <td>4</td>\n",
       "      <td>1</td>\n",
       "      <td>17</td>\n",
       "      <td>1</td>\n",
       "      <td>16</td>\n",
       "      <td>2</td>\n",
       "    </tr>\n",
       "    <tr>\n",
       "      <th>4</th>\n",
       "      <td>2</td>\n",
       "      <td>1506825435299739</td>\n",
       "      <td>1506825435000</td>\n",
       "      <td>2</td>\n",
       "      <td>119592</td>\n",
       "      <td>1506827090575</td>\n",
       "      <td>4</td>\n",
       "      <td>1</td>\n",
       "      <td>17</td>\n",
       "      <td>1</td>\n",
       "      <td>24</td>\n",
       "      <td>2</td>\n",
       "    </tr>\n",
       "  </tbody>\n",
       "</table>\n",
       "</div>"
      ],
      "text/plain": [
       "   user_id        session_id  session_start  session_size  click_article_id  \\\n",
       "0        0  1506825423271737  1506825423000             2            157541   \n",
       "1        0  1506825423271737  1506825423000             2             68866   \n",
       "2        1  1506825426267738  1506825426000             2            235840   \n",
       "3        1  1506825426267738  1506825426000             2             96663   \n",
       "4        2  1506825435299739  1506825435000             2            119592   \n",
       "\n",
       "   click_timestamp  click_environment  click_deviceGroup  click_os  \\\n",
       "0    1506826828020                  4                  3        20   \n",
       "1    1506826858020                  4                  3        20   \n",
       "2    1506827017951                  4                  1        17   \n",
       "3    1506827047951                  4                  1        17   \n",
       "4    1506827090575                  4                  1        17   \n",
       "\n",
       "   click_country  click_region  click_referrer_type  \n",
       "0              1            20                    2  \n",
       "1              1            20                    2  \n",
       "2              1            16                    2  \n",
       "3              1            16                    2  \n",
       "4              1            24                    2  "
      ]
     },
     "metadata": {},
     "output_type": "display_data"
    },
    {
     "name": "stdout",
     "output_type": "stream",
     "text": [
      "embeddings shape\n",
      "(364047, 250)\n"
     ]
    }
   ],
   "source": [
    "print('articles_metadata')\n",
    "display(articles_metadata.head())\n",
    "print('clicks_sample')\n",
    "display(clicks_sample.head())\n",
    "print('embeddings shape')\n",
    "print(embeddings.shape)"
   ]
  },
  {
   "cell_type": "code",
   "execution_count": 6,
   "metadata": {},
   "outputs": [
    {
     "data": {
      "image/png": "[encoded data removed]",
      "text/plain": [
       "<Figure size 432x288 with 1 Axes>"
      ]
     },
     "metadata": {
      "needs_background": "light"
     },
     "output_type": "display_data"
    },
    {
     "data": {
      "image/png": "[encoded data removed]",
      "text/plain": [
       "<Figure size 432x288 with 1 Axes>"
      ]
     },
     "metadata": {
      "needs_background": "light"
     },
     "output_type": "display_data"
    }
   ],
   "source": [
    "sns.countplot(clicks_sample.click_environment)\n",
    "plt.show()\n",
    "sns.countplot(clicks_sample.click_deviceGroup)\n",
    "plt.show()"
   ]
  },
  {
   "cell_type": "code",
   "execution_count": 14,
   "metadata": {},
   "outputs": [],
   "source": [
    "def get_click_data():\n",
    "    click_dir = 'data/clicks/clicks/'\n",
    "    columns = ['user_id','click_article_id','click_environment','click_deviceGroup'] #validate with EDA\n",
    "    return pd.concat(\n",
    "        pd.read_csv(click_dir + click_data)[columns] for click_data in tqdm(listdir('data/clicks/clicks'))\n",
    "    ).drop_duplicates()"
   ]
  },
  {
   "cell_type": "code",
   "execution_count": 15,
   "metadata": {},
   "outputs": [
    {
     "data": {
      "application/vnd.jupyter.widget-view+json": {
       "model_id": "bd7932fa0d5a4b859901eb56b0e01545",
       "version_major": 2,
       "version_minor": 0
      },
      "text/plain": [
       "HBox(children=(FloatProgress(value=0.0, max=385.0), HTML(value='')))"
      ]
     },
     "metadata": {},
     "output_type": "display_data"
    },
    {
     "name": "stdout",
     "output_type": "stream",
     "text": [
      "\n"
     ]
    }
   ],
   "source": [
    "user_clicks = get_click_data()"
   ]
  },
  {
   "cell_type": "code",
   "execution_count": 18,
   "metadata": {},
   "outputs": [
    {
     "data": {
      "text/html": [
       "<div>\n",
       "<style scoped>\n",
       "    .dataframe tbody tr th:only-of-type {\n",
       "        vertical-align: middle;\n",
       "    }\n",
       "\n",
       "    .dataframe tbody tr th {\n",
       "        vertical-align: top;\n",
       "    }\n",
       "\n",
       "    .dataframe thead th {\n",
       "        text-align: right;\n",
       "    }\n",
       "</style>\n",
       "<table border=\"1\" class=\"dataframe\">\n",
       "  <thead>\n",
       "    <tr style=\"text-align: right;\">\n",
       "      <th></th>\n",
       "      <th>user_id</th>\n",
       "      <th>click_article_id</th>\n",
       "    </tr>\n",
       "  </thead>\n",
       "  <tbody>\n",
       "    <tr>\n",
       "      <th>0</th>\n",
       "      <td>0</td>\n",
       "      <td>157541</td>\n",
       "    </tr>\n",
       "    <tr>\n",
       "      <th>1</th>\n",
       "      <td>0</td>\n",
       "      <td>68866</td>\n",
       "    </tr>\n",
       "    <tr>\n",
       "      <th>2</th>\n",
       "      <td>1</td>\n",
       "      <td>235840</td>\n",
       "    </tr>\n",
       "    <tr>\n",
       "      <th>3</th>\n",
       "      <td>1</td>\n",
       "      <td>96663</td>\n",
       "    </tr>\n",
       "    <tr>\n",
       "      <th>4</th>\n",
       "      <td>2</td>\n",
       "      <td>119592</td>\n",
       "    </tr>\n",
       "  </tbody>\n",
       "</table>\n",
       "</div>"
      ],
      "text/plain": [
       "  user_id click_article_id\n",
       "0       0           157541\n",
       "1       0            68866\n",
       "2       1           235840\n",
       "3       1            96663\n",
       "4       2           119592"
      ]
     },
     "metadata": {},
     "output_type": "display_data"
    },
    {
     "data": {
      "text/plain": [
       "user_id             322897\n",
       "click_article_id     46033\n",
       "dtype: int64"
      ]
     },
     "metadata": {},
     "output_type": "display_data"
    }
   ],
   "source": [
    "display(user_clicks.head(),user_clicks.nunique())"
   ]
  },
  {
   "cell_type": "code",
   "execution_count": 9,
   "metadata": {},
   "outputs": [
    {
     "data": {
      "image/png": "[encoded data removed]",
      "text/plain": [
       "<Figure size 432x288 with 1 Axes>"
      ]
     },
     "metadata": {
      "needs_background": "light"
     },
     "output_type": "display_data"
    },
    {
     "name": "stdout",
     "output_type": "stream",
     "text": [
      "Min: 1\n",
      "Max: 34145\n"
     ]
    }
   ],
   "source": [
    "sns.distplot(\n",
    "    user_clicks.click_article_id.value_counts(),\n",
    "    kde=False,\n",
    "    bins=np.arange(0,500,10)\n",
    ").set_title('Distribution of Article Clicks')\n",
    "plt.xlabel('Number of Clicks')\n",
    "plt.show()\n",
    "\n",
    "print('Min:', user_clicks.click_article_id.value_counts().min())\n",
    "print('Max:', user_clicks.click_article_id.value_counts().max())"
   ]
  },
  {
   "cell_type": "markdown",
   "metadata": {},
   "source": [
    "Article clicks are skewed heavily left."
   ]
  },
  {
   "cell_type": "code",
   "execution_count": 10,
   "metadata": {},
   "outputs": [
    {
     "data": {
      "image/png": "[encoded data removed]",
      "text/plain": [
       "<Figure size 432x288 with 1 Axes>"
      ]
     },
     "metadata": {
      "needs_background": "light"
     },
     "output_type": "display_data"
    },
    {
     "name": "stdout",
     "output_type": "stream",
     "text": [
      "Min: 2\n",
      "Max: 1048\n"
     ]
    }
   ],
   "source": [
    "sns.distplot(\n",
    "    user_clicks.user_id.value_counts(),\n",
    "    kde=False,\n",
    "    bins = np.arange(0,100,1)\n",
    ").set_title('Distribution of Clicks per User')\n",
    "plt.xlabel('Clicks per User')\n",
    "plt.show()\n",
    "\n",
    "print('Min:', user_clicks.user_id.value_counts().min())\n",
    "print('Max:', user_clicks.user_id.value_counts().max())"
   ]
  },
  {
   "cell_type": "code",
   "execution_count": null,
   "metadata": {},
   "outputs": [],
   "source": []
  },
  {
   "cell_type": "code",
   "execution_count": null,
   "metadata": {},
   "outputs": [],
   "source": []
  },
  {
   "cell_type": "code",
   "execution_count": null,
   "metadata": {},
   "outputs": [],
   "source": []
  },
  {
   "cell_type": "markdown",
   "metadata": {},
   "source": [
    "## To do\n",
    "- figure out implicit rating system\n",
    "- sample and train/test split\n",
    "- models\n",
    "    1. KNN\n",
    "    2. Bucketed random projection (ANN)\n",
    "        - https://www.learndatasci.com/tutorials/building-recommendation-engine-locality-sensitive-hashing-lsh-python/\n",
    "        - https://eng.uber.com/lsh/\n",
    "    3. User embeddings\n",
    "    4. User embeddings with nonlinearity\n",
    "        - use clustering to group interests\n",
    "\n",
    "\n",
    "### User Embeddings\n",
    "- Embeddings learned through SGNS maximize the dot-product between observed pairs and minimize it for random pairs.\n",
    "- The dot product of embeddings of any given pair represents the likelihood of observing the pair together.\n",
    "- If we are interested in learning an association between any two sets of entities, we can technically learn any kinds of embeddings through SGNS\n",
    "- In our model, we will replace word pairs with reader - article pairs"
   ]
  },
  {
   "cell_type": "code",
   "execution_count": 16,
   "metadata": {},
   "outputs": [],
   "source": [
    "#tools to use\n",
    "from sklearn import metrics\n",
    "from sklearn.cluster import KMeans, AgglomerativeClustering\n",
    "from sklearn.decomposition import PCA"
   ]
  },
  {
   "cell_type": "markdown",
   "metadata": {},
   "source": [
    "# Data Setup\n",
    "- Filter out irrelevant columns\n",
    "- Pick users whomst'd've read at least N articles"
   ]
  },
  {
   "cell_type": "code",
   "execution_count": 20,
   "metadata": {},
   "outputs": [],
   "source": [
    "df = user_clicks.copy()"
   ]
  },
  {
   "cell_type": "code",
   "execution_count": null,
   "metadata": {
    "scrolled": false
   },
   "outputs": [],
   "source": [
    "sizes = [df.user_id.nunique()]\n",
    "\n",
    "for i in tqdm(range(2, 21)): #might be able to code this in a faster way\n",
    "    sizes.append(df[df.groupby('user_id').user_id.transform(len) > i].user_id.nunique())"
   ]
  },
  {
   "cell_type": "code",
   "execution_count": 41,
   "metadata": {},
   "outputs": [
    {
     "data": {
      "image/png": "[encoded data removed]",
      "text/plain": [
       "<Figure size 432x288 with 1 Axes>"
      ]
     },
     "metadata": {
      "needs_background": "light"
     },
     "output_type": "display_data"
    }
   ],
   "source": [
    "sns.lineplot(list(range(2,22)),sizes)\n",
    "plt.xticks(range(2,22))\n",
    "plt.show()"
   ]
  },
  {
   "cell_type": "markdown",
   "metadata": {},
   "source": [
    "Might be a good idea to set N=10\n",
    "Training set will have just 8 for each user, so there will be 2 or more to predict."
   ]
  },
  {
   "cell_type": "code",
   "execution_count": 23,
   "metadata": {},
   "outputs": [
    {
     "name": "stdout",
     "output_type": "stream",
     "text": [
      "94.24544906616211\n"
     ]
    }
   ],
   "source": [
    "start = time()\n",
    "df_ = df[df.groupby('user_id').user_id.transform(len) >= 10]\n",
    "print(time()-start)"
   ]
  },
  {
   "cell_type": "code",
   "execution_count": null,
   "metadata": {
    "scrolled": true
   },
   "outputs": [],
   "source": [
    "df_['env_device'] = 'env:' + df_.click_environment.astype(str) + ' device:' + df_.click_deviceGroup.astype(str)\n",
    "df_.drop(['click_environment','click_deviceGroup'],axis=1,inplace=True)"
   ]
  },
  {
   "cell_type": "code",
   "execution_count": 28,
   "metadata": {},
   "outputs": [
    {
     "data": {
      "text/html": [
       "<div>\n",
       "<style scoped>\n",
       "    .dataframe tbody tr th:only-of-type {\n",
       "        vertical-align: middle;\n",
       "    }\n",
       "\n",
       "    .dataframe tbody tr th {\n",
       "        vertical-align: top;\n",
       "    }\n",
       "\n",
       "    .dataframe thead th {\n",
       "        text-align: right;\n",
       "    }\n",
       "</style>\n",
       "<table border=\"1\" class=\"dataframe\">\n",
       "  <thead>\n",
       "    <tr style=\"text-align: right;\">\n",
       "      <th></th>\n",
       "      <th>user_id</th>\n",
       "      <th>click_article_id</th>\n",
       "      <th>env_device</th>\n",
       "    </tr>\n",
       "  </thead>\n",
       "  <tbody>\n",
       "    <tr>\n",
       "      <th>2</th>\n",
       "      <td>1</td>\n",
       "      <td>235840</td>\n",
       "      <td>env:4 device:1</td>\n",
       "    </tr>\n",
       "    <tr>\n",
       "      <th>3</th>\n",
       "      <td>1</td>\n",
       "      <td>96663</td>\n",
       "      <td>env:4 device:1</td>\n",
       "    </tr>\n",
       "    <tr>\n",
       "      <th>6</th>\n",
       "      <td>3</td>\n",
       "      <td>236065</td>\n",
       "      <td>env:4 device:3</td>\n",
       "    </tr>\n",
       "    <tr>\n",
       "      <th>7</th>\n",
       "      <td>3</td>\n",
       "      <td>236294</td>\n",
       "      <td>env:4 device:3</td>\n",
       "    </tr>\n",
       "    <tr>\n",
       "      <th>10</th>\n",
       "      <td>5</td>\n",
       "      <td>168868</td>\n",
       "      <td>env:4 device:1</td>\n",
       "    </tr>\n",
       "  </tbody>\n",
       "</table>\n",
       "</div>"
      ],
      "text/plain": [
       "   user_id click_article_id      env_device\n",
       "2        1           235840  env:4 device:1\n",
       "3        1            96663  env:4 device:1\n",
       "6        3           236065  env:4 device:3\n",
       "7        3           236294  env:4 device:3\n",
       "10       5           168868  env:4 device:1"
      ]
     },
     "execution_count": 28,
     "metadata": {},
     "output_type": "execute_result"
    }
   ],
   "source": [
    "df_.head()"
   ]
  },
  {
   "cell_type": "code",
   "execution_count": 29,
   "metadata": {},
   "outputs": [
    {
     "data": {
      "image/png": "[encoded data removed]",
      "text/plain": [
       "<Figure size 432x288 with 1 Axes>"
      ]
     },
     "metadata": {
      "needs_background": "light"
     },
     "output_type": "display_data"
    }
   ],
   "source": [
    "sns.countplot(df_.env_device)\n",
    "plt.yscale('log')\n",
    "plt.xticks(rotation=45)\n",
    "plt.show()"
   ]
  },
  {
   "cell_type": "markdown",
   "metadata": {},
   "source": [
    "#### Merge embeddings"
   ]
  },
  {
   "cell_type": "code",
   "execution_count": 241,
   "metadata": {},
   "outputs": [
    {
     "name": "stdout",
     "output_type": "stream",
     "text": [
      "10.697396039962769\n"
     ]
    }
   ],
   "source": [
    "df_ = df_.merge(\n",
    "    pd.DataFrame(embeddings),\n",
    "    how='left',\n",
    "    left_on='click_article_id',\n",
    "    right_index=True\n",
    ")"
   ]
  },
  {
   "cell_type": "code",
   "execution_count": 244,
   "metadata": {},
   "outputs": [],
   "source": [
    "df_.to_csv('data/user_embeddings.csv')"
   ]
  },
  {
   "cell_type": "code",
   "execution_count": 245,
   "metadata": {},
   "outputs": [
    {
     "name": "stderr",
     "output_type": "stream",
     "text": [
      "/Library/Frameworks/Python.framework/Versions/3.7/lib/python3.7/site-packages/numpy/lib/arraysetops.py:568: FutureWarning: elementwise comparison failed; returning scalar instead, but in the future will perform elementwise comparison\n",
      "  mask |= (ar1 == a)\n"
     ]
    },
    {
     "name": "stdout",
     "output_type": "stream",
     "text": [
      "99.77132892608643\n"
     ]
    }
   ],
   "source": [
    "#read back\n",
    "start = time()\n",
    "df_ = pd.read_csv('data/user_embeddings.csv',index_col=0)\n",
    "print(time()-start)"
   ]
  },
  {
   "cell_type": "code",
   "execution_count": 246,
   "metadata": {},
   "outputs": [
    {
     "data": {
      "text/html": [
       "<div>\n",
       "<style scoped>\n",
       "    .dataframe tbody tr th:only-of-type {\n",
       "        vertical-align: middle;\n",
       "    }\n",
       "\n",
       "    .dataframe tbody tr th {\n",
       "        vertical-align: top;\n",
       "    }\n",
       "\n",
       "    .dataframe thead th {\n",
       "        text-align: right;\n",
       "    }\n",
       "</style>\n",
       "<table border=\"1\" class=\"dataframe\">\n",
       "  <thead>\n",
       "    <tr style=\"text-align: right;\">\n",
       "      <th></th>\n",
       "      <th>user_id</th>\n",
       "      <th>click_article_id</th>\n",
       "      <th>env_device</th>\n",
       "      <th>0</th>\n",
       "      <th>1</th>\n",
       "      <th>2</th>\n",
       "      <th>3</th>\n",
       "      <th>4</th>\n",
       "      <th>5</th>\n",
       "      <th>6</th>\n",
       "      <th>...</th>\n",
       "      <th>240</th>\n",
       "      <th>241</th>\n",
       "      <th>242</th>\n",
       "      <th>243</th>\n",
       "      <th>244</th>\n",
       "      <th>245</th>\n",
       "      <th>246</th>\n",
       "      <th>247</th>\n",
       "      <th>248</th>\n",
       "      <th>249</th>\n",
       "    </tr>\n",
       "  </thead>\n",
       "  <tbody>\n",
       "    <tr>\n",
       "      <th>2</th>\n",
       "      <td>1</td>\n",
       "      <td>235840</td>\n",
       "      <td>env:4 device:1</td>\n",
       "      <td>-0.168369</td>\n",
       "      <td>-0.967274</td>\n",
       "      <td>0.226036</td>\n",
       "      <td>0.145089</td>\n",
       "      <td>-0.417114</td>\n",
       "      <td>-0.693828</td>\n",
       "      <td>-0.741834</td>\n",
       "      <td>...</td>\n",
       "      <td>-0.010313</td>\n",
       "      <td>-0.422416</td>\n",
       "      <td>0.372931</td>\n",
       "      <td>-0.540084</td>\n",
       "      <td>0.242361</td>\n",
       "      <td>0.616011</td>\n",
       "      <td>0.704936</td>\n",
       "      <td>0.571687</td>\n",
       "      <td>0.545211</td>\n",
       "      <td>0.650550</td>\n",
       "    </tr>\n",
       "    <tr>\n",
       "      <th>3</th>\n",
       "      <td>1</td>\n",
       "      <td>96663</td>\n",
       "      <td>env:4 device:1</td>\n",
       "      <td>-0.463952</td>\n",
       "      <td>-0.958577</td>\n",
       "      <td>-0.317925</td>\n",
       "      <td>0.143565</td>\n",
       "      <td>0.009962</td>\n",
       "      <td>0.510263</td>\n",
       "      <td>-0.703141</td>\n",
       "      <td>...</td>\n",
       "      <td>0.779381</td>\n",
       "      <td>0.505448</td>\n",
       "      <td>-0.262309</td>\n",
       "      <td>-0.442881</td>\n",
       "      <td>0.695514</td>\n",
       "      <td>0.748444</td>\n",
       "      <td>-0.209889</td>\n",
       "      <td>-0.231323</td>\n",
       "      <td>-0.082891</td>\n",
       "      <td>-0.203830</td>\n",
       "    </tr>\n",
       "    <tr>\n",
       "      <th>6</th>\n",
       "      <td>3</td>\n",
       "      <td>236065</td>\n",
       "      <td>env:4 device:3</td>\n",
       "      <td>-0.583720</td>\n",
       "      <td>-0.945301</td>\n",
       "      <td>-0.770678</td>\n",
       "      <td>-0.654855</td>\n",
       "      <td>-0.409393</td>\n",
       "      <td>-0.386152</td>\n",
       "      <td>-0.184850</td>\n",
       "      <td>...</td>\n",
       "      <td>-0.460681</td>\n",
       "      <td>-0.149449</td>\n",
       "      <td>0.158473</td>\n",
       "      <td>-0.431712</td>\n",
       "      <td>0.257235</td>\n",
       "      <td>-0.118843</td>\n",
       "      <td>-0.072126</td>\n",
       "      <td>-0.028298</td>\n",
       "      <td>0.327733</td>\n",
       "      <td>0.428365</td>\n",
       "    </tr>\n",
       "    <tr>\n",
       "      <th>7</th>\n",
       "      <td>3</td>\n",
       "      <td>236294</td>\n",
       "      <td>env:4 device:3</td>\n",
       "      <td>-0.791363</td>\n",
       "      <td>-0.967025</td>\n",
       "      <td>-0.247181</td>\n",
       "      <td>-0.462593</td>\n",
       "      <td>0.238766</td>\n",
       "      <td>-0.713218</td>\n",
       "      <td>-0.789062</td>\n",
       "      <td>...</td>\n",
       "      <td>-0.609091</td>\n",
       "      <td>0.230817</td>\n",
       "      <td>0.090354</td>\n",
       "      <td>-0.457567</td>\n",
       "      <td>-0.026513</td>\n",
       "      <td>-0.433131</td>\n",
       "      <td>0.347777</td>\n",
       "      <td>0.511057</td>\n",
       "      <td>0.470070</td>\n",
       "      <td>0.092472</td>\n",
       "    </tr>\n",
       "    <tr>\n",
       "      <th>10</th>\n",
       "      <td>5</td>\n",
       "      <td>168868</td>\n",
       "      <td>env:4 device:1</td>\n",
       "      <td>-0.566814</td>\n",
       "      <td>-0.969073</td>\n",
       "      <td>0.212298</td>\n",
       "      <td>-0.424613</td>\n",
       "      <td>-0.843768</td>\n",
       "      <td>0.529609</td>\n",
       "      <td>0.366083</td>\n",
       "      <td>...</td>\n",
       "      <td>0.023162</td>\n",
       "      <td>-0.634281</td>\n",
       "      <td>-0.334300</td>\n",
       "      <td>0.593486</td>\n",
       "      <td>-0.761024</td>\n",
       "      <td>0.364188</td>\n",
       "      <td>0.238170</td>\n",
       "      <td>0.681951</td>\n",
       "      <td>-0.501074</td>\n",
       "      <td>-0.115498</td>\n",
       "    </tr>\n",
       "  </tbody>\n",
       "</table>\n",
       "<p>5 rows × 253 columns</p>\n",
       "</div>"
      ],
      "text/plain": [
       "    user_id  click_article_id      env_device         0         1         2  \\\n",
       "2         1            235840  env:4 device:1 -0.168369 -0.967274  0.226036   \n",
       "3         1             96663  env:4 device:1 -0.463952 -0.958577 -0.317925   \n",
       "6         3            236065  env:4 device:3 -0.583720 -0.945301 -0.770678   \n",
       "7         3            236294  env:4 device:3 -0.791363 -0.967025 -0.247181   \n",
       "10        5            168868  env:4 device:1 -0.566814 -0.969073  0.212298   \n",
       "\n",
       "           3         4         5         6  ...       240       241       242  \\\n",
       "2   0.145089 -0.417114 -0.693828 -0.741834  ... -0.010313 -0.422416  0.372931   \n",
       "3   0.143565  0.009962  0.510263 -0.703141  ...  0.779381  0.505448 -0.262309   \n",
       "6  -0.654855 -0.409393 -0.386152 -0.184850  ... -0.460681 -0.149449  0.158473   \n",
       "7  -0.462593  0.238766 -0.713218 -0.789062  ... -0.609091  0.230817  0.090354   \n",
       "10 -0.424613 -0.843768  0.529609  0.366083  ...  0.023162 -0.634281 -0.334300   \n",
       "\n",
       "         243       244       245       246       247       248       249  \n",
       "2  -0.540084  0.242361  0.616011  0.704936  0.571687  0.545211  0.650550  \n",
       "3  -0.442881  0.695514  0.748444 -0.209889 -0.231323 -0.082891 -0.203830  \n",
       "6  -0.431712  0.257235 -0.118843 -0.072126 -0.028298  0.327733  0.428365  \n",
       "7  -0.457567 -0.026513 -0.433131  0.347777  0.511057  0.470070  0.092472  \n",
       "10  0.593486 -0.761024  0.364188  0.238170  0.681951 -0.501074 -0.115498  \n",
       "\n",
       "[5 rows x 253 columns]"
      ]
     },
     "execution_count": 246,
     "metadata": {},
     "output_type": "execute_result"
    }
   ],
   "source": [
    "df_.head()"
   ]
  },
  {
   "cell_type": "markdown",
   "metadata": {},
   "source": [
    "#### Split train and test"
   ]
  },
  {
   "cell_type": "markdown",
   "metadata": {},
   "source": [
    "https://stackoverflow.com/questions/22472213/python-random-selection-per-group"
   ]
  },
  {
   "cell_type": "code",
   "execution_count": 247,
   "metadata": {},
   "outputs": [
    {
     "name": "stdout",
     "output_type": "stream",
     "text": [
      "126.30983185768127\n"
     ]
    }
   ],
   "source": [
    "start = time()\n",
    "size = 8        # sample size per user\n",
    "replace = False  # without replacement\n",
    "fn = lambda obj: obj.loc[np.random.choice(obj.index, size, replace),:]\n",
    "df_train = df_.groupby('user_id', as_index=False).apply(fn)\n",
    "print(time()-start)"
   ]
  },
  {
   "cell_type": "code",
   "execution_count": 248,
   "metadata": {},
   "outputs": [
    {
     "name": "stdout",
     "output_type": "stream",
     "text": [
      "1037.9082367420197\n"
     ]
    }
   ],
   "source": [
    "#takes 17 minutes\n",
    "\n",
    "start = time()\n",
    "df_test = df_[~df_.index.isin(df_train.index)]\n",
    "print(time()-start)"
   ]
  },
  {
   "cell_type": "code",
   "execution_count": 250,
   "metadata": {},
   "outputs": [],
   "source": [
    "df_train.reset_index(drop=True,inplace=True)\n",
    "df_test.reset_index(drop=True,inplace=True)"
   ]
  },
  {
   "cell_type": "code",
   "execution_count": 252,
   "metadata": {},
   "outputs": [
    {
     "name": "stdout",
     "output_type": "stream",
     "text": [
      "1147.8053047657013\n"
     ]
    }
   ],
   "source": [
    "#takes 19 minutes\n",
    "\n",
    "start = time()\n",
    "df_train.to_csv('data/train.csv')\n",
    "df_test.to_csv('data/test.csv')\n",
    "print(time()-start)"
   ]
  },
  {
   "cell_type": "markdown",
   "metadata": {},
   "source": [
    "# Load Train and Test Data"
   ]
  },
  {
   "cell_type": "code",
   "execution_count": 4,
   "metadata": {},
   "outputs": [
    {
     "name": "stderr",
     "output_type": "stream",
     "text": [
      "/Library/Frameworks/Python.framework/Versions/3.7/lib/python3.7/site-packages/numpy/lib/arraysetops.py:568: FutureWarning: elementwise comparison failed; returning scalar instead, but in the future will perform elementwise comparison\n",
      "  mask |= (ar1 == a)\n"
     ]
    },
    {
     "name": "stdout",
     "output_type": "stream",
     "text": [
      "131.4666609764099\n"
     ]
    }
   ],
   "source": [
    "start = time()\n",
    "df_train = pd.read_csv('data/train.csv',index_col=0)\n",
    "df_test = pd.read_csv('data/test.csv',index_col=0)\n",
    "print(time()-start)"
   ]
  },
  {
   "cell_type": "code",
   "execution_count": 5,
   "metadata": {},
   "outputs": [
    {
     "name": "stdout",
     "output_type": "stream",
     "text": [
      "train: 684502\n",
      "test: 2029107\n"
     ]
    }
   ],
   "source": [
    "print('train:', df_train.shape[0])\n",
    "print('test:', df_test.shape[0])"
   ]
  },
  {
   "cell_type": "code",
   "execution_count": 6,
   "metadata": {},
   "outputs": [
    {
     "data": {
      "text/html": [
       "<div>\n",
       "<style scoped>\n",
       "    .dataframe tbody tr th:only-of-type {\n",
       "        vertical-align: middle;\n",
       "    }\n",
       "\n",
       "    .dataframe tbody tr th {\n",
       "        vertical-align: top;\n",
       "    }\n",
       "\n",
       "    .dataframe thead th {\n",
       "        text-align: right;\n",
       "    }\n",
       "</style>\n",
       "<table border=\"1\" class=\"dataframe\">\n",
       "  <thead>\n",
       "    <tr style=\"text-align: right;\">\n",
       "      <th></th>\n",
       "      <th>user_id</th>\n",
       "      <th>click_article_id</th>\n",
       "      <th>env_device</th>\n",
       "      <th>0</th>\n",
       "      <th>1</th>\n",
       "      <th>2</th>\n",
       "      <th>3</th>\n",
       "      <th>4</th>\n",
       "      <th>5</th>\n",
       "      <th>6</th>\n",
       "      <th>...</th>\n",
       "      <th>240</th>\n",
       "      <th>241</th>\n",
       "      <th>242</th>\n",
       "      <th>243</th>\n",
       "      <th>244</th>\n",
       "      <th>245</th>\n",
       "      <th>246</th>\n",
       "      <th>247</th>\n",
       "      <th>248</th>\n",
       "      <th>249</th>\n",
       "    </tr>\n",
       "  </thead>\n",
       "  <tbody>\n",
       "    <tr>\n",
       "      <th>0</th>\n",
       "      <td>1</td>\n",
       "      <td>285719</td>\n",
       "      <td>env:4 device:1</td>\n",
       "      <td>-0.118549</td>\n",
       "      <td>-0.957376</td>\n",
       "      <td>-0.751805</td>\n",
       "      <td>-0.566605</td>\n",
       "      <td>-0.899491</td>\n",
       "      <td>-0.510777</td>\n",
       "      <td>0.510855</td>\n",
       "      <td>...</td>\n",
       "      <td>-0.274394</td>\n",
       "      <td>-0.054381</td>\n",
       "      <td>0.341704</td>\n",
       "      <td>-0.395201</td>\n",
       "      <td>0.378282</td>\n",
       "      <td>0.416298</td>\n",
       "      <td>-0.478623</td>\n",
       "      <td>0.912017</td>\n",
       "      <td>0.101685</td>\n",
       "      <td>0.660538</td>\n",
       "    </tr>\n",
       "    <tr>\n",
       "      <th>1</th>\n",
       "      <td>1</td>\n",
       "      <td>234481</td>\n",
       "      <td>env:4 device:1</td>\n",
       "      <td>-0.744894</td>\n",
       "      <td>-0.975940</td>\n",
       "      <td>-0.101474</td>\n",
       "      <td>-0.620068</td>\n",
       "      <td>0.516190</td>\n",
       "      <td>-0.695848</td>\n",
       "      <td>-0.850939</td>\n",
       "      <td>...</td>\n",
       "      <td>-0.327291</td>\n",
       "      <td>-0.009473</td>\n",
       "      <td>0.469663</td>\n",
       "      <td>-0.734911</td>\n",
       "      <td>-0.070421</td>\n",
       "      <td>-0.457637</td>\n",
       "      <td>0.518804</td>\n",
       "      <td>0.576141</td>\n",
       "      <td>0.763434</td>\n",
       "      <td>0.224886</td>\n",
       "    </tr>\n",
       "    <tr>\n",
       "      <th>2</th>\n",
       "      <td>1</td>\n",
       "      <td>235840</td>\n",
       "      <td>env:4 device:1</td>\n",
       "      <td>-0.168369</td>\n",
       "      <td>-0.967274</td>\n",
       "      <td>0.226036</td>\n",
       "      <td>0.145089</td>\n",
       "      <td>-0.417114</td>\n",
       "      <td>-0.693828</td>\n",
       "      <td>-0.741834</td>\n",
       "      <td>...</td>\n",
       "      <td>-0.010313</td>\n",
       "      <td>-0.422416</td>\n",
       "      <td>0.372931</td>\n",
       "      <td>-0.540084</td>\n",
       "      <td>0.242361</td>\n",
       "      <td>0.616011</td>\n",
       "      <td>0.704936</td>\n",
       "      <td>0.571687</td>\n",
       "      <td>0.545211</td>\n",
       "      <td>0.650550</td>\n",
       "    </tr>\n",
       "    <tr>\n",
       "      <th>3</th>\n",
       "      <td>1</td>\n",
       "      <td>283392</td>\n",
       "      <td>env:4 device:1</td>\n",
       "      <td>-0.248988</td>\n",
       "      <td>-0.976156</td>\n",
       "      <td>-0.069826</td>\n",
       "      <td>-0.692906</td>\n",
       "      <td>-0.695744</td>\n",
       "      <td>-0.703383</td>\n",
       "      <td>0.930634</td>\n",
       "      <td>...</td>\n",
       "      <td>0.224778</td>\n",
       "      <td>-0.870308</td>\n",
       "      <td>-0.753590</td>\n",
       "      <td>0.024811</td>\n",
       "      <td>0.536427</td>\n",
       "      <td>0.130145</td>\n",
       "      <td>-0.276387</td>\n",
       "      <td>0.464620</td>\n",
       "      <td>0.129086</td>\n",
       "      <td>0.382053</td>\n",
       "    </tr>\n",
       "    <tr>\n",
       "      <th>4</th>\n",
       "      <td>1</td>\n",
       "      <td>36162</td>\n",
       "      <td>env:4 device:1</td>\n",
       "      <td>0.394471</td>\n",
       "      <td>-0.954570</td>\n",
       "      <td>-0.126430</td>\n",
       "      <td>-0.031528</td>\n",
       "      <td>-0.202543</td>\n",
       "      <td>0.325258</td>\n",
       "      <td>-0.426356</td>\n",
       "      <td>...</td>\n",
       "      <td>0.121050</td>\n",
       "      <td>0.351851</td>\n",
       "      <td>-0.324864</td>\n",
       "      <td>-0.497410</td>\n",
       "      <td>0.602626</td>\n",
       "      <td>-0.189069</td>\n",
       "      <td>0.012937</td>\n",
       "      <td>0.401118</td>\n",
       "      <td>-0.050076</td>\n",
       "      <td>0.182424</td>\n",
       "    </tr>\n",
       "  </tbody>\n",
       "</table>\n",
       "<p>5 rows × 253 columns</p>\n",
       "</div>"
      ],
      "text/plain": [
       "   user_id  click_article_id      env_device         0         1         2  \\\n",
       "0        1            285719  env:4 device:1 -0.118549 -0.957376 -0.751805   \n",
       "1        1            234481  env:4 device:1 -0.744894 -0.975940 -0.101474   \n",
       "2        1            235840  env:4 device:1 -0.168369 -0.967274  0.226036   \n",
       "3        1            283392  env:4 device:1 -0.248988 -0.976156 -0.069826   \n",
       "4        1             36162  env:4 device:1  0.394471 -0.954570 -0.126430   \n",
       "\n",
       "          3         4         5         6  ...       240       241       242  \\\n",
       "0 -0.566605 -0.899491 -0.510777  0.510855  ... -0.274394 -0.054381  0.341704   \n",
       "1 -0.620068  0.516190 -0.695848 -0.850939  ... -0.327291 -0.009473  0.469663   \n",
       "2  0.145089 -0.417114 -0.693828 -0.741834  ... -0.010313 -0.422416  0.372931   \n",
       "3 -0.692906 -0.695744 -0.703383  0.930634  ...  0.224778 -0.870308 -0.753590   \n",
       "4 -0.031528 -0.202543  0.325258 -0.426356  ...  0.121050  0.351851 -0.324864   \n",
       "\n",
       "        243       244       245       246       247       248       249  \n",
       "0 -0.395201  0.378282  0.416298 -0.478623  0.912017  0.101685  0.660538  \n",
       "1 -0.734911 -0.070421 -0.457637  0.518804  0.576141  0.763434  0.224886  \n",
       "2 -0.540084  0.242361  0.616011  0.704936  0.571687  0.545211  0.650550  \n",
       "3  0.024811  0.536427  0.130145 -0.276387  0.464620  0.129086  0.382053  \n",
       "4 -0.497410  0.602626 -0.189069  0.012937  0.401118 -0.050076  0.182424  \n",
       "\n",
       "[5 rows x 253 columns]"
      ]
     },
     "execution_count": 6,
     "metadata": {},
     "output_type": "execute_result"
    }
   ],
   "source": [
    "df_train.head()"
   ]
  },
  {
   "cell_type": "code",
   "execution_count": 255,
   "metadata": {},
   "outputs": [],
   "source": [
    "# need to append unread articles to training set somehow...\n",
    "\n",
    "# use embeddings data already provided"
   ]
  },
  {
   "cell_type": "markdown",
   "metadata": {},
   "source": [
    "# Model 1: User Latent Vectors"
   ]
  },
  {
   "cell_type": "markdown",
   "metadata": {},
   "source": [
    "## 1a: Generate Basic User Embeddings"
   ]
  },
  {
   "cell_type": "code",
   "execution_count": 9,
   "metadata": {},
   "outputs": [
    {
     "name": "stdout",
     "output_type": "stream",
     "text": [
      "3.1720268726348877\n"
     ]
    }
   ],
   "source": [
    "start = time()\n",
    "user_embeddings = df_train.drop(columns=['click_article_id','env_device'],axis=1).groupby('user_id').mean()\n",
    "print(time()-start)"
   ]
  },
  {
   "cell_type": "code",
   "execution_count": 10,
   "metadata": {},
   "outputs": [
    {
     "data": {
      "text/html": [
       "<div>\n",
       "<style scoped>\n",
       "    .dataframe tbody tr th:only-of-type {\n",
       "        vertical-align: middle;\n",
       "    }\n",
       "\n",
       "    .dataframe tbody tr th {\n",
       "        vertical-align: top;\n",
       "    }\n",
       "\n",
       "    .dataframe thead th {\n",
       "        text-align: right;\n",
       "    }\n",
       "</style>\n",
       "<table border=\"1\" class=\"dataframe\">\n",
       "  <thead>\n",
       "    <tr style=\"text-align: right;\">\n",
       "      <th></th>\n",
       "      <th>0</th>\n",
       "      <th>1</th>\n",
       "      <th>2</th>\n",
       "      <th>3</th>\n",
       "      <th>4</th>\n",
       "      <th>5</th>\n",
       "      <th>6</th>\n",
       "      <th>7</th>\n",
       "      <th>8</th>\n",
       "      <th>9</th>\n",
       "      <th>...</th>\n",
       "      <th>240</th>\n",
       "      <th>241</th>\n",
       "      <th>242</th>\n",
       "      <th>243</th>\n",
       "      <th>244</th>\n",
       "      <th>245</th>\n",
       "      <th>246</th>\n",
       "      <th>247</th>\n",
       "      <th>248</th>\n",
       "      <th>249</th>\n",
       "    </tr>\n",
       "    <tr>\n",
       "      <th>user_id</th>\n",
       "      <th></th>\n",
       "      <th></th>\n",
       "      <th></th>\n",
       "      <th></th>\n",
       "      <th></th>\n",
       "      <th></th>\n",
       "      <th></th>\n",
       "      <th></th>\n",
       "      <th></th>\n",
       "      <th></th>\n",
       "      <th></th>\n",
       "      <th></th>\n",
       "      <th></th>\n",
       "      <th></th>\n",
       "      <th></th>\n",
       "      <th></th>\n",
       "      <th></th>\n",
       "      <th></th>\n",
       "      <th></th>\n",
       "      <th></th>\n",
       "      <th></th>\n",
       "    </tr>\n",
       "  </thead>\n",
       "  <tbody>\n",
       "    <tr>\n",
       "      <th>1</th>\n",
       "      <td>-0.268243</td>\n",
       "      <td>-0.963677</td>\n",
       "      <td>-0.285129</td>\n",
       "      <td>-0.325967</td>\n",
       "      <td>-0.343103</td>\n",
       "      <td>-0.265541</td>\n",
       "      <td>-0.255980</td>\n",
       "      <td>0.023301</td>\n",
       "      <td>0.221150</td>\n",
       "      <td>-0.155244</td>\n",
       "      <td>...</td>\n",
       "      <td>-0.086365</td>\n",
       "      <td>-0.174222</td>\n",
       "      <td>-0.104718</td>\n",
       "      <td>-0.341327</td>\n",
       "      <td>0.248698</td>\n",
       "      <td>0.103690</td>\n",
       "      <td>-0.111106</td>\n",
       "      <td>0.281490</td>\n",
       "      <td>0.182084</td>\n",
       "      <td>0.346182</td>\n",
       "    </tr>\n",
       "    <tr>\n",
       "      <th>3</th>\n",
       "      <td>-0.524615</td>\n",
       "      <td>-0.962642</td>\n",
       "      <td>-0.308300</td>\n",
       "      <td>-0.318949</td>\n",
       "      <td>-0.041010</td>\n",
       "      <td>-0.378690</td>\n",
       "      <td>-0.481024</td>\n",
       "      <td>-0.120330</td>\n",
       "      <td>0.091089</td>\n",
       "      <td>-0.194023</td>\n",
       "      <td>...</td>\n",
       "      <td>-0.067039</td>\n",
       "      <td>-0.039297</td>\n",
       "      <td>0.080214</td>\n",
       "      <td>-0.538102</td>\n",
       "      <td>0.014051</td>\n",
       "      <td>0.160522</td>\n",
       "      <td>-0.043994</td>\n",
       "      <td>0.245872</td>\n",
       "      <td>0.480289</td>\n",
       "      <td>0.132180</td>\n",
       "    </tr>\n",
       "    <tr>\n",
       "      <th>5</th>\n",
       "      <td>-0.059178</td>\n",
       "      <td>-0.962682</td>\n",
       "      <td>0.113817</td>\n",
       "      <td>-0.133192</td>\n",
       "      <td>-0.259398</td>\n",
       "      <td>0.082888</td>\n",
       "      <td>-0.135339</td>\n",
       "      <td>0.003867</td>\n",
       "      <td>0.234593</td>\n",
       "      <td>-0.147918</td>\n",
       "      <td>...</td>\n",
       "      <td>-0.088267</td>\n",
       "      <td>-0.106871</td>\n",
       "      <td>-0.149357</td>\n",
       "      <td>0.090597</td>\n",
       "      <td>0.247770</td>\n",
       "      <td>-0.186963</td>\n",
       "      <td>0.229703</td>\n",
       "      <td>0.311521</td>\n",
       "      <td>0.101328</td>\n",
       "      <td>0.231018</td>\n",
       "    </tr>\n",
       "    <tr>\n",
       "      <th>6</th>\n",
       "      <td>-0.214457</td>\n",
       "      <td>-0.963717</td>\n",
       "      <td>-0.201584</td>\n",
       "      <td>0.142360</td>\n",
       "      <td>-0.494981</td>\n",
       "      <td>-0.360691</td>\n",
       "      <td>-0.478616</td>\n",
       "      <td>0.131421</td>\n",
       "      <td>0.023279</td>\n",
       "      <td>-0.023747</td>\n",
       "      <td>...</td>\n",
       "      <td>-0.042374</td>\n",
       "      <td>0.162305</td>\n",
       "      <td>0.027745</td>\n",
       "      <td>-0.377227</td>\n",
       "      <td>0.414735</td>\n",
       "      <td>0.287469</td>\n",
       "      <td>-0.328323</td>\n",
       "      <td>0.398101</td>\n",
       "      <td>-0.082419</td>\n",
       "      <td>0.103499</td>\n",
       "    </tr>\n",
       "    <tr>\n",
       "      <th>7</th>\n",
       "      <td>0.055987</td>\n",
       "      <td>-0.963339</td>\n",
       "      <td>-0.350364</td>\n",
       "      <td>-0.124132</td>\n",
       "      <td>-0.272336</td>\n",
       "      <td>-0.182814</td>\n",
       "      <td>-0.060221</td>\n",
       "      <td>0.197762</td>\n",
       "      <td>0.142060</td>\n",
       "      <td>0.104627</td>\n",
       "      <td>...</td>\n",
       "      <td>0.267406</td>\n",
       "      <td>-0.076521</td>\n",
       "      <td>-0.588011</td>\n",
       "      <td>-0.162770</td>\n",
       "      <td>0.336379</td>\n",
       "      <td>0.104249</td>\n",
       "      <td>-0.030370</td>\n",
       "      <td>-0.161626</td>\n",
       "      <td>0.349620</td>\n",
       "      <td>0.334192</td>\n",
       "    </tr>\n",
       "  </tbody>\n",
       "</table>\n",
       "<p>5 rows × 250 columns</p>\n",
       "</div>"
      ],
      "text/plain": [
       "                0         1         2         3         4         5         6  \\\n",
       "user_id                                                                         \n",
       "1       -0.268243 -0.963677 -0.285129 -0.325967 -0.343103 -0.265541 -0.255980   \n",
       "3       -0.524615 -0.962642 -0.308300 -0.318949 -0.041010 -0.378690 -0.481024   \n",
       "5       -0.059178 -0.962682  0.113817 -0.133192 -0.259398  0.082888 -0.135339   \n",
       "6       -0.214457 -0.963717 -0.201584  0.142360 -0.494981 -0.360691 -0.478616   \n",
       "7        0.055987 -0.963339 -0.350364 -0.124132 -0.272336 -0.182814 -0.060221   \n",
       "\n",
       "                7         8         9  ...       240       241       242  \\\n",
       "user_id                                ...                                 \n",
       "1        0.023301  0.221150 -0.155244  ... -0.086365 -0.174222 -0.104718   \n",
       "3       -0.120330  0.091089 -0.194023  ... -0.067039 -0.039297  0.080214   \n",
       "5        0.003867  0.234593 -0.147918  ... -0.088267 -0.106871 -0.149357   \n",
       "6        0.131421  0.023279 -0.023747  ... -0.042374  0.162305  0.027745   \n",
       "7        0.197762  0.142060  0.104627  ...  0.267406 -0.076521 -0.588011   \n",
       "\n",
       "              243       244       245       246       247       248       249  \n",
       "user_id                                                                        \n",
       "1       -0.341327  0.248698  0.103690 -0.111106  0.281490  0.182084  0.346182  \n",
       "3       -0.538102  0.014051  0.160522 -0.043994  0.245872  0.480289  0.132180  \n",
       "5        0.090597  0.247770 -0.186963  0.229703  0.311521  0.101328  0.231018  \n",
       "6       -0.377227  0.414735  0.287469 -0.328323  0.398101 -0.082419  0.103499  \n",
       "7       -0.162770  0.336379  0.104249 -0.030370 -0.161626  0.349620  0.334192  \n",
       "\n",
       "[5 rows x 250 columns]"
      ]
     },
     "execution_count": 10,
     "metadata": {},
     "output_type": "execute_result"
    }
   ],
   "source": [
    "user_embeddings.head()"
   ]
  },
  {
   "cell_type": "markdown",
   "metadata": {},
   "source": [
    "## 1b: Optimize User Embeddings with SGD\n",
    "\n",
    "Note that simultaneous optimization of user and item embeddings, _U_ and _V_, with MapReduce is ideal for scalability, but is unnecessary since we're starting with document vectors already.\n",
    "\n",
    "- Maximize Dot Product of User Embedding with Relevant Articles\n",
    "- Minimize Dot Product of User Embedding with Random Articles"
   ]
  },
  {
   "cell_type": "code",
   "execution_count": 20,
   "metadata": {},
   "outputs": [
    {
     "data": {
      "text/plain": [
       "(364047, 250)"
      ]
     },
     "execution_count": 20,
     "metadata": {},
     "output_type": "execute_result"
    }
   ],
   "source": [
    "embeddings.shape"
   ]
  },
  {
   "cell_type": "code",
   "execution_count": 14,
   "metadata": {},
   "outputs": [],
   "source": [
    "def get_user_article_ids(u,df):\n",
    "    return np.array(df.loc[df.user_id==u].click_article_id)"
   ]
  },
  {
   "cell_type": "code",
   "execution_count": 55,
   "metadata": {},
   "outputs": [],
   "source": [
    "def get_random_V_d_bar(u,df,embeddings):\n",
    "    #returns a random article embedding not chosen by given user (used for SGD)\n",
    "    return embeddings[np.random.choice(\n",
    "        np.delete(\n",
    "            np.arange(embeddings.shape[0]),\n",
    "            get_user_article_ids(u,df)\n",
    "        )\n",
    "    )]"
   ]
  },
  {
   "cell_type": "code",
   "execution_count": 46,
   "metadata": {},
   "outputs": [
    {
     "data": {
      "text/plain": [
       "array([237822, 124177, 140720, 331225, 166621, 332114, 108854, 337143])"
      ]
     },
     "execution_count": 46,
     "metadata": {},
     "output_type": "execute_result"
    }
   ],
   "source": [
    "get_user_article_ids(100,df_train)"
   ]
  },
  {
   "cell_type": "code",
   "execution_count": 54,
   "metadata": {},
   "outputs": [
    {
     "data": {
      "text/plain": [
       "array([ 0.2856203 , -0.960444  ,  0.43218547, -0.7208655 ,  0.02781178,\n",
       "        0.05319243, -0.28404325, -0.5076617 ,  0.06404305,  0.12175658],\n",
       "      dtype=float32)"
      ]
     },
     "execution_count": 54,
     "metadata": {},
     "output_type": "execute_result"
    }
   ],
   "source": [
    "get_random_V_d_bar(100,df_train,embeddings)[0:10]"
   ]
  },
  {
   "cell_type": "code",
   "execution_count": 11,
   "metadata": {},
   "outputs": [
    {
     "data": {
      "text/html": [
       "<div>\n",
       "<style scoped>\n",
       "    .dataframe tbody tr th:only-of-type {\n",
       "        vertical-align: middle;\n",
       "    }\n",
       "\n",
       "    .dataframe tbody tr th {\n",
       "        vertical-align: top;\n",
       "    }\n",
       "\n",
       "    .dataframe thead th {\n",
       "        text-align: right;\n",
       "    }\n",
       "</style>\n",
       "<table border=\"1\" class=\"dataframe\">\n",
       "  <thead>\n",
       "    <tr style=\"text-align: right;\">\n",
       "      <th></th>\n",
       "      <th>user_id</th>\n",
       "      <th>click_article_id</th>\n",
       "      <th>env_device</th>\n",
       "      <th>0</th>\n",
       "      <th>1</th>\n",
       "      <th>2</th>\n",
       "      <th>3</th>\n",
       "      <th>4</th>\n",
       "      <th>5</th>\n",
       "      <th>6</th>\n",
       "      <th>...</th>\n",
       "      <th>240</th>\n",
       "      <th>241</th>\n",
       "      <th>242</th>\n",
       "      <th>243</th>\n",
       "      <th>244</th>\n",
       "      <th>245</th>\n",
       "      <th>246</th>\n",
       "      <th>247</th>\n",
       "      <th>248</th>\n",
       "      <th>249</th>\n",
       "    </tr>\n",
       "  </thead>\n",
       "  <tbody>\n",
       "    <tr>\n",
       "      <th>0</th>\n",
       "      <td>1</td>\n",
       "      <td>285719</td>\n",
       "      <td>env:4 device:1</td>\n",
       "      <td>-0.118549</td>\n",
       "      <td>-0.957376</td>\n",
       "      <td>-0.751805</td>\n",
       "      <td>-0.566605</td>\n",
       "      <td>-0.899491</td>\n",
       "      <td>-0.510777</td>\n",
       "      <td>0.510855</td>\n",
       "      <td>...</td>\n",
       "      <td>-0.274394</td>\n",
       "      <td>-0.054381</td>\n",
       "      <td>0.341704</td>\n",
       "      <td>-0.395201</td>\n",
       "      <td>0.378282</td>\n",
       "      <td>0.416298</td>\n",
       "      <td>-0.478623</td>\n",
       "      <td>0.912017</td>\n",
       "      <td>0.101685</td>\n",
       "      <td>0.660538</td>\n",
       "    </tr>\n",
       "    <tr>\n",
       "      <th>1</th>\n",
       "      <td>1</td>\n",
       "      <td>234481</td>\n",
       "      <td>env:4 device:1</td>\n",
       "      <td>-0.744894</td>\n",
       "      <td>-0.975940</td>\n",
       "      <td>-0.101474</td>\n",
       "      <td>-0.620068</td>\n",
       "      <td>0.516190</td>\n",
       "      <td>-0.695848</td>\n",
       "      <td>-0.850939</td>\n",
       "      <td>...</td>\n",
       "      <td>-0.327291</td>\n",
       "      <td>-0.009473</td>\n",
       "      <td>0.469663</td>\n",
       "      <td>-0.734911</td>\n",
       "      <td>-0.070421</td>\n",
       "      <td>-0.457637</td>\n",
       "      <td>0.518804</td>\n",
       "      <td>0.576141</td>\n",
       "      <td>0.763434</td>\n",
       "      <td>0.224886</td>\n",
       "    </tr>\n",
       "    <tr>\n",
       "      <th>2</th>\n",
       "      <td>1</td>\n",
       "      <td>235840</td>\n",
       "      <td>env:4 device:1</td>\n",
       "      <td>-0.168369</td>\n",
       "      <td>-0.967274</td>\n",
       "      <td>0.226036</td>\n",
       "      <td>0.145089</td>\n",
       "      <td>-0.417114</td>\n",
       "      <td>-0.693828</td>\n",
       "      <td>-0.741834</td>\n",
       "      <td>...</td>\n",
       "      <td>-0.010313</td>\n",
       "      <td>-0.422416</td>\n",
       "      <td>0.372931</td>\n",
       "      <td>-0.540084</td>\n",
       "      <td>0.242361</td>\n",
       "      <td>0.616011</td>\n",
       "      <td>0.704936</td>\n",
       "      <td>0.571687</td>\n",
       "      <td>0.545211</td>\n",
       "      <td>0.650550</td>\n",
       "    </tr>\n",
       "    <tr>\n",
       "      <th>3</th>\n",
       "      <td>1</td>\n",
       "      <td>283392</td>\n",
       "      <td>env:4 device:1</td>\n",
       "      <td>-0.248988</td>\n",
       "      <td>-0.976156</td>\n",
       "      <td>-0.069826</td>\n",
       "      <td>-0.692906</td>\n",
       "      <td>-0.695744</td>\n",
       "      <td>-0.703383</td>\n",
       "      <td>0.930634</td>\n",
       "      <td>...</td>\n",
       "      <td>0.224778</td>\n",
       "      <td>-0.870308</td>\n",
       "      <td>-0.753590</td>\n",
       "      <td>0.024811</td>\n",
       "      <td>0.536427</td>\n",
       "      <td>0.130145</td>\n",
       "      <td>-0.276387</td>\n",
       "      <td>0.464620</td>\n",
       "      <td>0.129086</td>\n",
       "      <td>0.382053</td>\n",
       "    </tr>\n",
       "    <tr>\n",
       "      <th>4</th>\n",
       "      <td>1</td>\n",
       "      <td>36162</td>\n",
       "      <td>env:4 device:1</td>\n",
       "      <td>0.394471</td>\n",
       "      <td>-0.954570</td>\n",
       "      <td>-0.126430</td>\n",
       "      <td>-0.031528</td>\n",
       "      <td>-0.202543</td>\n",
       "      <td>0.325258</td>\n",
       "      <td>-0.426356</td>\n",
       "      <td>...</td>\n",
       "      <td>0.121050</td>\n",
       "      <td>0.351851</td>\n",
       "      <td>-0.324864</td>\n",
       "      <td>-0.497410</td>\n",
       "      <td>0.602626</td>\n",
       "      <td>-0.189069</td>\n",
       "      <td>0.012937</td>\n",
       "      <td>0.401118</td>\n",
       "      <td>-0.050076</td>\n",
       "      <td>0.182424</td>\n",
       "    </tr>\n",
       "  </tbody>\n",
       "</table>\n",
       "<p>5 rows × 253 columns</p>\n",
       "</div>"
      ],
      "text/plain": [
       "   user_id  click_article_id      env_device         0         1         2  \\\n",
       "0        1            285719  env:4 device:1 -0.118549 -0.957376 -0.751805   \n",
       "1        1            234481  env:4 device:1 -0.744894 -0.975940 -0.101474   \n",
       "2        1            235840  env:4 device:1 -0.168369 -0.967274  0.226036   \n",
       "3        1            283392  env:4 device:1 -0.248988 -0.976156 -0.069826   \n",
       "4        1             36162  env:4 device:1  0.394471 -0.954570 -0.126430   \n",
       "\n",
       "          3         4         5         6  ...       240       241       242  \\\n",
       "0 -0.566605 -0.899491 -0.510777  0.510855  ... -0.274394 -0.054381  0.341704   \n",
       "1 -0.620068  0.516190 -0.695848 -0.850939  ... -0.327291 -0.009473  0.469663   \n",
       "2  0.145089 -0.417114 -0.693828 -0.741834  ... -0.010313 -0.422416  0.372931   \n",
       "3 -0.692906 -0.695744 -0.703383  0.930634  ...  0.224778 -0.870308 -0.753590   \n",
       "4 -0.031528 -0.202543  0.325258 -0.426356  ...  0.121050  0.351851 -0.324864   \n",
       "\n",
       "        243       244       245       246       247       248       249  \n",
       "0 -0.395201  0.378282  0.416298 -0.478623  0.912017  0.101685  0.660538  \n",
       "1 -0.734911 -0.070421 -0.457637  0.518804  0.576141  0.763434  0.224886  \n",
       "2 -0.540084  0.242361  0.616011  0.704936  0.571687  0.545211  0.650550  \n",
       "3  0.024811  0.536427  0.130145 -0.276387  0.464620  0.129086  0.382053  \n",
       "4 -0.497410  0.602626 -0.189069  0.012937  0.401118 -0.050076  0.182424  \n",
       "\n",
       "[5 rows x 253 columns]"
      ]
     },
     "execution_count": 11,
     "metadata": {},
     "output_type": "execute_result"
    }
   ],
   "source": [
    "df_train.head()"
   ]
  },
  {
   "cell_type": "markdown",
   "metadata": {},
   "source": [
    "# TO DO\n",
    "- you MUST keep the click article ids"
   ]
  },
  {
   "cell_type": "code",
   "execution_count": null,
   "metadata": {},
   "outputs": [],
   "source": [
    "def "
   ]
  },
  {
   "cell_type": "code",
   "execution_count": null,
   "metadata": {},
   "outputs": [],
   "source": []
  },
  {
   "cell_type": "code",
   "execution_count": null,
   "metadata": {},
   "outputs": [],
   "source": []
  },
  {
   "cell_type": "code",
   "execution_count": null,
   "metadata": {},
   "outputs": [],
   "source": []
  },
  {
   "cell_type": "code",
   "execution_count": 172,
   "metadata": {},
   "outputs": [],
   "source": [
    "df_train_reindex = df_train.set_index(['user_id',df_train.index])"
   ]
  },
  {
   "cell_type": "code",
   "execution_count": 167,
   "metadata": {},
   "outputs": [
    {
     "data": {
      "text/html": [
       "<div>\n",
       "<style scoped>\n",
       "    .dataframe tbody tr th:only-of-type {\n",
       "        vertical-align: middle;\n",
       "    }\n",
       "\n",
       "    .dataframe tbody tr th {\n",
       "        vertical-align: top;\n",
       "    }\n",
       "\n",
       "    .dataframe thead th {\n",
       "        text-align: right;\n",
       "    }\n",
       "</style>\n",
       "<table border=\"1\" class=\"dataframe\">\n",
       "  <thead>\n",
       "    <tr style=\"text-align: right;\">\n",
       "      <th></th>\n",
       "      <th></th>\n",
       "      <th>click_article_id</th>\n",
       "      <th>env_device</th>\n",
       "    </tr>\n",
       "    <tr>\n",
       "      <th>user_id</th>\n",
       "      <th></th>\n",
       "      <th></th>\n",
       "      <th></th>\n",
       "    </tr>\n",
       "  </thead>\n",
       "  <tbody>\n",
       "    <tr>\n",
       "      <th rowspan=\"5\" valign=\"top\">1</th>\n",
       "      <th>0</th>\n",
       "      <td>285719</td>\n",
       "      <td>env:4 device:1</td>\n",
       "    </tr>\n",
       "    <tr>\n",
       "      <th>1</th>\n",
       "      <td>59758</td>\n",
       "      <td>env:4 device:1</td>\n",
       "    </tr>\n",
       "    <tr>\n",
       "      <th>2</th>\n",
       "      <td>283392</td>\n",
       "      <td>env:4 device:1</td>\n",
       "    </tr>\n",
       "    <tr>\n",
       "      <th>3</th>\n",
       "      <td>160474</td>\n",
       "      <td>env:4 device:1</td>\n",
       "    </tr>\n",
       "    <tr>\n",
       "      <th>4</th>\n",
       "      <td>36162</td>\n",
       "      <td>env:4 device:1</td>\n",
       "    </tr>\n",
       "  </tbody>\n",
       "</table>\n",
       "</div>"
      ],
      "text/plain": [
       "          click_article_id      env_device\n",
       "user_id                                   \n",
       "1       0           285719  env:4 device:1\n",
       "        1            59758  env:4 device:1\n",
       "        2           283392  env:4 device:1\n",
       "        3           160474  env:4 device:1\n",
       "        4            36162  env:4 device:1"
      ]
     },
     "execution_count": 167,
     "metadata": {},
     "output_type": "execute_result"
    }
   ],
   "source": [
    "df_train_reindex.head()"
   ]
  },
  {
   "cell_type": "markdown",
   "metadata": {},
   "source": [
    "# Model 2: Multiple User Latent Vectors"
   ]
  },
  {
   "cell_type": "markdown",
   "metadata": {},
   "source": [
    "### Part 0: Clustering The Corpus"
   ]
  },
  {
   "cell_type": "code",
   "execution_count": 11,
   "metadata": {},
   "outputs": [],
   "source": [
    "def fit_kmeans(X,range_,ratio):\n",
    "    distortions = []\n",
    "    silhouettes = []\n",
    "    for n_clusters in tqdm(range_):\n",
    "        km = KMeans(\n",
    "                n_clusters=n_clusters,\n",
    "                init='k-means++',\n",
    "                max_iter=300,\n",
    "                algorithm='elkan',\n",
    "                random_state=0,\n",
    "            )\n",
    "        \n",
    "        sample = X[np.random.randint(\n",
    "                    X.shape[0],\n",
    "                    size=int(X.shape[0]*ratio)\n",
    "                ), :]\n",
    "        \n",
    "        km.fit_predict(sample)\n",
    "        \n",
    "        distortions.append(\n",
    "           km.inertia_\n",
    "        )\n",
    "        silhouettes.append(\n",
    "            metrics.silhouette_score(sample, km.labels_)\n",
    "        )\n",
    "    #distortions\n",
    "    plt.plot(range_, distortions, marker='o')\n",
    "    plt.xlabel('Number of Clusters')\n",
    "    plt.ylabel('Distortion')\n",
    "    plt.show()\n",
    "    #silhouettes\n",
    "    plt.plot(range_, silhouettes, marker='o')\n",
    "    plt.xlabel('Number of Clusters')\n",
    "    plt.ylabel('Silhouette Score')\n",
    "    plt.show()\n",
    "    \n",
    "def fit_hac(X,range_,ratio):\n",
    "    for n_clusters in tqdm(range_):\n",
    "        hac = AgglomerativeClustering(\n",
    "            n_clusters=n_clusters,\n",
    "            affinity='euclidean',\n",
    "            linkage='single'\n",
    "        ).fit(X)\n",
    "        \n",
    "        sample = X[np.random.randint(\n",
    "                    X.shape[0],\n",
    "                    size=int(X.shape[0]*ratio)\n",
    "                ), :]\n",
    "        \n",
    "        hac.fit_predict(sample)\n",
    "\n",
    "        plot_dendgrogram(hac)\n",
    "    \n",
    "\n",
    "def plot_dendrogram(model, **kwargs):\n",
    "    # Create linkage matrix and then plot the dendrogram\n",
    "\n",
    "    # create the counts of samples under each node\n",
    "    counts = np.zeros(model.children_.shape[0])\n",
    "    n_samples = len(model.labels_)\n",
    "    for i, merge in enumerate(model.children_):\n",
    "        current_count = 0\n",
    "        for child_idx in merge:\n",
    "            if child_idx < n_samples:\n",
    "                current_count += 1  # leaf node\n",
    "            else:\n",
    "                current_count += counts[child_idx - n_samples]\n",
    "        counts[i] = current_count\n",
    "\n",
    "    linkage_matrix = np.column_stack([model.children_, model.distances_,\n",
    "                                      counts]).astype(float)\n",
    "\n",
    "    # Plot the corresponding dendrogram\n",
    "    dendrogram(linkage_matrix, **kwargs)"
   ]
  },
  {
   "cell_type": "code",
   "execution_count": 12,
   "metadata": {},
   "outputs": [
    {
     "data": {
      "application/vnd.jupyter.widget-view+json": {
       "model_id": "a9c22a4e908c4b34903589b14f56ef38",
       "version_major": 2,
       "version_minor": 0
      },
      "text/plain": [
       "HBox(children=(FloatProgress(value=0.0, max=33.0), HTML(value='')))"
      ]
     },
     "metadata": {},
     "output_type": "display_data"
    },
    {
     "name": "stdout",
     "output_type": "stream",
     "text": [
      "\n"
     ]
    },
    {
     "data": {
      "image/png": "[encoded data removed]",
      "text/plain": [
       "<Figure size 432x288 with 1 Axes>"
      ]
     },
     "metadata": {
      "needs_background": "light"
     },
     "output_type": "display_data"
    },
    {
     "data": {
      "image/png": "[encoded data removed]",
      "text/plain": [
       "<Figure size 432x288 with 1 Axes>"
      ]
     },
     "metadata": {
      "needs_background": "light"
     },
     "output_type": "display_data"
    }
   ],
   "source": [
    "fit_kmeans(\n",
    "    embeddings,\n",
    "    range(2,35),\n",
    "    0.05\n",
    ")\n",
    "\n",
    "#use elbow method to pick optimal number of clusters"
   ]
  },
  {
   "cell_type": "markdown",
   "metadata": {},
   "source": [
    "### Part 1: User Interest Partition"
   ]
  },
  {
   "cell_type": "code",
   "execution_count": null,
   "metadata": {},
   "outputs": [],
   "source": [
    "# https://www.altoros.com/blog/using-k-means-clustering-in-tensorflow/"
   ]
  },
  {
   "cell_type": "code",
   "execution_count": null,
   "metadata": {},
   "outputs": [],
   "source": []
  },
  {
   "cell_type": "markdown",
   "metadata": {},
   "source": [
    "### Part 2: Modeling"
   ]
  },
  {
   "cell_type": "code",
   "execution_count": null,
   "metadata": {},
   "outputs": [],
   "source": []
  },
  {
   "cell_type": "markdown",
   "metadata": {},
   "source": [
    "# Model 3: Nonlinear Latent Factorization with One-Pass Clustering\n",
    "Article: https://www.researchgate.net/profile/Doreen_Cheng2/publication/266887747_Situation-aware_User_Interest_Mining_on_Mobile_Handheld_Devices/links/546e31b80cf2b5fc17606f8c.pdf"
   ]
  },
  {
   "cell_type": "code",
   "execution_count": null,
   "metadata": {},
   "outputs": [],
   "source": []
  },
  {
   "cell_type": "markdown",
   "metadata": {},
   "source": [
    "# Model 4: Hyperplane Separation"
   ]
  },
  {
   "cell_type": "markdown",
   "metadata": {},
   "source": [
    "Generate User SVC weight matricies instead of embeddings"
   ]
  },
  {
   "cell_type": "code",
   "execution_count": null,
   "metadata": {},
   "outputs": [],
   "source": [
    "# Tensorflow SVM Example:\n",
    "import numpy\n",
    "import tensorflow as tf\n",
    "\n",
    "# X - (157, 128) - 157 sets of 128 features\n",
    "# Y - (157) - classifications of the feature sets\n",
    "\n",
    "X = numpy.zeros([157, 128])\n",
    "Y = numpy.zeros([157], dtype=numpy.int32)\n",
    "example_id = numpy.array(['%d' % i for i in range(len(Y))])\n",
    "\n",
    "x_column_name = 'x'\n",
    "example_id_column_name = 'example_id'\n",
    "\n",
    "train_input_fn = tf.estimator.inputs.numpy_input_fn(\n",
    "    x={x_column_name: X, example_id_column_name: example_id},\n",
    "    y=Y,\n",
    "    num_epochs=None,\n",
    "    shuffle=True)\n",
    "\n",
    "svm = tf.contrib.learn.SVM(\n",
    "    example_id_column=example_id_column_name,\n",
    "    feature_columns=(tf.contrib.layers.real_valued_column(\n",
    "        column_name=x_column_name, dimension=128),),\n",
    "    l2_regularization=0.1)\n",
    "\n",
    "svm.fit(input_fn=train_input_fn, steps=10)"
   ]
  }
 ],
 "metadata": {
  "kernelspec": {
   "display_name": "Python 3",
   "language": "python",
   "name": "python3"
  },
  "language_info": {
   "codemirror_mode": {
    "name": "ipython",
    "version": 3
   },
   "file_extension": ".py",
   "mimetype": "text/x-python",
   "name": "python",
   "nbconvert_exporter": "python",
   "pygments_lexer": "ipython3",
   "version": "3.7.4"
  }
 },
 "nbformat": 4,
 "nbformat_minor": 2
}

{
 "cells": [
  {
   "cell_type": "code",
   "execution_count": 6,
   "metadata": {},
   "outputs": [
    {
     "name": "stdout",
     "output_type": "stream",
     "text": [
      "3.7.4 (v3.7.4:e09359112e, Jul  8 2019, 14:54:52) \n",
      "[Clang 6.0 (clang-600.0.57)]\n"
     ]
    }
   ],
   "source": [
    "import sys\n",
    "print(sys.version)"
   ]
  },
  {
   "cell_type": "code",
   "execution_count": 7,
   "metadata": {},
   "outputs": [],
   "source": [
    "import warnings\n",
    "warnings.filterwarnings(\"ignore\")"
   ]
  },
  {
   "cell_type": "code",
   "execution_count": 8,
   "metadata": {},
   "outputs": [],
   "source": [
    "import pandas as pd\n",
    "import numpy as np\n",
    "import pickle\n",
    "from os import listdir\n",
    "import seaborn as sns\n",
    "import matplotlib.pyplot as plt\n",
    "from tqdm.notebook import tqdm\n",
    "#tqdm.pandas()\n",
    "from time import time"
   ]
  },
  {
   "cell_type": "code",
   "execution_count": 9,
   "metadata": {},
   "outputs": [],
   "source": [
    "#read files\n",
    "\n",
    "#description: https://www.kaggle.com/gspmoreira/news-portal-user-interactions-by-globocom\n",
    "\n",
    "articles_metadata = pd.read_csv('data/articles_metadata.csv')\n",
    "clicks_sample = pd.read_csv('data/clicks_sample.csv')\n",
    "\n",
    "\n",
    "with open('data/articles_embeddings.pickle', 'rb') as pickle_file:\n",
    "    embeddings = pickle.load(pickle_file)"
   ]
  },
  {
   "cell_type": "code",
   "execution_count": 5,
   "metadata": {},
   "outputs": [
    {
     "name": "stdout",
     "output_type": "stream",
     "text": [
      "articles_metadata\n"
     ]
    },
    {
     "data": {
      "text/html": [
       "<div>\n",
       "<style scoped>\n",
       "    .dataframe tbody tr th:only-of-type {\n",
       "        vertical-align: middle;\n",
       "    }\n",
       "\n",
       "    .dataframe tbody tr th {\n",
       "        vertical-align: top;\n",
       "    }\n",
       "\n",
       "    .dataframe thead th {\n",
       "        text-align: right;\n",
       "    }\n",
       "</style>\n",
       "<table border=\"1\" class=\"dataframe\">\n",
       "  <thead>\n",
       "    <tr style=\"text-align: right;\">\n",
       "      <th></th>\n",
       "      <th>article_id</th>\n",
       "      <th>category_id</th>\n",
       "      <th>created_at_ts</th>\n",
       "      <th>publisher_id</th>\n",
       "      <th>words_count</th>\n",
       "    </tr>\n",
       "  </thead>\n",
       "  <tbody>\n",
       "    <tr>\n",
       "      <th>0</th>\n",
       "      <td>0</td>\n",
       "      <td>0</td>\n",
       "      <td>1513144419000</td>\n",
       "      <td>0</td>\n",
       "      <td>168</td>\n",
       "    </tr>\n",
       "    <tr>\n",
       "      <th>1</th>\n",
       "      <td>1</td>\n",
       "      <td>1</td>\n",
       "      <td>1405341936000</td>\n",
       "      <td>0</td>\n",
       "      <td>189</td>\n",
       "    </tr>\n",
       "    <tr>\n",
       "      <th>2</th>\n",
       "      <td>2</td>\n",
       "      <td>1</td>\n",
       "      <td>1408667706000</td>\n",
       "      <td>0</td>\n",
       "      <td>250</td>\n",
       "    </tr>\n",
       "    <tr>\n",
       "      <th>3</th>\n",
       "      <td>3</td>\n",
       "      <td>1</td>\n",
       "      <td>1408468313000</td>\n",
       "      <td>0</td>\n",
       "      <td>230</td>\n",
       "    </tr>\n",
       "    <tr>\n",
       "      <th>4</th>\n",
       "      <td>4</td>\n",
       "      <td>1</td>\n",
       "      <td>1407071171000</td>\n",
       "      <td>0</td>\n",
       "      <td>162</td>\n",
       "    </tr>\n",
       "  </tbody>\n",
       "</table>\n",
       "</div>"
      ],
      "text/plain": [
       "   article_id  category_id  created_at_ts  publisher_id  words_count\n",
       "0           0            0  1513144419000             0          168\n",
       "1           1            1  1405341936000             0          189\n",
       "2           2            1  1408667706000             0          250\n",
       "3           3            1  1408468313000             0          230\n",
       "4           4            1  1407071171000             0          162"
      ]
     },
     "metadata": {},
     "output_type": "display_data"
    },
    {
     "name": "stdout",
     "output_type": "stream",
     "text": [
      "clicks_sample\n"
     ]
    },
    {
     "data": {
      "text/html": [
       "<div>\n",
       "<style scoped>\n",
       "    .dataframe tbody tr th:only-of-type {\n",
       "        vertical-align: middle;\n",
       "    }\n",
       "\n",
       "    .dataframe tbody tr th {\n",
       "        vertical-align: top;\n",
       "    }\n",
       "\n",
       "    .dataframe thead th {\n",
       "        text-align: right;\n",
       "    }\n",
       "</style>\n",
       "<table border=\"1\" class=\"dataframe\">\n",
       "  <thead>\n",
       "    <tr style=\"text-align: right;\">\n",
       "      <th></th>\n",
       "      <th>user_id</th>\n",
       "      <th>session_id</th>\n",
       "      <th>session_start</th>\n",
       "      <th>session_size</th>\n",
       "      <th>click_article_id</th>\n",
       "      <th>click_timestamp</th>\n",
       "      <th>click_environment</th>\n",
       "      <th>click_deviceGroup</th>\n",
       "      <th>click_os</th>\n",
       "      <th>click_country</th>\n",
       "      <th>click_region</th>\n",
       "      <th>click_referrer_type</th>\n",
       "    </tr>\n",
       "  </thead>\n",
       "  <tbody>\n",
       "    <tr>\n",
       "      <th>0</th>\n",
       "      <td>0</td>\n",
       "      <td>1506825423271737</td>\n",
       "      <td>1506825423000</td>\n",
       "      <td>2</td>\n",
       "      <td>157541</td>\n",
       "      <td>1506826828020</td>\n",
       "      <td>4</td>\n",
       "      <td>3</td>\n",
       "      <td>20</td>\n",
       "      <td>1</td>\n",
       "      <td>20</td>\n",
       "      <td>2</td>\n",
       "    </tr>\n",
       "    <tr>\n",
       "      <th>1</th>\n",
       "      <td>0</td>\n",
       "      <td>1506825423271737</td>\n",
       "      <td>1506825423000</td>\n",
       "      <td>2</td>\n",
       "      <td>68866</td>\n",
       "      <td>1506826858020</td>\n",
       "      <td>4</td>\n",
       "      <td>3</td>\n",
       "      <td>20</td>\n",
       "      <td>1</td>\n",
       "      <td>20</td>\n",
       "      <td>2</td>\n",
       "    </tr>\n",
       "    <tr>\n",
       "      <th>2</th>\n",
       "      <td>1</td>\n",
       "      <td>1506825426267738</td>\n",
       "      <td>1506825426000</td>\n",
       "      <td>2</td>\n",
       "      <td>235840</td>\n",
       "      <td>1506827017951</td>\n",
       "      <td>4</td>\n",
       "      <td>1</td>\n",
       "      <td>17</td>\n",
       "      <td>1</td>\n",
       "      <td>16</td>\n",
       "      <td>2</td>\n",
       "    </tr>\n",
       "    <tr>\n",
       "      <th>3</th>\n",
       "      <td>1</td>\n",
       "      <td>1506825426267738</td>\n",
       "      <td>1506825426000</td>\n",
       "      <td>2</td>\n",
       "      <td>96663</td>\n",
       "      <td>1506827047951</td>\n",
       "      <td>4</td>\n",
       "      <td>1</td>\n",
       "      <td>17</td>\n",
       "      <td>1</td>\n",
       "      <td>16</td>\n",
       "      <td>2</td>\n",
       "    </tr>\n",
       "    <tr>\n",
       "      <th>4</th>\n",
       "      <td>2</td>\n",
       "      <td>1506825435299739</td>\n",
       "      <td>1506825435000</td>\n",
       "      <td>2</td>\n",
       "      <td>119592</td>\n",
       "      <td>1506827090575</td>\n",
       "      <td>4</td>\n",
       "      <td>1</td>\n",
       "      <td>17</td>\n",
       "      <td>1</td>\n",
       "      <td>24</td>\n",
       "      <td>2</td>\n",
       "    </tr>\n",
       "  </tbody>\n",
       "</table>\n",
       "</div>"
      ],
      "text/plain": [
       "   user_id        session_id  session_start  session_size  click_article_id  \\\n",
       "0        0  1506825423271737  1506825423000             2            157541   \n",
       "1        0  1506825423271737  1506825423000             2             68866   \n",
       "2        1  1506825426267738  1506825426000             2            235840   \n",
       "3        1  1506825426267738  1506825426000             2             96663   \n",
       "4        2  1506825435299739  1506825435000             2            119592   \n",
       "\n",
       "   click_timestamp  click_environment  click_deviceGroup  click_os  \\\n",
       "0    1506826828020                  4                  3        20   \n",
       "1    1506826858020                  4                  3        20   \n",
       "2    1506827017951                  4                  1        17   \n",
       "3    1506827047951                  4                  1        17   \n",
       "4    1506827090575                  4                  1        17   \n",
       "\n",
       "   click_country  click_region  click_referrer_type  \n",
       "0              1            20                    2  \n",
       "1              1            20                    2  \n",
       "2              1            16                    2  \n",
       "3              1            16                    2  \n",
       "4              1            24                    2  "
      ]
     },
     "metadata": {},
     "output_type": "display_data"
    },
    {
     "name": "stdout",
     "output_type": "stream",
     "text": [
      "embeddings shape\n",
      "(364047, 250)\n"
     ]
    }
   ],
   "source": [
    "print('articles_metadata')\n",
    "display(articles_metadata.head())\n",
    "print('clicks_sample')\n",
    "display(clicks_sample.head())\n",
    "print('embeddings shape')\n",
    "print(embeddings.shape)"
   ]
  },
  {
   "cell_type": "code",
   "execution_count": 5,
   "metadata": {},
   "outputs": [],
   "source": [
    "def get_click_data():\n",
    "    click_dir = 'data/clicks/clicks/'\n",
    "    columns = ['user_id','click_article_id','click_environment','click_deviceGroup'] #validate with EDA\n",
    "    return pd.concat(\n",
    "        pd.read_csv(click_dir + click_data)[columns] for click_data in tqdm(listdir('data/clicks/clicks'))\n",
    "    ).drop_duplicates()"
   ]
  },
  {
   "cell_type": "code",
   "execution_count": 6,
   "metadata": {},
   "outputs": [
    {
     "data": {
      "application/vnd.jupyter.widget-view+json": {
       "model_id": "fc103b85e07b4533943589aed820b7df",
       "version_major": 2,
       "version_minor": 0
      },
      "text/plain": [
       "HBox(children=(FloatProgress(value=0.0, max=385.0), HTML(value='')))"
      ]
     },
     "metadata": {},
     "output_type": "display_data"
    },
    {
     "name": "stdout",
     "output_type": "stream",
     "text": [
      "\n"
     ]
    }
   ],
   "source": [
    "# user_clicks = get_click_data()"
   ]
  },
  {
   "cell_type": "code",
   "execution_count": 7,
   "metadata": {},
   "outputs": [
    {
     "data": {
      "text/html": [
       "<div>\n",
       "<style scoped>\n",
       "    .dataframe tbody tr th:only-of-type {\n",
       "        vertical-align: middle;\n",
       "    }\n",
       "\n",
       "    .dataframe tbody tr th {\n",
       "        vertical-align: top;\n",
       "    }\n",
       "\n",
       "    .dataframe thead th {\n",
       "        text-align: right;\n",
       "    }\n",
       "</style>\n",
       "<table border=\"1\" class=\"dataframe\">\n",
       "  <thead>\n",
       "    <tr style=\"text-align: right;\">\n",
       "      <th></th>\n",
       "      <th>user_id</th>\n",
       "      <th>click_article_id</th>\n",
       "      <th>click_environment</th>\n",
       "      <th>click_deviceGroup</th>\n",
       "    </tr>\n",
       "  </thead>\n",
       "  <tbody>\n",
       "    <tr>\n",
       "      <th>0</th>\n",
       "      <td>0</td>\n",
       "      <td>157541</td>\n",
       "      <td>4</td>\n",
       "      <td>3</td>\n",
       "    </tr>\n",
       "    <tr>\n",
       "      <th>1</th>\n",
       "      <td>0</td>\n",
       "      <td>68866</td>\n",
       "      <td>4</td>\n",
       "      <td>3</td>\n",
       "    </tr>\n",
       "    <tr>\n",
       "      <th>2</th>\n",
       "      <td>1</td>\n",
       "      <td>235840</td>\n",
       "      <td>4</td>\n",
       "      <td>1</td>\n",
       "    </tr>\n",
       "    <tr>\n",
       "      <th>3</th>\n",
       "      <td>1</td>\n",
       "      <td>96663</td>\n",
       "      <td>4</td>\n",
       "      <td>1</td>\n",
       "    </tr>\n",
       "    <tr>\n",
       "      <th>4</th>\n",
       "      <td>2</td>\n",
       "      <td>119592</td>\n",
       "      <td>4</td>\n",
       "      <td>1</td>\n",
       "    </tr>\n",
       "  </tbody>\n",
       "</table>\n",
       "</div>"
      ],
      "text/plain": [
       "  user_id click_article_id click_environment click_deviceGroup\n",
       "0       0           157541                 4                 3\n",
       "1       0            68866                 4                 3\n",
       "2       1           235840                 4                 1\n",
       "3       1            96663                 4                 1\n",
       "4       2           119592                 4                 1"
      ]
     },
     "metadata": {},
     "output_type": "display_data"
    },
    {
     "data": {
      "text/plain": [
       "user_id              322897\n",
       "click_article_id      46033\n",
       "click_environment         3\n",
       "click_deviceGroup         5\n",
       "dtype: int64"
      ]
     },
     "metadata": {},
     "output_type": "display_data"
    }
   ],
   "source": [
    "display(user_clicks.head(),user_clicks.nunique())"
   ]
  },
  {
   "cell_type": "markdown",
   "metadata": {},
   "source": [
    "# Model 1: User Latent Vectors"
   ]
  },
  {
   "cell_type": "code",
   "execution_count": 10,
   "metadata": {},
   "outputs": [],
   "source": [
    "df_x = pd.read_csv('data/df_x.csv',index_col=1)"
   ]
  },
  {
   "cell_type": "code",
   "execution_count": 6,
   "metadata": {},
   "outputs": [
    {
     "data": {
      "text/html": [
       "<div>\n",
       "<style scoped>\n",
       "    .dataframe tbody tr th:only-of-type {\n",
       "        vertical-align: middle;\n",
       "    }\n",
       "\n",
       "    .dataframe tbody tr th {\n",
       "        vertical-align: top;\n",
       "    }\n",
       "\n",
       "    .dataframe thead th {\n",
       "        text-align: right;\n",
       "    }\n",
       "</style>\n",
       "<table border=\"1\" class=\"dataframe\">\n",
       "  <thead>\n",
       "    <tr style=\"text-align: right;\">\n",
       "      <th></th>\n",
       "      <th>user_id</th>\n",
       "      <th>click_article_id</th>\n",
       "      <th>env_device</th>\n",
       "    </tr>\n",
       "  </thead>\n",
       "  <tbody>\n",
       "    <tr>\n",
       "      <th>0</th>\n",
       "      <td>1</td>\n",
       "      <td>285719</td>\n",
       "      <td>env:4 device:1</td>\n",
       "    </tr>\n",
       "    <tr>\n",
       "      <th>1</th>\n",
       "      <td>1</td>\n",
       "      <td>234481</td>\n",
       "      <td>env:4 device:1</td>\n",
       "    </tr>\n",
       "    <tr>\n",
       "      <th>2</th>\n",
       "      <td>1</td>\n",
       "      <td>235840</td>\n",
       "      <td>env:4 device:1</td>\n",
       "    </tr>\n",
       "    <tr>\n",
       "      <th>3</th>\n",
       "      <td>1</td>\n",
       "      <td>283392</td>\n",
       "      <td>env:4 device:1</td>\n",
       "    </tr>\n",
       "    <tr>\n",
       "      <th>4</th>\n",
       "      <td>1</td>\n",
       "      <td>36162</td>\n",
       "      <td>env:4 device:1</td>\n",
       "    </tr>\n",
       "  </tbody>\n",
       "</table>\n",
       "</div>"
      ],
      "text/plain": [
       "   user_id  click_article_id      env_device\n",
       "0        1            285719  env:4 device:1\n",
       "1        1            234481  env:4 device:1\n",
       "2        1            235840  env:4 device:1\n",
       "3        1            283392  env:4 device:1\n",
       "4        1             36162  env:4 device:1"
      ]
     },
     "execution_count": 6,
     "metadata": {},
     "output_type": "execute_result"
    }
   ],
   "source": [
    "df_x.head()"
   ]
  },
  {
   "cell_type": "code",
   "execution_count": 50,
   "metadata": {},
   "outputs": [],
   "source": [
    "class LinearModel:\n",
    "    def __init__(self, user_data, item_embeddings, size=8, embeddings_size=250, T=1):\n",
    "        self.user_data = user_data\n",
    "        self.item_embeddings = item_embeddings\n",
    "        self.T = T\n",
    "        self.Vd = LinearModel.d.get_embedding_vectors(\n",
    "            item_embeddings, user_data, size, embeddings_size=embeddings_size\n",
    "        )\n",
    "        self.U = self.initialize_user_vectors(\n",
    "            size=size,embeddings_size=embeddings_size\n",
    "        )\n",
    "        self.reset_errors()\n",
    "        \n",
    "    def initialize_user_vectors(self,size,embeddings_size=250):\n",
    "        return np.mean(LinearModel.d.get_embedding_vectors(\n",
    "            self.item_embeddings,\n",
    "            self.user_data,\n",
    "            size,\n",
    "            embeddings_size=embeddings_size\n",
    "        ),axis=1) #[:,np.newaxis]\n",
    "        \n",
    "    def reset_errors(self):\n",
    "        #this is for tracking in steps of SGD\n",
    "        self.errors = []\n",
    "    \n",
    "    #############################\n",
    "    ###### SEEN AND UNSEEN ######\n",
    "    #############################\n",
    "    \n",
    "    class d:\n",
    "        @staticmethod\n",
    "        def get_embedding_vectors(V_embeddings, df, size, embeddings_size=250):\n",
    "            return np.hstack(V_embeddings[df.click_article_id.to_list()]).reshape(-1,size,embeddings_size)\n",
    "    \n",
    "    class dbar:\n",
    "        @staticmethod\n",
    "        def get_unseen(df, u, size, len_):\n",
    "            return np.random.choice(\n",
    "                np.delete(\n",
    "                    np.arange(len_),\n",
    "                    df[df.index.get_level_values(0)==u].click_article_id,\n",
    "                ),\n",
    "                size=size,\n",
    "            )\n",
    "        \n",
    "        @staticmethod\n",
    "        def get_all_unseen(df, size, len_=364047):            \n",
    "            #semi-vectorized version\n",
    "            \n",
    "            return df.user_id.drop_duplicates().map(\n",
    "                lambda u: LinearModel.dbar.get_unseen(df, u, size, len_)\n",
    "            )\n",
    "            \n",
    "#             return np.hstack(pd.DataFrame(\n",
    "#                 df.index.get_level_values(0)\n",
    "#             ).drop_duplicates().user_id.map(\n",
    "#                 lambda u: LinearModel.dbar.get_unseen(df, u, size, len_)\n",
    "#             ))\n",
    "        \n",
    "        @staticmethod\n",
    "        def get_embedding_vectors(V_embeddings, df, size, embeddings_size=250, len_=36047):\n",
    "            return np.hstack(\n",
    "                V_embeddings[LinearModel.dbar.get_all_unseen(df,size,len_=len_).tolist()]\n",
    "            ).reshape(\n",
    "                -1,\n",
    "                size,\n",
    "                embeddings_size\n",
    "            )\n",
    "    \n",
    "    #########################\n",
    "    ##### SGD UTILITIES #####\n",
    "    #########################\n",
    "    \n",
    "    class gradient: \n",
    "        @staticmethod\n",
    "        def J(U,Vd,Vdbar, size=8, embedding_size=250,hinge_param=1):\n",
    "            cost = hinge_param + np.tensordot(U,Vdbar,axes=(1,2))[0] - np.tensordot(U,Vd,axes=(1,2))[0]\n",
    "            return np.sum(\n",
    "                np.max(\n",
    "                    [np.zeros((U.shape[0],size)), cost], axis = 0\n",
    "                )\n",
    "            )\n",
    "        \n",
    "        @staticmethod\n",
    "        def dJ(U,Vd,Vdbar,size=8,embedding_size=250,hinge_param=1):\n",
    "            #conditional derivitive\n",
    "            \n",
    "            return np.sum(\n",
    "                (\n",
    "                    hinge_param + np.tensordot(U,Vdbar,axes=(1,2))[0]\n",
    "                    - np.tensordot(U,Vd,axes=(1,2))[0] < 0\n",
    "                ).repeat(\n",
    "                    embedding_size\n",
    "                ).reshape(-1,size,embedding_size) * (Vdbar - Vd),\n",
    "                axis=1\n",
    "            )\n",
    "    \n",
    "    ##### STOCHASTIC GRADIENT DESCENT ####\n",
    "    \n",
    "    \n",
    "    def SGD_vectorized(\n",
    "        self,\n",
    "        alpha=0.1,\n",
    "        size=8,\n",
    "        test_size=128,\n",
    "        embeddings_size=250,\n",
    "        test=True,\n",
    "        hinge_param=1,\n",
    "        iteration=0,\n",
    "        max_iterations=500\n",
    "    ):\n",
    "        #Stochastic Gradient Descent\n",
    "\n",
    "        \n",
    "        #resample stuff\n",
    "        Vdbar_small = LinearModel.dbar.get_embedding_vectors(\n",
    "            self.item_embeddings,\n",
    "            self.user_data,\n",
    "            size,\n",
    "            embeddings_size=embeddings_size,\n",
    "        )\n",
    "\n",
    "        self.U = self.U - alpha * self.__class__.gradient.dJ(\n",
    "            self.U,\n",
    "            self.Vd,\n",
    "            Vdbar_small,\n",
    "        )\n",
    "        \n",
    "        \n",
    "        while True:\n",
    "            if test == True:\n",
    "                Vdbar_big = self.__class__.dbar.get_embedding_vectors(\n",
    "                    self.item_embeddings,\n",
    "                    self.user_data,\n",
    "                    test_size,\n",
    "                    embeddings_size=embeddings_size,\n",
    "                )\n",
    "                \n",
    "                J = self.__class__.gradient.J(\n",
    "                    self.U,\n",
    "                    self.Vd.repeat(test_size/size,axis=1),\n",
    "                    Vdbar_big,\n",
    "                    size=test_size,\n",
    "                    embedding_size=250,\n",
    "                    hinge_param=1\n",
    "                )\n",
    "                # the Vd reshape still needs to be fixed\n",
    "                \n",
    "                self.errors.append(J)\n",
    "                \n",
    "            if iteration == max_iterations:\n",
    "                #stop iterating\n",
    "                #display errors\n",
    "                if test == True:\n",
    "                    sns.lineplot(\n",
    "                        x = range(len(self.errors)),\n",
    "                        y = self.errors\n",
    "                    )\n",
    "                    plt.figure(figsize=(12,12))\n",
    "                    plt.show()\n",
    "                return self.U\n",
    "            #print(iteration)\n",
    "            iteration += 1\n",
    "            return self.SGD_vectorized(\n",
    "                alpha=alpha, \n",
    "                size=size,\n",
    "                test_size=test_size,\n",
    "                embeddings_size=embeddings_size,\n",
    "                test=test, \n",
    "                hinge_param=hinge_param,\n",
    "                iteration=iteration, \n",
    "                max_iterations=max_iterations)"
   ]
  },
  {
   "cell_type": "code",
   "execution_count": 61,
   "metadata": {
    "scrolled": true
   },
   "outputs": [
    {
     "name": "stdout",
     "output_type": "stream",
     "text": [
      "[-0.26824254 -0.9636772  -0.28512946 -0.32596728 -0.34310314 -0.2655414\n",
      " -0.25597954  0.02330121  0.22115023 -0.15524353]\n",
      "[-0.26821402 -0.9636783  -0.2858261  -0.32598576 -0.34421983 -0.266245\n",
      " -0.2562221   0.02376688  0.22168222 -0.15577614]\n"
     ]
    }
   ],
   "source": [
    "lm = LinearModel(df_x,embeddings,size=8, embeddings_size=250, T=1)\n",
    "print(lm.U[0,0:10])\n",
    "lm.SGD_vectorized(test=False,alpha=0.0001, max_iterations=1, test_size=128)\n",
    "print(lm.U[0,0:10])"
   ]
  },
  {
   "cell_type": "code",
   "execution_count": 70,
   "metadata": {},
   "outputs": [
    {
     "data": {
      "text/plain": [
       "10040.680805206299"
      ]
     },
     "execution_count": 70,
     "metadata": {},
     "output_type": "execute_result"
    }
   ],
   "source": [
    "#lm.gradient.J(lm.U,lm.Vd.repeat(128/8,axis=1),Vdbar_big,size=128)"
   ]
  },
  {
   "cell_type": "code",
   "execution_count": 63,
   "metadata": {},
   "outputs": [],
   "source": [
    "Vdbar_big = LinearModel.dbar.get_embedding_vectors(\n",
    "                    lm.item_embeddings,\n",
    "                    lm.user_data,\n",
    "                    128,\n",
    "                    embeddings_size=250,\n",
    "                )"
   ]
  },
  {
   "cell_type": "markdown",
   "metadata": {},
   "source": [
    "#### Test out Pipeline"
   ]
  },
  {
   "cell_type": "code",
   "execution_count": 464,
   "metadata": {},
   "outputs": [
    {
     "name": "stdout",
     "output_type": "stream",
     "text": [
      "[-0.26824254 -0.9636772  -0.28512946 -0.32596728 -0.34310314 -0.2655414\n",
      " -0.25597954  0.02330121  0.22115023 -0.15524353]\n"
     ]
    },
    {
     "data": {
      "image/png": "[encoded data removed]",
      "text/plain": [
       "<Figure size 432x288 with 1 Axes>"
      ]
     },
     "metadata": {
      "needs_background": "light"
     },
     "output_type": "display_data"
    },
    {
     "data": {
      "text/plain": [
       "<Figure size 864x864 with 0 Axes>"
      ]
     },
     "metadata": {},
     "output_type": "display_data"
    },
    {
     "name": "stdout",
     "output_type": "stream",
     "text": [
      "[-0.27801982 -0.9623268  -0.49310172 -0.31463042 -0.6781039  -0.49896726\n",
      " -0.28303772  0.17476548  0.4069675  -0.29527503]\n"
     ]
    }
   ],
   "source": [
    "lm = LinearModel(df_x,embeddings,size=8, embeddings_size=250, T=1)\n",
    "print(lm.U[0,0:10])\n",
    "lm.SGD_vectorized(test=True,alpha=0.0001, max_iterations=700, test_size=128)\n",
    "print(lm.U[0,0:10])"
   ]
  },
  {
   "cell_type": "markdown",
   "metadata": {},
   "source": [
    "The function minimizes at around 250 iterations.  From now on we'll just stop there for the linear model."
   ]
  },
  {
   "cell_type": "markdown",
   "metadata": {},
   "source": [
    "#### Predict Articles & Train/Test Validation"
   ]
  },
  {
   "cell_type": "code",
   "execution_count": null,
   "metadata": {},
   "outputs": [],
   "source": []
  },
  {
   "cell_type": "markdown",
   "metadata": {},
   "source": [
    "# Model 2: Multiple User Latent Vectors"
   ]
  },
  {
   "cell_type": "code",
   "execution_count": 77,
   "metadata": {},
   "outputs": [],
   "source": [
    "class NonlinearModel(LinearModel):\n",
    "    def initialize_user_vectors(self,size,embeddings_size):\n",
    "        '''\n",
    "        sets self.U in parent class __init__\n",
    "        '''\n",
    "        starting_vectors = LinearModel.d.get_embedding_vectors(\n",
    "            self.item_embeddings,\n",
    "            self.user_data,\n",
    "            size,\n",
    "            embeddings_size=embeddings_size\n",
    "        )\n",
    "        \n",
    "        return NonlinearModel.Cluster.k_means(starting_vectors,self.T)\n",
    "    \n",
    "    \n",
    "    class Cluster():\n",
    "        @staticmethod\n",
    "        def starting_centroids(points,T):\n",
    "            '''\n",
    "            initialize centroids by randomly picking an item for each user\n",
    "            '''\n",
    "            starter_idx = np.random.rand(points.shape[0],T).argsort(axis=-1)[:,0:T,np.newaxis]\n",
    "            return np.take_along_axis(\n",
    "                points,\n",
    "                starter_idx,\n",
    "                axis=1\n",
    "            )\n",
    "\n",
    "        @staticmethod\n",
    "        def closest_centroid(points, centroids):\n",
    "            '''\n",
    "            find the closest centroid to each point\n",
    "            '''\n",
    "            return np.argmin(\n",
    "                np.square(\n",
    "                    np.sum(\n",
    "                        np.square(points[:,:,np.newaxis] - centroids[:,np.newaxis]),\n",
    "                        axis=3\n",
    "                    ),\n",
    "                ),\n",
    "                axis=2\n",
    "            )\n",
    "\n",
    "        @staticmethod\n",
    "        def move_centroids(points,closest,k):\n",
    "            '''\n",
    "            find new centroid based on cluster center from cluster_centroid\n",
    "            '''\n",
    "            weights = np.equal(\n",
    "                np.arange(k)[np.newaxis,:,np.newaxis],\n",
    "                closest[:,np.newaxis,:]\n",
    "            )\n",
    "\n",
    "            weights = np.repeat(weights[:,:,:,np.newaxis],points.shape[2],axis=3)\n",
    "\n",
    "            points = np.repeat(points[:,np.newaxis],k,axis=1)\n",
    "\n",
    "            return np.average(\n",
    "                points,\n",
    "                weights = weights,\n",
    "                axis=2\n",
    "            )\n",
    "\n",
    "        @staticmethod\n",
    "        def k_means(starting_vectors,k):\n",
    "            '''\n",
    "            Description Here\n",
    "            '''\n",
    "            def iterative_kmeans(starting_vectors,old_centroids, new_centroids,k):\n",
    "                while True:\n",
    "                    if np.all(new_centroids == old_centroids):\n",
    "                        return new_centroids\n",
    "                    else:\n",
    "                        old_centroids = new_centroids\n",
    "                        new_centroids = NonlinearModel.Cluster.move_centroids(\n",
    "                            starting_vectors,\n",
    "                            NonlinearModel.Cluster.closest_centroid(\n",
    "                                starting_vectors,\n",
    "                                old_centroids\n",
    "                                ),                                           \n",
    "                            k,\n",
    "                        )\n",
    "                        iterative_kmeans(starting_vectors,old_centroids,new_centroids,k)\n",
    "            starting_centroids = NonlinearModel.Cluster.starting_centroids(starting_vectors,k)\n",
    "            return iterative_kmeans(\n",
    "                starting_vectors,\n",
    "                np.zeros(starting_centroids.shape),\n",
    "                starting_centroids,\n",
    "                k\n",
    "            )\n",
    "    \n",
    "\n",
    "    class gradient():\n",
    "        @staticmethod\n",
    "        def argmax_indices(U,Vd):\n",
    "            '''\n",
    "            get which interest unit per user, per item, is best for each of their relevant items, d\n",
    "            output of tensor dot should be 100 x 8 x 3\n",
    "            output of argmax should be 100 x 8\n",
    "            '''\n",
    "            return np.argmax(\n",
    "                np.tensordot(\n",
    "                    Vd,\n",
    "                    U,\n",
    "                    axes=(2,2)\n",
    "                )[:,:,0],\n",
    "                axis=2\n",
    "            )\n",
    "        \n",
    "        @staticmethod\n",
    "        def dJi(Ui,argmax_indices,Vd,Vdbar,T,hinge_param=1):\n",
    "            # Ui has only the relevant vector, U has all vectors\n",
    "            cond = hinge_param + np.tensordot(Ui,Vdbar,axes=(2,2))[0,0] - np.tensordot(Ui,Vd,axes=(2,2))[0,0] > 0\n",
    "            g = Vdbar - Vd\n",
    "            partial_gradient = g * cond[:,:,np.newaxis]\n",
    "            broadcast_gradient=partial_gradient[:,np.newaxis].repeat(T,axis=1)\n",
    "            boolean_matrix = np.equal(argmax_indices[:,np.newaxis],np.arange(T)[np.newaxis,:,np.newaxis])\n",
    "            return np.sum(broadcast_gradient * boolean_matrix[:,:,:,np.newaxis], axis=2)\n",
    "        \n",
    "        @staticmethod\n",
    "        def J(Ui,Vd,Vdbar,hinge_param=1):\n",
    "            cost = hinge_param + np.tensordot(Ui,Vdbar,axes=(2,2))[0,0] - np.tensordot(Ui,Vd,axes=(2,2))[0,0]\n",
    "            return np.sum(\n",
    "                np.max(\n",
    "                    [np.zeros((cost.shape[0],cost.shape[1])), cost], axis = 1\n",
    "                )\n",
    "            )\n",
    "\n",
    "        \n",
    "    def get_Vdbar_test(self,test_size=128,embeddings_size=250):\n",
    "        self.Vdbar_test = LinearModel.dbar.get_embedding_vectors(\n",
    "                self.item_embeddings,\n",
    "                self.user_data,\n",
    "                test_size,\n",
    "                embeddings_size=embeddings_size,\n",
    "            )\n",
    "        \n",
    "        \n",
    "\n",
    "    def gradient_descent(\n",
    "        self,\n",
    "        alpha=0.01,\n",
    "        size=8,\n",
    "        test_size=128,\n",
    "        embeddings_size=250,\n",
    "        test=True,\n",
    "        hinge_param=1,\n",
    "        iteration=0,\n",
    "        max_iterations=500\n",
    "    ):\n",
    "\n",
    "        argmax_indices = NonlinearModel.gradient.argmax_indices(self.U,self.Vd)\n",
    "        \n",
    "        Ui = np.take_along_axis(\n",
    "            self.U,\n",
    "            argmax_indices[:,:,np.newaxis],\n",
    "            axis=1\n",
    "        )\n",
    "        \n",
    "        Vdbar = LinearModel.dbar.get_embedding_vectors(\n",
    "            self.item_embeddings,\n",
    "            self.user_data,\n",
    "            size,\n",
    "            embeddings_size=embeddings_size,\n",
    "        )\n",
    "        \n",
    "        self.U -= alpha * NonlinearModel.gradient.dJi(Ui,argmax_indices,self.Vd,Vdbar,self.T,hinge_param=hinge_param)\n",
    "        \n",
    "        if test == True:\n",
    "            #get Vdbar\n",
    "            Vdbar_test = LinearModel.dbar.get_embedding_vectors(\n",
    "                self.item_embeddings,\n",
    "                self.user_data,\n",
    "                test_size,\n",
    "                embeddings_size=embeddings_size,\n",
    "            )\n",
    "            \n",
    "            \n",
    "            \n",
    "            self.errors.append(\n",
    "                NonlinearModel.gradient.J(Ui,self.Vd.repeat(test_size/size,axis=1),Vdbar_test,hinge_param=1)\n",
    "            )\n",
    "        \n",
    "        if iteration == max_iterations:\n",
    "                if test == True:\n",
    "                    \n",
    "                    plt.figure(figsize=(8,8))\n",
    "                    plt.xlabel('Iterations')\n",
    "                    sns.lineplot(\n",
    "                        x = range(len(self.errors)),\n",
    "                        y = self.errors\n",
    "                    )\n",
    "                    \n",
    "                    return None\n",
    "        iteration += 1\n",
    "        return self.gradient_descent(\n",
    "            alpha=alpha,\n",
    "            size=size,\n",
    "            test_size=test_size,\n",
    "            embeddings_size=embeddings_size,\n",
    "            test=test,\n",
    "            hinge_param=hinge_param,\n",
    "            iteration=iteration,\n",
    "            max_iterations=max_iterations\n",
    "    )"
   ]
  },
  {
   "cell_type": "code",
   "execution_count": 78,
   "metadata": {
    "scrolled": true
   },
   "outputs": [
    {
     "name": "stdout",
     "output_type": "stream",
     "text": [
      "[[[-0.74489444 -0.9759404  -0.10147402 -0.6200682   0.51618963\n",
      "   -0.69584805 -0.8509393  -0.46953222 -0.18671893 -0.24468184]\n",
      "  [-0.17544651 -0.96443594 -0.39712495 -0.33618933 -0.600052\n",
      "   -0.15748608  0.04113682  0.23707631  0.40863785 -0.23152971]\n",
      "  [-0.2619067  -0.95564866 -0.09696842 -0.15336168 -0.1303774\n",
      "   -0.32052627 -0.70129055 -0.26471984 -0.04363419  0.08019106]]\n",
      "\n",
      " [[-0.01822627 -0.9758252   0.01635072 -0.2095287   0.33066216\n",
      "    0.40725863 -0.46353662  0.13159062  0.13599807  0.07828031]\n",
      "  [-0.4161826  -0.9515526  -0.70721817 -0.35332608 -0.46397176\n",
      "   -0.46107623 -0.01496874  0.13292405  0.10782699 -0.05927507]\n",
      "  [-0.7325373  -0.96766305 -0.09027462 -0.32052195  0.18329333\n",
      "   -0.5133871  -0.8349372  -0.37324986  0.06730877 -0.36316052]]\n",
      "\n",
      " [[ 0.47296467 -0.96945536  0.6497112  -0.04868345 -0.67591786\n",
      "    0.36545628  0.1807253  -0.06559411  0.60061777  0.03808278]\n",
      "  [-0.8781724  -0.9730115  -0.48529786 -0.656459    0.49163517\n",
      "    0.8340941  -0.06931647 -0.04868101 -0.49173522 -0.88302994]\n",
      "  [-0.10823651 -0.9579061   0.01928287 -0.06234186 -0.24299717\n",
      "   -0.18037988 -0.27496934  0.04216117  0.23344812 -0.07529636]]]\n"
     ]
    }
   ],
   "source": [
    "nm = NonlinearModel(df_x,embeddings,size=8, embeddings_size=250, T=3)\n",
    "print(nm.U[0:3,:,0:10])"
   ]
  },
  {
   "cell_type": "code",
   "execution_count": 89,
   "metadata": {},
   "outputs": [
    {
     "name": "stdout",
     "output_type": "stream",
     "text": [
      "136.286878824234 seconds\n"
     ]
    },
    {
     "data": {
      "image/png": "[encoded data removed]",
      "text/plain": [
       "<Figure size 576x576 with 1 Axes>"
      ]
     },
     "metadata": {
      "needs_background": "light"
     },
     "output_type": "display_data"
    }
   ],
   "source": [
    "nm = NonlinearModel(df_x,embeddings,size=8, embeddings_size=250, T=3)\n",
    "nm.reset_errors()\n",
    "start = time()\n",
    "nm.gradient_descent(test=True,alpha=0.001, max_iterations=600, test_size=64, hinge_param = 25)\n",
    "print(time() - start, 'seconds')"
   ]
  },
  {
   "cell_type": "code",
   "execution_count": 90,
   "metadata": {},
   "outputs": [
    {
     "name": "stdout",
     "output_type": "stream",
     "text": [
      "130.46239280700684 seconds\n"
     ]
    },
    {
     "data": {
      "image/png": "[encoded data removed]",
      "text/plain": [
       "<Figure size 576x576 with 1 Axes>"
      ]
     },
     "metadata": {
      "needs_background": "light"
     },
     "output_type": "display_data"
    }
   ],
   "source": [
    "nm = NonlinearModel(df_x,embeddings,size=8, embeddings_size=250, T=3)\n",
    "nm.reset_errors()\n",
    "start = time()\n",
    "nm.gradient_descent(test=True,alpha=0.001, max_iterations=600, test_size=64, hinge_param = 1)\n",
    "print(time() - start, 'seconds')"
   ]
  },
  {
   "cell_type": "code",
   "execution_count": null,
   "metadata": {},
   "outputs": [],
   "source": []
  },
  {
   "cell_type": "code",
   "execution_count": null,
   "metadata": {},
   "outputs": [],
   "source": []
  },
  {
   "cell_type": "code",
   "execution_count": null,
   "metadata": {},
   "outputs": [],
   "source": []
  },
  {
   "cell_type": "code",
   "execution_count": null,
   "metadata": {},
   "outputs": [],
   "source": []
  },
  {
   "cell_type": "code",
   "execution_count": null,
   "metadata": {},
   "outputs": [],
   "source": []
  },
  {
   "cell_type": "markdown",
   "metadata": {},
   "source": [
    "# Testing area below"
   ]
  },
  {
   "cell_type": "code",
   "execution_count": 90,
   "metadata": {},
   "outputs": [
    {
     "data": {
      "text/plain": [
       "2767.027423143387"
      ]
     },
     "execution_count": 90,
     "metadata": {},
     "output_type": "execute_result"
    }
   ],
   "source": [
    "NonlinearModel.gradient.J(Ui, Vd, Vdbar, hinge_param=1)"
   ]
  },
  {
   "cell_type": "code",
   "execution_count": 35,
   "metadata": {},
   "outputs": [],
   "source": [
    "def dJi(Ui,Vd,Vdbar,argmax_indices):\n",
    "    cond = 1 + np.tensordot(Ui,Vdbar,axes=(2,2))[0,0] - np.tensordot(Ui,Vd,axes=(2,2))[0,0] > 0\n",
    "    g = Vdbar - Vd\n",
    "    partial_gradient = g * cond[:,:,np.newaxis]\n",
    "    broadcast_gradient=partial_gradient[:,np.newaxis].repeat(T,axis=1)\n",
    "    boolean_matrix = np.equal(argmax_indices[:,np.newaxis],np.arange(T)[np.newaxis,:,np.newaxis])\n",
    "    return np.sum(broadcast_gradient * boolean_matrix[:,:,:,np.newaxis], axis=2)"
   ]
  },
  {
   "cell_type": "code",
   "execution_count": 81,
   "metadata": {},
   "outputs": [
    {
     "data": {
      "text/plain": [
       "(100, 250)"
      ]
     },
     "execution_count": 81,
     "metadata": {},
     "output_type": "execute_result"
    }
   ],
   "source": [
    "lm.U.shape"
   ]
  },
  {
   "cell_type": "code",
   "execution_count": 83,
   "metadata": {},
   "outputs": [
    {
     "data": {
      "text/plain": [
       "(100, 8, 250)"
      ]
     },
     "execution_count": 83,
     "metadata": {},
     "output_type": "execute_result"
    }
   ],
   "source": [
    "Ui.shape"
   ]
  },
  {
   "cell_type": "code",
   "execution_count": null,
   "metadata": {},
   "outputs": [],
   "source": [
    "lm.gradient.J(lm.U,lm.Vd.repeat(128/8,axis=1),Vdbar_big,size=128)"
   ]
  },
  {
   "cell_type": "code",
   "execution_count": 74,
   "metadata": {
    "collapsed": true
   },
   "outputs": [
    {
     "ename": "ValueError",
     "evalue": "shape-mismatch for sum",
     "output_type": "error",
     "traceback": [
      "\u001b[0;31m---------------------------------------------------------------------------\u001b[0m",
      "\u001b[0;31mValueError\u001b[0m                                Traceback (most recent call last)",
      "\u001b[0;32m<ipython-input-74-1bcba94335c8>\u001b[0m in \u001b[0;36m<module>\u001b[0;34m\u001b[0m\n\u001b[0;32m----> 1\u001b[0;31m \u001b[0mLinearModel\u001b[0m\u001b[0;34m.\u001b[0m\u001b[0mgradient\u001b[0m\u001b[0;34m.\u001b[0m\u001b[0mJ\u001b[0m\u001b[0;34m(\u001b[0m\u001b[0mU\u001b[0m\u001b[0;34m,\u001b[0m \u001b[0mVd\u001b[0m\u001b[0;34m.\u001b[0m\u001b[0mrepeat\u001b[0m\u001b[0;34m(\u001b[0m\u001b[0;36m128\u001b[0m\u001b[0;34m/\u001b[0m\u001b[0;36m8\u001b[0m\u001b[0;34m,\u001b[0m\u001b[0maxis\u001b[0m\u001b[0;34m=\u001b[0m\u001b[0;36m1\u001b[0m\u001b[0;34m)\u001b[0m\u001b[0;34m,\u001b[0m \u001b[0mVdbar_big\u001b[0m\u001b[0;34m,\u001b[0m \u001b[0msize\u001b[0m\u001b[0;34m=\u001b[0m\u001b[0;36m128\u001b[0m\u001b[0;34m,\u001b[0m \u001b[0membedding_size\u001b[0m\u001b[0;34m=\u001b[0m\u001b[0;36m250\u001b[0m\u001b[0;34m,\u001b[0m \u001b[0mhinge_param\u001b[0m\u001b[0;34m=\u001b[0m\u001b[0;36m1\u001b[0m\u001b[0;34m)\u001b[0m\u001b[0;34m\u001b[0m\u001b[0;34m\u001b[0m\u001b[0m\n\u001b[0m",
      "\u001b[0;32m<ipython-input-60-beae4628e181>\u001b[0m in \u001b[0;36mJ\u001b[0;34m(U, Vd, Vdbar, size, embedding_size, hinge_param)\u001b[0m\n\u001b[1;32m     75\u001b[0m         \u001b[0;34m@\u001b[0m\u001b[0mstaticmethod\u001b[0m\u001b[0;34m\u001b[0m\u001b[0;34m\u001b[0m\u001b[0m\n\u001b[1;32m     76\u001b[0m         \u001b[0;32mdef\u001b[0m \u001b[0mJ\u001b[0m\u001b[0;34m(\u001b[0m\u001b[0mU\u001b[0m\u001b[0;34m,\u001b[0m\u001b[0mVd\u001b[0m\u001b[0;34m,\u001b[0m\u001b[0mVdbar\u001b[0m\u001b[0;34m,\u001b[0m \u001b[0msize\u001b[0m\u001b[0;34m=\u001b[0m\u001b[0;36m8\u001b[0m\u001b[0;34m,\u001b[0m \u001b[0membedding_size\u001b[0m\u001b[0;34m=\u001b[0m\u001b[0;36m250\u001b[0m\u001b[0;34m,\u001b[0m\u001b[0mhinge_param\u001b[0m\u001b[0;34m=\u001b[0m\u001b[0;36m1\u001b[0m\u001b[0;34m)\u001b[0m\u001b[0;34m:\u001b[0m\u001b[0;34m\u001b[0m\u001b[0;34m\u001b[0m\u001b[0m\n\u001b[0;32m---> 77\u001b[0;31m             \u001b[0mcost\u001b[0m \u001b[0;34m=\u001b[0m \u001b[0mhinge_param\u001b[0m \u001b[0;34m+\u001b[0m \u001b[0mnp\u001b[0m\u001b[0;34m.\u001b[0m\u001b[0mtensordot\u001b[0m\u001b[0;34m(\u001b[0m\u001b[0mU\u001b[0m\u001b[0;34m,\u001b[0m\u001b[0mVdbar\u001b[0m\u001b[0;34m,\u001b[0m\u001b[0maxes\u001b[0m\u001b[0;34m=\u001b[0m\u001b[0;34m(\u001b[0m\u001b[0;36m1\u001b[0m\u001b[0;34m,\u001b[0m\u001b[0;36m2\u001b[0m\u001b[0;34m)\u001b[0m\u001b[0;34m)\u001b[0m\u001b[0;34m[\u001b[0m\u001b[0;36m0\u001b[0m\u001b[0;34m]\u001b[0m \u001b[0;34m-\u001b[0m \u001b[0mnp\u001b[0m\u001b[0;34m.\u001b[0m\u001b[0mtensordot\u001b[0m\u001b[0;34m(\u001b[0m\u001b[0mU\u001b[0m\u001b[0;34m,\u001b[0m\u001b[0mVd\u001b[0m\u001b[0;34m,\u001b[0m\u001b[0maxes\u001b[0m\u001b[0;34m=\u001b[0m\u001b[0;34m(\u001b[0m\u001b[0;36m1\u001b[0m\u001b[0;34m,\u001b[0m\u001b[0;36m2\u001b[0m\u001b[0;34m)\u001b[0m\u001b[0;34m)\u001b[0m\u001b[0;34m[\u001b[0m\u001b[0;36m0\u001b[0m\u001b[0;34m]\u001b[0m\u001b[0;34m\u001b[0m\u001b[0;34m\u001b[0m\u001b[0m\n\u001b[0m\u001b[1;32m     78\u001b[0m             return np.sum(\n\u001b[1;32m     79\u001b[0m                 np.max(\n",
      "\u001b[0;32m<__array_function__ internals>\u001b[0m in \u001b[0;36mtensordot\u001b[0;34m(*args, **kwargs)\u001b[0m\n",
      "\u001b[0;32m/Library/Frameworks/Python.framework/Versions/3.7/lib/python3.7/site-packages/numpy/core/numeric.py\u001b[0m in \u001b[0;36mtensordot\u001b[0;34m(a, b, axes)\u001b[0m\n\u001b[1;32m   1074\u001b[0m                 \u001b[0maxes_b\u001b[0m\u001b[0;34m[\u001b[0m\u001b[0mk\u001b[0m\u001b[0;34m]\u001b[0m \u001b[0;34m+=\u001b[0m \u001b[0mndb\u001b[0m\u001b[0;34m\u001b[0m\u001b[0;34m\u001b[0m\u001b[0m\n\u001b[1;32m   1075\u001b[0m     \u001b[0;32mif\u001b[0m \u001b[0;32mnot\u001b[0m \u001b[0mequal\u001b[0m\u001b[0;34m:\u001b[0m\u001b[0;34m\u001b[0m\u001b[0;34m\u001b[0m\u001b[0m\n\u001b[0;32m-> 1076\u001b[0;31m         \u001b[0;32mraise\u001b[0m \u001b[0mValueError\u001b[0m\u001b[0;34m(\u001b[0m\u001b[0;34m\"shape-mismatch for sum\"\u001b[0m\u001b[0;34m)\u001b[0m\u001b[0;34m\u001b[0m\u001b[0;34m\u001b[0m\u001b[0m\n\u001b[0m\u001b[1;32m   1077\u001b[0m \u001b[0;34m\u001b[0m\u001b[0m\n\u001b[1;32m   1078\u001b[0m     \u001b[0;31m# Move the axes to sum over to the end of \"a\"\u001b[0m\u001b[0;34m\u001b[0m\u001b[0;34m\u001b[0m\u001b[0;34m\u001b[0m\u001b[0m\n",
      "\u001b[0;31mValueError\u001b[0m: shape-mismatch for sum"
     ]
    }
   ],
   "source": [
    "LinearModel.gradient.J(U, Vd.repeat(128/8,axis=1), Vdbar_big, size=128, embedding_size=250, hinge_param=1)"
   ]
  },
  {
   "cell_type": "code",
   "execution_count": 40,
   "metadata": {
    "collapsed": true
   },
   "outputs": [
    {
     "data": {
      "text/plain": [
       "array([[[ 0.0000000e+00,  0.0000000e+00,  0.0000000e+00,  0.0000000e+00,\n",
       "          0.0000000e+00,  0.0000000e+00,  0.0000000e+00,  0.0000000e+00,\n",
       "          0.0000000e+00,  0.0000000e+00],\n",
       "        [ 0.0000000e+00,  0.0000000e+00,  0.0000000e+00,  0.0000000e+00,\n",
       "          0.0000000e+00,  0.0000000e+00,  0.0000000e+00,  0.0000000e+00,\n",
       "          0.0000000e+00,  0.0000000e+00],\n",
       "        [-1.0740560e+00, -7.0420504e-03, -7.0973879e-01, -8.5694295e-01,\n",
       "          3.9955354e-01, -8.0459595e-01,  1.2716395e-01, -5.7623595e-02,\n",
       "          2.2868857e-01,  9.2892563e-01]],\n",
       "\n",
       "       [[ 0.0000000e+00,  0.0000000e+00,  0.0000000e+00,  0.0000000e+00,\n",
       "          0.0000000e+00,  0.0000000e+00,  0.0000000e+00,  0.0000000e+00,\n",
       "          0.0000000e+00,  0.0000000e+00],\n",
       "        [ 0.0000000e+00,  0.0000000e+00,  0.0000000e+00,  0.0000000e+00,\n",
       "          0.0000000e+00,  0.0000000e+00,  0.0000000e+00,  0.0000000e+00,\n",
       "          0.0000000e+00,  0.0000000e+00],\n",
       "        [-3.9440206e-01,  2.6915669e-03,  5.5571776e-02, -6.8139094e-01,\n",
       "          5.3080821e-01,  3.4522444e-02,  2.2022581e-01, -7.5382799e-01,\n",
       "         -8.3392149e-01, -5.2368069e-01]],\n",
       "\n",
       "       [[ 5.7837129e-02, -7.0983171e-03,  8.7770838e-01,  4.2007637e-01,\n",
       "         -3.7890154e-01, -2.3883146e-01,  6.0345531e-02, -7.3955989e-01,\n",
       "          4.2757317e-01,  1.1207998e+00],\n",
       "        [-3.0551127e-01,  1.4383197e-03, -3.8416022e-01, -2.5667715e-01,\n",
       "          7.6994181e-01,  3.4736788e-01, -6.0676765e-01,  6.7077088e-01,\n",
       "         -6.2682998e-01, -1.0354373e-01],\n",
       "        [-1.7414160e+00, -9.1204047e-03, -4.5968628e-01, -4.0324324e-01,\n",
       "          1.8262539e+00,  1.5192214e-01, -7.8709161e-01, -6.4688474e-01,\n",
       "         -1.6238809e+00, -1.4514166e-01]],\n",
       "\n",
       "       [[ 0.0000000e+00,  0.0000000e+00,  0.0000000e+00,  0.0000000e+00,\n",
       "          0.0000000e+00,  0.0000000e+00,  0.0000000e+00,  0.0000000e+00,\n",
       "          0.0000000e+00,  0.0000000e+00],\n",
       "        [ 0.0000000e+00,  0.0000000e+00,  0.0000000e+00,  0.0000000e+00,\n",
       "          0.0000000e+00,  0.0000000e+00,  0.0000000e+00,  0.0000000e+00,\n",
       "          0.0000000e+00,  0.0000000e+00],\n",
       "        [-1.8525844e+00, -3.8319409e-02,  6.9425392e-01, -1.4659784e+00,\n",
       "          4.1179952e-01,  2.1360333e+00, -3.0728596e-01, -2.4764099e+00,\n",
       "         -4.1682401e-01,  5.2552986e-01]],\n",
       "\n",
       "       [[ 0.0000000e+00,  0.0000000e+00,  0.0000000e+00,  0.0000000e+00,\n",
       "          0.0000000e+00,  0.0000000e+00,  0.0000000e+00,  0.0000000e+00,\n",
       "          0.0000000e+00,  0.0000000e+00],\n",
       "        [ 4.4450849e-01, -1.1327267e-02,  7.7268916e-01,  2.5352329e-01,\n",
       "          1.4721054e+00,  1.8135467e-01, -8.1471163e-01, -5.0808370e-01,\n",
       "         -1.6660469e+00,  1.0141889e-01],\n",
       "        [-6.6126144e-01, -1.1139393e-02,  1.6197791e+00, -1.4342880e+00,\n",
       "          1.4678845e+00,  2.0285559e+00,  3.4078121e-02, -1.8385775e+00,\n",
       "         -1.7638079e+00, -1.8738508e+00]]], dtype=float32)"
      ]
     },
     "execution_count": 40,
     "metadata": {},
     "output_type": "execute_result"
    }
   ],
   "source": [
    "dJi(Ui,Vd,Vdbar,argmax_indices)[0:5,0:3,0:10]"
   ]
  },
  {
   "cell_type": "code",
   "execution_count": 19,
   "metadata": {},
   "outputs": [],
   "source": [
    "U = nm.U\n",
    "Vd = nm.Vd\n",
    "Vdbar = LinearModel.dbar.get_embedding_vectors(\n",
    "            nm.item_embeddings,\n",
    "            nm.user_data,\n",
    "            8,\n",
    "            embeddings_size=250\n",
    "        )\n",
    "T = 3"
   ]
  },
  {
   "cell_type": "code",
   "execution_count": 20,
   "metadata": {},
   "outputs": [],
   "source": [
    "argmax_indices = NonlinearModel.gradient.argmax_indices(U,Vd)\n",
    "Ui = np.take_along_axis(\n",
    "                U,\n",
    "                argmax_indices[:,:,np.newaxis],\n",
    "                axis=1\n",
    "            )"
   ]
  },
  {
   "cell_type": "code",
   "execution_count": 679,
   "metadata": {},
   "outputs": [],
   "source": [
    "cond = 1 + np.tensordot(Ui,Vdbar,axes=(2,2))[0,0] - np.tensordot(Ui,Vd,axes=(2,2))[0,0] > 0"
   ]
  },
  {
   "cell_type": "code",
   "execution_count": 680,
   "metadata": {},
   "outputs": [],
   "source": [
    "g = Vdbar - Vd"
   ]
  },
  {
   "cell_type": "code",
   "execution_count": 686,
   "metadata": {},
   "outputs": [],
   "source": [
    "partial_gradient = g * cond[:,:,np.newaxis]"
   ]
  },
  {
   "cell_type": "code",
   "execution_count": 687,
   "metadata": {},
   "outputs": [],
   "source": [
    "m=partial_gradient[:,np.newaxis].repeat(T,axis=1)"
   ]
  },
  {
   "cell_type": "code",
   "execution_count": 688,
   "metadata": {},
   "outputs": [],
   "source": [
    "boolin = np.equal(argmax_indices[:,np.newaxis],np.arange(T)[np.newaxis,:,np.newaxis])"
   ]
  },
  {
   "cell_type": "code",
   "execution_count": 689,
   "metadata": {},
   "outputs": [],
   "source": [
    "THE_GRADIENT = np.sum(m * boolin[:,:,:,np.newaxis], axis=2)"
   ]
  },
  {
   "cell_type": "code",
   "execution_count": 690,
   "metadata": {},
   "outputs": [
    {
     "data": {
      "text/plain": [
       "(100, 3, 250)"
      ]
     },
     "execution_count": 690,
     "metadata": {},
     "output_type": "execute_result"
    }
   ],
   "source": [
    "THE_GRADIENT.shape"
   ]
  },
  {
   "cell_type": "code",
   "execution_count": null,
   "metadata": {},
   "outputs": [],
   "source": []
  }
 ],
 "metadata": {
  "kernelspec": {
   "display_name": "Python 3",
   "language": "python",
   "name": "python3"
  },
  "language_info": {
   "codemirror_mode": {
    "name": "ipython",
    "version": 3
   },
   "file_extension": ".py",
   "mimetype": "text/x-python",
   "name": "python",
   "nbconvert_exporter": "python",
   "pygments_lexer": "ipython3",
   "version": "3.7.4"
  }
 },
 "nbformat": 4,
 "nbformat_minor": 2
}

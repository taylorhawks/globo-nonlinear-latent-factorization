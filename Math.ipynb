{
 "cells": [
  {
   "cell_type": "markdown",
   "metadata": {},
   "source": [
    "## Linear Scoring Model\n",
    "$$\\large f(u,d) = {\\hat U_{u}}^\\top V_d $$"
   ]
  },
  {
   "cell_type": "markdown",
   "metadata": {},
   "source": [
    "## Nonlinear Scoring Model\n",
    "$$\\large f(u,d) = \\max_{i=1,\\dots,T} {\\hat U_{iu}}^\\top V_d $$"
   ]
  },
  {
   "cell_type": "markdown",
   "metadata": {},
   "source": [
    "## Cost Function\n",
    "$$\\large J = \\sum_{u \\in U}\\sum_{d \\in D_u}\\sum_{\\bar d \\notin D_u} L(rank_d(u)) max(0,1+f(u,\\bar d)-f(u,d)) $$"
   ]
  },
  {
   "cell_type": "markdown",
   "metadata": {},
   "source": [
    "## Modified Cost Function - Binary Scoring System\n",
    "$$\\large J = \\sum_{u \\in U}\\sum_{d \\in D_u}\\sum_{\\bar d \\notin D_u} max(0,1+f(u,\\bar d)-f(u,d)) $$"
   ]
  },
  {
   "cell_type": "markdown",
   "metadata": {},
   "source": [
    "## Gradient (Linear Model)\n",
    "$$ \\large \\nabla J_u = \\frac{\\partial J}{\\partial U_u} =  \\sum_{d \\in D_u}\\sum_{\\bar d \\notin D_u} \\begin{array}{cc}\n",
    "  \\Bigl\\{ & \n",
    "    \\begin{array}{cc}\n",
    "       V_\\bar d - V_d & 1 + U^\\top_u V_\\bar d - U^\\top_u V_ d > 0\\\\\n",
    "      0 & otherwise\n",
    "    \\end{array}\n",
    "\\end{array} $$\n"
   ]
  },
  {
   "cell_type": "markdown",
   "metadata": {},
   "source": [
    "## Gradient (Nonlinear Model)\n",
    "$$ \\large \\nabla J_{ui} = \\frac{\\partial J}{\\partial U_{ui}} =  \\sum_{d \\in D_u}\\sum_{\\bar d \\notin D_u} \\begin{array}{cc}\n",
    "  \\Bigl\\{ & \n",
    "    \\begin{array}{cc}\n",
    "       V_\\bar d - V_d & 1 + \\min\\limits_{i=1,\\dots,T}{(U^\\top_{ui} V_\\bar d - U^\\top_{ui} V_d)} > 0\\\\\n",
    "      0 & otherwise\n",
    "    \\end{array}\n",
    "\\end{array} $$"
   ]
  },
  {
   "cell_type": "markdown",
   "metadata": {},
   "source": [
    "## Gradient Descent (Linear Model) - User Vector Update\n",
    "$$ \\large U_{u}  :=  U_{u} - \\alpha \\sum_{d \\in D_u}\\sum_{\\bar d \\notin D_u} \\begin{array}{cc}\n",
    "  \\Bigl\\{ & \n",
    "    \\begin{array}{cc}\n",
    "       V_\\bar d - V_d & 1 + {U^\\top_{u} V_\\bar d - U^\\top_{u} V_ d} > 0\\\\\n",
    "      0 & otherwise\n",
    "    \\end{array}\n",
    "\\end{array} $$"
   ]
  },
  {
   "cell_type": "markdown",
   "metadata": {},
   "source": [
    "## Gradient Descent (Nonlinear Model) - User Vector Update\n",
    "$$ \\large U_{ui}  :=  U_{ui} - \\alpha \\sum_{d \\in D_u}\\sum_{\\bar d \\notin D_u} \\begin{array}{cc}\n",
    "  \\Bigl\\{ & \n",
    "    \\begin{array}{cc}\n",
    "       V_\\bar d - V_d & 1 + {U^\\top_{ui} V_\\bar d - U^\\top_{ui} V_ d} > 0\\\\\n",
    "      0 & otherwise\n",
    "    \\end{array}\n",
    "\\end{array} $$\n",
    "$$ \\Large \\text{where} ~ i = \\argmax_{i \\in U_u} U_{ui}^\\top V_d$$"
   ]
  }
 ],
 "metadata": {
  "kernelspec": {
   "display_name": "Python 3",
   "language": "python",
   "name": "python3"
  },
  "language_info": {
   "codemirror_mode": {
    "name": "ipython",
    "version": 3
   },
   "file_extension": ".py",
   "mimetype": "text/x-python",
   "name": "python",
   "nbconvert_exporter": "python",
   "pygments_lexer": "ipython3",
   "version": "3.7.4"
  }
 },
 "nbformat": 4,
 "nbformat_minor": 4
}

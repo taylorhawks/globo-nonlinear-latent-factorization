{
 "cells": [
  {
   "cell_type": "code",
   "execution_count": null,
   "metadata": {},
   "outputs": [],
   "source": [
    "#run then restart kernel\n",
    "!pip install tqdm\n",
    "!pip install seaborn==0.9.0\n",
    "!pip install numpy==1.17.3"
   ]
  },
  {
   "cell_type": "code",
   "execution_count": 1,
   "metadata": {},
   "outputs": [
    {
     "name": "stdout",
     "output_type": "stream",
     "text": [
      "3.6.5 |Anaconda, Inc.| (default, Apr 29 2018, 16:14:56) \n",
      "[GCC 7.2.0]\n"
     ]
    }
   ],
   "source": [
    "import sys\n",
    "print(sys.version)\n",
    "import warnings\n",
    "warnings.filterwarnings(\"ignore\")"
   ]
  },
  {
   "cell_type": "code",
   "execution_count": 2,
   "metadata": {},
   "outputs": [],
   "source": [
    "import pandas as pd\n",
    "import numpy as np\n",
    "import pickle\n",
    "import seaborn as sns\n",
    "import matplotlib.pyplot as plt\n",
    "from tqdm.notebook import tqdm\n",
    "from time import time\n",
    "from s3fs.core import S3FileSystem\n",
    "import psutil\n",
    "import ipywidgets\n",
    "from model import *\n",
    "from sklearn.preprocessing import normalize"
   ]
  },
  {
   "cell_type": "code",
   "execution_count": 3,
   "metadata": {},
   "outputs": [
    {
     "name": "stdout",
     "output_type": "stream",
     "text": [
      "7.391472339630127 seconds to load data.\n"
     ]
    }
   ],
   "source": [
    "start = time()\n",
    "s3 = S3FileSystem()\n",
    "embeddings = pickle.load(s3.open('s3://globo-latent/articles_embeddings.pickle'))\n",
    "df_train = pd.read_csv(s3.open('s3://globo-latent/df_train.csv'))\n",
    "df_test = pd.read_csv(s3.open('s3://globo-latent/df_test.csv'))\n",
    "print(time()-start,'seconds to load data.')"
   ]
  },
  {
   "cell_type": "code",
   "execution_count": 4,
   "metadata": {},
   "outputs": [],
   "source": [
    "#make them shorter for memory\n",
    "df_train = df_train[0:5600]\n",
    "df_test = df_test[df_test.user_id.isin(df_train.user_id.unique())]"
   ]
  },
  {
   "cell_type": "markdown",
   "metadata": {},
   "source": [
    "## Evaluate Models"
   ]
  },
  {
   "cell_type": "markdown",
   "metadata": {},
   "source": [
    "### Linear Model\n",
    "#### Unoptimized"
   ]
  },
  {
   "cell_type": "code",
   "execution_count": 17,
   "metadata": {},
   "outputs": [
    {
     "name": "stdout",
     "output_type": "stream",
     "text": [
      "28.018972158432007 seconds to sort articles by rank.\n",
      "Mean Average Precision: 0.00018016563458705186\n",
      "1.2148206233978271 seconds to evaluate.\n"
     ]
    }
   ],
   "source": [
    "lm = NonlinearModel(\n",
    "    df_train,\n",
    "    normalize(embeddings),\n",
    "    size=8,\n",
    "    embeddings_size=250,\n",
    "    T=1,\n",
    "    norm_U=True\n",
    ")\n",
    "lm.evaluate(df_test,threshold=200,max_len=1000)"
   ]
  },
  {
   "cell_type": "markdown",
   "metadata": {},
   "source": [
    "#### Optimized"
   ]
  },
  {
   "cell_type": "code",
   "execution_count": 18,
   "metadata": {},
   "outputs": [
    {
     "data": {
      "application/vnd.jupyter.widget-view+json": {
       "model_id": "da5763869392456e9f3b71361ff4945a",
       "version_major": 2,
       "version_minor": 0
      },
      "text/plain": [
       "HBox(children=(FloatProgress(value=0.0, max=300.0), HTML(value='')))"
      ]
     },
     "metadata": {},
     "output_type": "display_data"
    },
    {
     "name": "stdout",
     "output_type": "stream",
     "text": [
      "\n",
      "405.7609672546387 seconds to optimize.\n",
      "27.839640140533447 seconds to sort articles by rank.\n",
      "Mean Average Precision: 0.0003064098076500519\n",
      "1.2116141319274902 seconds to evaluate.\n"
     ]
    }
   ],
   "source": [
    "start = time()\n",
    "lm.gradient_descent_nonlinear(\n",
    "    test=False,\n",
    "    alpha=0.1,\n",
    "    max_iterations=300,\n",
    "    batch_size=16,\n",
    "    hinge_param = 0,\n",
    "    readj_interval=1,\n",
    "    norm_U = False\n",
    ")\n",
    "print(time()-start,'seconds to optimize.')\n",
    "lm.evaluate(df_test,threshold=200,max_len=1000)"
   ]
  },
  {
   "cell_type": "markdown",
   "metadata": {},
   "source": [
    "### Nonlinear Model\n",
    "#### Unoptimized"
   ]
  },
  {
   "cell_type": "code",
   "execution_count": 24,
   "metadata": {},
   "outputs": [
    {
     "name": "stdout",
     "output_type": "stream",
     "text": [
      "94.74887609481812 seconds to sort articles by rank.\n",
      "Mean Average Precision: 0.00040639661603632287\n",
      "1.201690673828125 seconds to evaluate.\n"
     ]
    }
   ],
   "source": [
    "nm3 = NonlinearModel(\n",
    "    df_train,\n",
    "    normalize(embeddings),\n",
    "    size=8,\n",
    "    embeddings_size=250,\n",
    "    T=3,\n",
    "    norm_U=True\n",
    ")\n",
    "nm3.evaluate(df_test,threshold=200,max_len=1000)"
   ]
  },
  {
   "cell_type": "markdown",
   "metadata": {},
   "source": [
    "#### Optimized"
   ]
  },
  {
   "cell_type": "code",
   "execution_count": 25,
   "metadata": {},
   "outputs": [
    {
     "data": {
      "application/vnd.jupyter.widget-view+json": {
       "model_id": "47319eb4b49f4586b54f4b5d1de353e8",
       "version_major": 2,
       "version_minor": 0
      },
      "text/plain": [
       "HBox(children=(FloatProgress(value=0.0, max=1000.0), HTML(value='')))"
      ]
     },
     "metadata": {},
     "output_type": "display_data"
    },
    {
     "name": "stdout",
     "output_type": "stream",
     "text": [
      "\n",
      "3607.254319190979 seconds to optimize.\n",
      "94.3435697555542 seconds to sort articles by rank.\n",
      "Mean Average Precision: 0.000513386224411953\n",
      "1.2039332389831543 seconds to evaluate.\n"
     ]
    }
   ],
   "source": [
    "start = time()\n",
    "nm3.gradient_descent_nonlinear(\n",
    "    test=False,\n",
    "    alpha=0.1,\n",
    "    max_iterations=1000,\n",
    "    batch_size=32,\n",
    "    hinge_param = 0.25,\n",
    "    readj_interval=1,\n",
    "    norm_U=True\n",
    ")\n",
    "print(time()-start,'seconds to optimize.')\n",
    "nm3.evaluate(df_test,threshold=200,max_len=1000)"
   ]
  }
 ],
 "metadata": {
  "kernelspec": {
   "display_name": "conda_python3",
   "language": "python",
   "name": "conda_python3"
  },
  "language_info": {
   "codemirror_mode": {
    "name": "ipython",
    "version": 3
   },
   "file_extension": ".py",
   "mimetype": "text/x-python",
   "name": "python",
   "nbconvert_exporter": "python",
   "pygments_lexer": "ipython3",
   "version": "3.6.5"
  }
 },
 "nbformat": 4,
 "nbformat_minor": 4
}
